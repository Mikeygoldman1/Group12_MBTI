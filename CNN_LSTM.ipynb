{
  "cells": [
    {
      "cell_type": "markdown",
      "metadata": {
        "id": "view-in-github",
        "colab_type": "text"
      },
      "source": [
        "<a href=\"https://colab.research.google.com/github/Mikeygoldman1/Group12_MBTI/blob/main/CNN_LSTM.ipynb\" target=\"_parent\"><img src=\"https://colab.research.google.com/assets/colab-badge.svg\" alt=\"Open In Colab\"/></a>"
      ]
    },
    {
      "cell_type": "markdown",
      "metadata": {
        "id": "H9Ocu1urmIW_"
      },
      "source": [
        "# Prediction of MBTI Personality Using a Hybrid CNN+LSTM DL Model"
      ]
    },
    {
      "cell_type": "code",
      "execution_count": null,
      "metadata": {
        "execution": {
          "iopub.execute_input": "2022-11-04T08:12:28.129863Z",
          "iopub.status.busy": "2022-11-04T08:12:28.128927Z",
          "iopub.status.idle": "2022-11-04T08:12:28.136245Z",
          "shell.execute_reply": "2022-11-04T08:12:28.135206Z",
          "shell.execute_reply.started": "2022-11-04T08:12:28.129831Z"
        },
        "id": "EmpPUCxu4u17"
      },
      "outputs": [],
      "source": [
        "import pandas as pd\n",
        "import numpy as np\n",
        "import re\n",
        "import os\n",
        "import string\n",
        "import nltk\n",
        "from random import sample\n",
        "from nltk.corpus import stopwords\n",
        "from nltk.tokenize import word_tokenize\n",
        "import seaborn as sns\n",
        "from sklearn import metrics\n",
        "from sklearn import linear_model\n",
        "from sklearn import preprocessing\n",
        "from sklearn import model_selection\n",
        "from sklearn import neighbors\n",
        "from sklearn import naive_bayes\n",
        "from sklearn import neural_network\n",
        "from sklearn.model_selection import ShuffleSplit\n",
        "import matplotlib.pyplot as plt\n",
        "import warnings\n",
        "from collections import Counter\n"
      ]
    },
    {
      "cell_type": "code",
      "source": [
        "from google.colab import drive\n",
        "drive.mount('/content/drive')"
      ],
      "metadata": {
        "id": "x2t2hbZ0mLIw"
      },
      "execution_count": null,
      "outputs": []
    },
    {
      "cell_type": "code",
      "execution_count": null,
      "metadata": {
        "execution": {
          "iopub.execute_input": "2022-11-04T08:12:28.138899Z",
          "iopub.status.busy": "2022-11-04T08:12:28.138027Z",
          "iopub.status.idle": "2022-11-04T08:12:28.742541Z",
          "shell.execute_reply": "2022-11-04T08:12:28.741882Z",
          "shell.execute_reply.started": "2022-11-04T08:12:28.138868Z"
        },
        "id": "7tJcVxt99qE4"
      },
      "outputs": [],
      "source": [
        "dataset = pd.read_csv(\"/content/drive/MyDrive/mbti_1.csv\")"
      ]
    },
    {
      "cell_type": "markdown",
      "metadata": {
        "id": "5o1_Re4DQSrw"
      },
      "source": [
        "## Preprocessing "
      ]
    },
    {
      "cell_type": "code",
      "execution_count": null,
      "metadata": {
        "colab": {
          "base_uri": "https://localhost:8080/"
        },
        "execution": {
          "iopub.execute_input": "2022-11-04T08:12:28.743805Z",
          "iopub.status.busy": "2022-11-04T08:12:28.743597Z",
          "iopub.status.idle": "2022-11-04T08:12:31.438676Z",
          "shell.execute_reply": "2022-11-04T08:12:31.437749Z",
          "shell.execute_reply.started": "2022-11-04T08:12:28.743786Z"
        },
        "id": "FPCx3sugClUz",
        "outputId": "508f32c4-66ea-47dd-e20f-8422a8a33cec"
      },
      "outputs": [
        {
          "name": "stdout",
          "output_type": "stream",
          "text": [
            "Requirement already satisfied: contractions in /usr/local/lib/python3.9/dist-packages (0.1.72)\n",
            "Requirement already satisfied: textsearch>=0.0.21 in /usr/local/lib/python3.9/dist-packages (from contractions) (0.0.24)\n",
            "Requirement already satisfied: pyahocorasick in /usr/local/lib/python3.9/dist-packages (from textsearch>=0.0.21->contractions) (1.4.4)\n",
            "Requirement already satisfied: anyascii in /usr/local/lib/python3.9/dist-packages (from textsearch>=0.0.21->contractions) (0.3.1)\n",
            "\u001b[33mWARNING: Running pip as the 'root' user can result in broken permissions and conflicting behaviour with the system package manager. It is recommended to use a virtual environment instead: https://pip.pypa.io/warnings/venv\u001b[0m\u001b[33m\n",
            "\u001b[0m"
          ]
        },
        {
          "name": "stderr",
          "output_type": "stream",
          "text": [
            "[nltk_data] Downloading package punkt to /root/nltk_data...\n",
            "[nltk_data]   Package punkt is already up-to-date!\n",
            "[nltk_data] Downloading package stopwords to /root/nltk_data...\n",
            "[nltk_data]   Package stopwords is already up-to-date!\n",
            "[nltk_data] Downloading package wordnet to /root/nltk_data...\n",
            "[nltk_data]   Package wordnet is already up-to-date!\n",
            "[nltk_data] Downloading package omw-1.4 to /root/nltk_data...\n",
            "[nltk_data]   Package omw-1.4 is already up-to-date!\n"
          ]
        }
      ],
      "source": [
        "import re\n",
        "import nltk\n",
        "!pip install contractions\n",
        "import contractions\n",
        "from nltk.tokenize import word_tokenize\n",
        "nltk.download('punkt')\n",
        "from nltk.corpus import stopwords\n",
        "nltk.download('stopwords')\n",
        "from nltk.stem import WordNetLemmatizer\n",
        "nltk.download('wordnet')\n",
        "nltk.download('omw-1.4')\n",
        "def preprocess_1(text):\n",
        "    # Lowering letters\n",
        "    text = text.lower()\n",
        "\n",
        "    # Removing emails & twitter usernames\n",
        "    text = re.sub('\\S*@\\S*', '', text)\n",
        "\n",
        "    # Expand contractions   \n",
        "    text=contractions.fix(text)\n",
        "        \n",
        "    # Removing urls (S+ matches all non whitespace chars)\n",
        "    text = re.sub(r'http\\S*', '', text)\n",
        "        \n",
        "    # Removing numbers\n",
        "    text = re.sub('[^a-zA-Z]',' ',text)\n",
        "\n",
        "    # # Remove MBTI type mentions from posts \n",
        "    # text = re.sub(r\"(intj)|(intp)|(infp)|(infj)|(istj)|(istp)|(isfp)|(isfj)|(entj)|(entp)|(enfp)|(enfj)|(estj)|(estp)|(esfp)|(esfj')\", ' ', text)\n",
        "\n",
        "    return text"
      ]
    },
    {
      "cell_type": "code",
      "execution_count": null,
      "metadata": {
        "execution": {
          "iopub.execute_input": "2022-11-04T08:12:31.441048Z",
          "iopub.status.busy": "2022-11-04T08:12:31.440800Z",
          "iopub.status.idle": "2022-11-04T08:12:31.446133Z",
          "shell.execute_reply": "2022-11-04T08:12:31.445465Z",
          "shell.execute_reply.started": "2022-11-04T08:12:31.441023Z"
        },
        "id": "ZJsNx99DCoJ_"
      },
      "outputs": [],
      "source": [
        "def preprocess_2(text):\n",
        "    # Removing all whitespaces in order to join with proper whitespace\n",
        "    word_tokens = word_tokenize(text)\n",
        "     \n",
        "\n",
        "    # Removing all stop words\n",
        "    english_stopwords = stopwords.words('english')  \n",
        "    word_tokens = [word for word in word_tokens if not word in english_stopwords] \n",
        "    \n",
        "    \n",
        "    # Lemmatize the text \n",
        "    lemmatizer = WordNetLemmatizer()\n",
        "    word_tokens = [lemmatizer.lemmatize(word) for word in word_tokens ]\n",
        "\n",
        "    return ' '.join(word_tokens)\n",
        "    "
      ]
    },
    {
      "cell_type": "code",
      "execution_count": null,
      "metadata": {
        "execution": {
          "iopub.execute_input": "2022-11-04T08:12:31.447123Z",
          "iopub.status.busy": "2022-11-04T08:12:31.446922Z",
          "iopub.status.idle": "2022-11-04T08:13:21.870823Z",
          "shell.execute_reply": "2022-11-04T08:13:21.870193Z",
          "shell.execute_reply.started": "2022-11-04T08:12:31.447104Z"
        },
        "id": "owDEcHHvCufa"
      },
      "outputs": [],
      "source": [
        "dataset['posts'] = dataset['posts'].apply(preprocess_1)\n",
        "dataset['posts'] = dataset['posts'].apply(preprocess_2)"
      ]
    },
    {
      "cell_type": "markdown",
      "metadata": {
        "id": "t9i1y5YiGic9"
      },
      "source": [
        "## Splitting Data into Train and Test sets for each Dichotomy "
      ]
    },
    {
      "cell_type": "code",
      "execution_count": null,
      "metadata": {
        "execution": {
          "iopub.execute_input": "2022-11-04T08:13:21.871902Z",
          "iopub.status.busy": "2022-11-04T08:13:21.871689Z",
          "iopub.status.idle": "2022-11-04T08:13:21.889034Z",
          "shell.execute_reply": "2022-11-04T08:13:21.888447Z",
          "shell.execute_reply.started": "2022-11-04T08:13:21.871883Z"
        },
        "id": "lk7NVdrUReSD"
      },
      "outputs": [],
      "source": [
        "from sklearn.model_selection import train_test_split\n",
        "Train_X,Test_X,Train_Y,Test_Y=model_selection.train_test_split(dataset['posts'],dataset['type'],random_state=42,test_size=0.1)\n"
      ]
    },
    {
      "cell_type": "code",
      "execution_count": null,
      "metadata": {
        "execution": {
          "iopub.execute_input": "2022-11-04T08:13:21.890450Z",
          "iopub.status.busy": "2022-11-04T08:13:21.890259Z",
          "iopub.status.idle": "2022-11-04T08:13:21.903801Z",
          "shell.execute_reply": "2022-11-04T08:13:21.903124Z",
          "shell.execute_reply.started": "2022-11-04T08:13:21.890431Z"
        },
        "id": "V45Rol0omIXI"
      },
      "outputs": [],
      "source": [
        "IE_Train_Y=Train_Y.apply(lambda x: 1 if x[0]=='I' else 0)\n",
        "NS_Train_Y=Train_Y.apply(lambda x: 1 if x[1]=='N' else 0)\n",
        "TF_Train_Y=Train_Y.apply(lambda x: 1 if x[2]=='T' else 0)\n",
        "JP_Train_Y=Train_Y.apply(lambda x: 1 if x[3]=='J' else 0)\n",
        "\n",
        "IE_Test_Y=Test_Y.apply(lambda x: 1 if x[0]=='I' else 0)\n",
        "NS_Test_Y=Test_Y.apply(lambda x: 1 if x[1]=='N' else 0)\n",
        "TF_Test_Y=Test_Y.apply(lambda x: 1 if x[2]=='T' else 0)\n",
        "JP_Test_Y=Test_Y.apply(lambda x: 1 if x[3]=='J' else 0)\n"
      ]
    },
    {
      "cell_type": "markdown",
      "metadata": {
        "id": "j3E3o4udiU9o"
      },
      "source": [
        "## Tokenizing Text and Padding"
      ]
    },
    {
      "cell_type": "code",
      "execution_count": null,
      "metadata": {
        "execution": {
          "iopub.execute_input": "2022-11-04T08:13:21.904878Z",
          "iopub.status.busy": "2022-11-04T08:13:21.904685Z",
          "iopub.status.idle": "2022-11-04T08:13:21.908672Z",
          "shell.execute_reply": "2022-11-04T08:13:21.908060Z",
          "shell.execute_reply.started": "2022-11-04T08:13:21.904861Z"
        },
        "id": "Tw3XWMWsr3kO"
      },
      "outputs": [],
      "source": [
        "import tensorflow as tf\n",
        "from tensorflow import keras\n",
        "from tensorflow.keras.preprocessing.text import Tokenizer\n",
        "from tensorflow.keras.preprocessing.sequence import pad_sequences\n",
        "from tensorflow.keras.models import Sequential\n",
        "from tensorflow.keras.layers import Embedding\n",
        "from keras import layers"
      ]
    },
    {
      "cell_type": "code",
      "execution_count": null,
      "metadata": {
        "execution": {
          "iopub.execute_input": "2022-11-04T08:13:21.909721Z",
          "iopub.status.busy": "2022-11-04T08:13:21.909533Z",
          "iopub.status.idle": "2022-11-04T08:13:36.759280Z",
          "shell.execute_reply": "2022-11-04T08:13:36.758611Z",
          "shell.execute_reply.started": "2022-11-04T08:13:21.909704Z"
        },
        "id": "l7rVVsexwtHg"
      },
      "outputs": [],
      "source": [
        "maxlen=1703\n",
        "def tokenize_sets(xTrain,xTest):\n",
        "\n",
        "  #tokenizer takes punctuation into consideration\n",
        "  tokenizer=Tokenizer(num_words=10000,oov_token=\"<OOV>\") \n",
        "  #test set must be completely unseen before\n",
        "  tokenizer.fit_on_texts(xTrain) \n",
        "  \n",
        "  # Change sentences to sequences\n",
        "  xTrain=tokenizer.texts_to_sequences(xTrain)\n",
        "  xTest=tokenizer.texts_to_sequences(xTest)\n",
        "  num_words=tokenizer.word_index\n",
        "\n",
        "  \n",
        "  # Pad data so that all sequences have the same length\n",
        "  xTrain=pad_sequences(xTrain, maxlen=maxlen,padding='post',truncating='post')\n",
        "  xTest=pad_sequences(xTest,maxlen=maxlen,padding='post',truncating='post')\n",
        " \n",
        "  return xTrain,xTest,num_words\n",
        "\n",
        "IE_Train_X,IE_Test_X,num_wordsIE=tokenize_sets(Train_X,Test_X)\n",
        "NS_Train_X,NS_Test_X,num_wordsNS=tokenize_sets(Train_X,Test_X)\n",
        "TF_Train_X,TF_Test_X,num_wordsTF=tokenize_sets(Train_X,Test_X)\n",
        "JP_Train_X,JP_Test_X,num_wordsJP=tokenize_sets(Train_X,Test_X)"
      ]
    },
    {
      "cell_type": "markdown",
      "metadata": {
        "id": "16TiTW0CmIXK"
      },
      "source": [
        "## Sampling to deal with imbalanced data "
      ]
    },
    {
      "cell_type": "code",
      "execution_count": null,
      "metadata": {
        "execution": {
          "iopub.execute_input": "2022-11-04T08:13:36.762076Z",
          "iopub.status.busy": "2022-11-04T08:13:36.761853Z",
          "iopub.status.idle": "2022-11-04T08:13:39.311546Z",
          "shell.execute_reply": "2022-11-04T08:13:39.310490Z",
          "shell.execute_reply.started": "2022-11-04T08:13:36.762056Z"
        },
        "id": "ACxsA4j6mIXK",
        "outputId": "6d568f32-5498-473d-b884-a09b900d4abb"
      },
      "outputs": [
        {
          "name": "stdout",
          "output_type": "stream",
          "text": [
            "Requirement already satisfied: imblearn in /usr/local/lib/python3.9/dist-packages (0.0)\n",
            "Requirement already satisfied: imbalanced-learn in /usr/local/lib/python3.9/dist-packages (from imblearn) (0.9.1)\n",
            "Requirement already satisfied: scikit-learn>=1.1.0 in /usr/local/lib/python3.9/dist-packages (from imbalanced-learn->imblearn) (1.1.1)\n",
            "Requirement already satisfied: scipy>=1.3.2 in /usr/local/lib/python3.9/dist-packages (from imbalanced-learn->imblearn) (1.8.1)\n",
            "Requirement already satisfied: threadpoolctl>=2.0.0 in /usr/local/lib/python3.9/dist-packages (from imbalanced-learn->imblearn) (3.1.0)\n",
            "Requirement already satisfied: joblib>=1.0.0 in /usr/local/lib/python3.9/dist-packages (from imbalanced-learn->imblearn) (1.1.0)\n",
            "Requirement already satisfied: numpy>=1.17.3 in /usr/local/lib/python3.9/dist-packages (from imbalanced-learn->imblearn) (1.23.1)\n",
            "\u001b[33mWARNING: Running pip as the 'root' user can result in broken permissions and conflicting behaviour with the system package manager. It is recommended to use a virtual environment instead: https://pip.pypa.io/warnings/venv\u001b[0m\u001b[33m\n",
            "\u001b[0m"
          ]
        }
      ],
      "source": [
        "!pip install imblearn"
      ]
    },
    {
      "cell_type": "code",
      "execution_count": null,
      "metadata": {
        "execution": {
          "iopub.execute_input": "2022-11-04T08:13:39.313039Z",
          "iopub.status.busy": "2022-11-04T08:13:39.312791Z",
          "iopub.status.idle": "2022-11-04T08:13:39.317617Z",
          "shell.execute_reply": "2022-11-04T08:13:39.317032Z",
          "shell.execute_reply.started": "2022-11-04T08:13:39.313011Z"
        },
        "id": "dnIDqJGvmIXL"
      },
      "outputs": [],
      "source": [
        "# import imblearn\n",
        "# from imblearn.under_sampling import RandomUnderSampler\n",
        "\n",
        "# rus = RandomUnderSampler(random_state=42)\n",
        "\n",
        "# # On Train Dataset\n",
        "# IE_Train_X,IE_Train_Y = rus.fit_resample(IE_Train_X,IE_Train_Y)\n",
        "# NS_Train_X,NS_Train_Y = rus.fit_resample(NS_Train_X,NS_Train_Y)\n",
        "# TF_Train_X,TF_Train_Y = rus.fit_resample(TF_Train_X,TF_Train_Y)\n",
        "# JP_Train_X,JP_Train_Y = rus.fit_resample(JP_Train_X,JP_Train_Y)\n",
        "\n",
        "# print('Resample IE training dataset shape', Counter(IE_Train_Y ))\n",
        "# print('Resample NS training dataset shape', Counter(NS_Train_Y ))\n",
        "# print('Resample TF training dataset shape', Counter(TF_Train_Y ))\n",
        "# print('Resample JP training dataset shape', Counter(JP_Train_Y ))\n",
        "\n",
        "# # On Test Dataset\n",
        "# IE_Test_X,IE_Test_Y = rus.fit_resample(IE_Test_X,IE_Test_Y)\n",
        "# NS_Test_X,NS_Test_Y = rus.fit_resample(NS_Test_X,NS_Test_Y)\n",
        "# TF_Test_X,TF_Test_Y = rus.fit_resample(TF_Test_X,TF_Test_Y)\n",
        "# JP_Test_X,JP_Test_Y = rus.fit_resample(JP_Test_X,JP_Test_Y)\n",
        "\n",
        "\n",
        "# print('Resample IE test dataset shape', Counter(IE_Test_Y ))\n",
        "# print('Resample NS test dataset shape', Counter(NS_Test_Y ))\n",
        "# print('Resample TF test dataset shape', Counter(TF_Test_Y ))\n",
        "# print('Resample JP test dataset shape', Counter(JP_Test_Y ))\n",
        "\n",
        "\n",
        "\n",
        "# import imblearn\n",
        "# from imblearn.over_sampling import SMOTE \n",
        "\n",
        "# rus =  SMOTE(random_state=42)\n",
        "\n",
        "# # On Train Dataset\n",
        "# IE_Train_X,IE_Train_Y = rus.fit_resample(IE_Train_X,IE_Train_Y)\n",
        "# NS_Train_X,NS_Train_Y = rus.fit_resample(NS_Train_X,NS_Train_Y)\n",
        "# TF_Train_X,TF_Train_Y = rus.fit_resample(TF_Train_X,TF_Train_Y)\n",
        "# JP_Train_X,JP_Train_Y = rus.fit_resample(JP_Train_X,JP_Train_Y)\n",
        "\n",
        "# # print('Resample IE training dataset shape', Counter(IE_Train_Y ))\n",
        "# # print('Resample NS training dataset shape', Counter(NS_Train_Y ))\n",
        "# # print('Resample TF training dataset shape', Counter(TF_Train_Y ))\n",
        "# # print('Resample JP training dataset shape', Counter(JP_Train_Y ))\n",
        "\n",
        "# # On Test Dataset\n",
        "# IE_Test_X,IE_Test_Y = rus.fit_resample(IE_Test_X,IE_Test_Y)\n",
        "# NS_Test_X,NS_Test_Y = rus.fit_resample(NS_Test_X,NS_Test_Y)\n",
        "# TF_Test_X,TF_Test_Y = rus.fit_resample(TF_Test_X,TF_Test_Y)\n",
        "# JP_Test_X,JP_Test_Y = rus.fit_resample(JP_Test_X,JP_Test_Y)\n",
        "\n",
        "\n",
        "# print('Resample IE test dataset shape', Counter(IE_Test_Y ))\n",
        "# print('Resample NS test dataset shape', Counter(NS_Test_Y ))\n",
        "# print('Resample TF test dataset shape', Counter(TF_Test_Y ))\n",
        "# print('Resample JP test dataset shape', Counter(JP_Test_Y ))\n"
      ]
    },
    {
      "cell_type": "markdown",
      "metadata": {
        "id": "VaXiZdemmIXM"
      },
      "source": [
        "## Building The Hybrid DL Model for I/E Dichotomy "
      ]
    },
    {
      "cell_type": "code",
      "execution_count": null,
      "metadata": {
        "execution": {
          "iopub.execute_input": "2022-11-04T08:13:39.318578Z",
          "iopub.status.busy": "2022-11-04T08:13:39.318400Z",
          "iopub.status.idle": "2022-11-04T08:16:58.158425Z",
          "shell.execute_reply": "2022-11-04T08:16:58.157644Z",
          "shell.execute_reply.started": "2022-11-04T08:13:39.318560Z"
        },
        "id": "3JSVxsPAmIXM",
        "outputId": "38dad498-a1f2-4dca-cc75-6942986ccc6c"
      },
      "outputs": [
        {
          "name": "stdout",
          "output_type": "stream",
          "text": [
            "Model: \"sequential_8\"\n",
            "_________________________________________________________________\n",
            " Layer (type)                Output Shape              Param #   \n",
            "=================================================================\n",
            " embedding_8 (Embedding)     (None, 1703, 128)         1280000   \n",
            "                                                                 \n",
            " dropout_8 (Dropout)         (None, 1703, 128)         0         \n",
            "                                                                 \n",
            " conv1d_8 (Conv1D)           (None, 1703, 32)          12320     \n",
            "                                                                 \n",
            " max_pooling1d_8 (MaxPooling  (None, 851, 32)          0         \n",
            " 1D)                                                             \n",
            "                                                                 \n",
            " lstm_8 (LSTM)               (None, 851, 120)          73440     \n",
            "                                                                 \n",
            " flatten_8 (Flatten)         (None, 102120)            0         \n",
            "                                                                 \n",
            " dense_8 (Dense)             (None, 1)                 102121    \n",
            "                                                                 \n",
            "=================================================================\n",
            "Total params: 1,467,881\n",
            "Trainable params: 1,467,881\n",
            "Non-trainable params: 0\n",
            "_________________________________________________________________\n",
            "None\n",
            "Epoch 1/30\n"
          ]
        },
        {
          "name": "stderr",
          "output_type": "stream",
          "text": [
            "/usr/local/lib/python3.9/dist-packages/keras/optimizers/optimizer_v2/adam.py:110: UserWarning: The `lr` argument is deprecated, use `learning_rate` instead.\n",
            "  super(Adam, self).__init__(name, **kwargs)\n"
          ]
        },
        {
          "name": "stdout",
          "output_type": "stream",
          "text": [
            "217/217 [==============================] - 9s 31ms/step - loss: 0.5505 - accuracy: 0.7663 - val_loss: 0.5795 - val_accuracy: 0.7774\n",
            "Epoch 2/30\n",
            "217/217 [==============================] - 6s 30ms/step - loss: 0.5438 - accuracy: 0.7664 - val_loss: 0.5870 - val_accuracy: 0.7774\n",
            "Epoch 3/30\n",
            "217/217 [==============================] - 6s 29ms/step - loss: 0.5005 - accuracy: 0.7782 - val_loss: 0.7575 - val_accuracy: 0.5040\n",
            "Epoch 4/30\n",
            "217/217 [==============================] - 6s 29ms/step - loss: 0.3678 - accuracy: 0.8398 - val_loss: 0.6077 - val_accuracy: 0.6794\n",
            "Epoch 5/30\n",
            "217/217 [==============================] - 6s 29ms/step - loss: 0.3258 - accuracy: 0.8621 - val_loss: 0.5092 - val_accuracy: 0.7555\n",
            "Epoch 6/30\n",
            "217/217 [==============================] - 6s 29ms/step - loss: 0.2886 - accuracy: 0.8800 - val_loss: 0.6366 - val_accuracy: 0.6413\n",
            "Epoch 7/30\n",
            "217/217 [==============================] - 6s 30ms/step - loss: 0.2722 - accuracy: 0.8890 - val_loss: 0.6054 - val_accuracy: 0.6943\n",
            "Epoch 8/30\n",
            "217/217 [==============================] - 7s 30ms/step - loss: 0.2478 - accuracy: 0.8990 - val_loss: 0.5496 - val_accuracy: 0.7313\n",
            "Epoch 9/30\n",
            "217/217 [==============================] - 6s 30ms/step - loss: 0.2323 - accuracy: 0.9084 - val_loss: 0.5268 - val_accuracy: 0.7405\n",
            "Epoch 10/30\n",
            "217/217 [==============================] - 6s 30ms/step - loss: 0.2179 - accuracy: 0.9171 - val_loss: 0.5710 - val_accuracy: 0.7243\n",
            "Epoch 11/30\n",
            "217/217 [==============================] - 7s 31ms/step - loss: 0.2032 - accuracy: 0.9258 - val_loss: 0.5898 - val_accuracy: 0.7278\n",
            "Epoch 12/30\n",
            "217/217 [==============================] - 7s 30ms/step - loss: 0.1886 - accuracy: 0.9278 - val_loss: 0.6970 - val_accuracy: 0.6701\n",
            "Epoch 13/30\n",
            "217/217 [==============================] - 7s 30ms/step - loss: 0.1824 - accuracy: 0.9297 - val_loss: 0.5918 - val_accuracy: 0.7324\n",
            "Epoch 14/30\n",
            "217/217 [==============================] - 7s 31ms/step - loss: 0.1607 - accuracy: 0.9389 - val_loss: 0.5693 - val_accuracy: 0.7543\n",
            "Epoch 15/30\n",
            "217/217 [==============================] - 7s 32ms/step - loss: 0.1566 - accuracy: 0.9409 - val_loss: 0.5169 - val_accuracy: 0.7578\n",
            "Epoch 16/30\n",
            "217/217 [==============================] - 7s 31ms/step - loss: 0.1466 - accuracy: 0.9437 - val_loss: 0.5418 - val_accuracy: 0.7716\n",
            "Epoch 17/30\n",
            "217/217 [==============================] - 7s 31ms/step - loss: 0.1358 - accuracy: 0.9481 - val_loss: 0.6199 - val_accuracy: 0.7255\n",
            "Epoch 18/30\n",
            "217/217 [==============================] - 7s 30ms/step - loss: 0.1225 - accuracy: 0.9532 - val_loss: 0.5795 - val_accuracy: 0.7509\n",
            "Epoch 19/30\n",
            "217/217 [==============================] - 6s 30ms/step - loss: 0.1116 - accuracy: 0.9563 - val_loss: 0.6338 - val_accuracy: 0.7497\n",
            "Epoch 20/30\n",
            "217/217 [==============================] - 6s 30ms/step - loss: 0.1086 - accuracy: 0.9579 - val_loss: 0.6714 - val_accuracy: 0.7509\n",
            "Epoch 21/30\n",
            "217/217 [==============================] - 7s 30ms/step - loss: 0.1015 - accuracy: 0.9620 - val_loss: 0.6281 - val_accuracy: 0.7659\n",
            "Epoch 22/30\n",
            "217/217 [==============================] - 7s 30ms/step - loss: 0.0950 - accuracy: 0.9660 - val_loss: 0.5966 - val_accuracy: 0.7751\n",
            "Epoch 23/30\n",
            "217/217 [==============================] - 7s 30ms/step - loss: 0.0882 - accuracy: 0.9656 - val_loss: 0.7245 - val_accuracy: 0.7520\n",
            "Epoch 24/30\n",
            "217/217 [==============================] - 7s 30ms/step - loss: 0.0791 - accuracy: 0.9689 - val_loss: 0.7565 - val_accuracy: 0.7232\n",
            "Epoch 25/30\n",
            "217/217 [==============================] - 7s 30ms/step - loss: 0.0757 - accuracy: 0.9720 - val_loss: 0.7409 - val_accuracy: 0.7428\n",
            "Epoch 26/30\n",
            "217/217 [==============================] - 7s 30ms/step - loss: 0.0716 - accuracy: 0.9744 - val_loss: 0.6859 - val_accuracy: 0.7543\n",
            "Epoch 27/30\n",
            "217/217 [==============================] - 7s 31ms/step - loss: 0.0708 - accuracy: 0.9720 - val_loss: 0.7392 - val_accuracy: 0.7751\n",
            "Epoch 28/30\n",
            "217/217 [==============================] - 7s 30ms/step - loss: 0.0661 - accuracy: 0.9725 - val_loss: 0.7826 - val_accuracy: 0.7578\n",
            "Epoch 29/30\n",
            "217/217 [==============================] - 6s 30ms/step - loss: 0.0698 - accuracy: 0.9745 - val_loss: 0.6809 - val_accuracy: 0.7843\n",
            "Epoch 30/30\n",
            "217/217 [==============================] - 7s 30ms/step - loss: 0.0657 - accuracy: 0.9764 - val_loss: 0.6698 - val_accuracy: 0.7878\n"
          ]
        }
      ],
      "source": [
        "from keras.models import Sequential\n",
        "from keras import layers\n",
        "from keras.optimizers import Adam\n",
        "\n",
        "model = Sequential ()\n",
        "model.add (layers.Embedding (10000, 128,input_length=1703))\n",
        "model.add (layers.Dropout (0.8))\n",
        "model.add (layers.Conv1D (32, 3, padding ='same' ,activation = \"relu\"))\n",
        "model.add (layers.MaxPooling1D (2))\n",
        "model.add (layers.LSTM (120, return_sequences = True))\n",
        "model.add (layers.Flatten ())\n",
        "model.add(layers.Dense (1, activation = \"sigmoid\"))\n",
        "model.compile(optimizer=Adam(lr=1e-4),\n",
        "              loss='binary_crossentropy',\n",
        "              metrics=['accuracy'])\n",
        "print (model. summary ())\n",
        "history = model.fit(IE_Train_X,IE_Train_Y, epochs=30,batch_size=32, validation_split=0.111)"
      ]
    },
    {
      "cell_type": "markdown",
      "metadata": {
        "id": "lZlMrophmIXN"
      },
      "source": [
        "## Validation Curves for I/E Dichotomy "
      ]
    },
    {
      "cell_type": "code",
      "execution_count": null,
      "metadata": {
        "execution": {
          "iopub.execute_input": "2022-11-04T08:16:58.160321Z",
          "iopub.status.busy": "2022-11-04T08:16:58.159728Z",
          "iopub.status.idle": "2022-11-04T08:16:58.336678Z",
          "shell.execute_reply": "2022-11-04T08:16:58.335989Z",
          "shell.execute_reply.started": "2022-11-04T08:16:58.160297Z"
        },
        "id": "1BajWhW8mIXN",
        "outputId": "ed803ecf-03e3-46a7-9913-3460fddc4d8e"
      },
      "outputs": [
        {
          "data": {
            "image/png": "[encoded data removed]",
            "text/plain": [
              "<Figure size 432x288 with 1 Axes>"
            ]
          },
          "metadata": {
            "needs_background": "light"
          },
          "output_type": "display_data"
        },
        {
          "data": {
            "image/png": "[encoded data removed]",
            "text/plain": [
              "<Figure size 432x288 with 1 Axes>"
            ]
          },
          "metadata": {
            "needs_background": "light"
          },
          "output_type": "display_data"
        }
      ],
      "source": [
        "# summarize history for accuracy\n",
        "plt.plot(history.history['accuracy'])\n",
        "plt.plot(history.history['val_accuracy'])\n",
        "plt.title('Model Accuracy Score For I/E')\n",
        "plt.ylabel('Score')\n",
        "plt.xlabel('epoch')\n",
        "plt.legend(['train', 'Validation'], loc='upper left')\n",
        "plt.show()\n",
        "#summarize history for loss\n",
        "plt.plot(history.history['loss'])\n",
        "plt.plot(history.history['val_loss'])\n",
        "plt.title('Model Loss For I/E')\n",
        "plt.ylabel('loss')\n",
        "plt.xlabel('epoch')\n",
        "plt.legend(['train', 'Validation'], loc='upper left')\n",
        "plt.show()"
      ]
    },
    {
      "cell_type": "markdown",
      "metadata": {
        "id": "StoJPq3XmIXN"
      },
      "source": [
        "## Evaluating I/E Model on Unseen Test Set "
      ]
    },
    {
      "cell_type": "code",
      "execution_count": null,
      "metadata": {
        "execution": {
          "iopub.execute_input": "2022-11-04T08:16:58.337750Z",
          "iopub.status.busy": "2022-11-04T08:16:58.337509Z",
          "iopub.status.idle": "2022-11-04T08:16:58.721128Z",
          "shell.execute_reply": "2022-11-04T08:16:58.720501Z",
          "shell.execute_reply.started": "2022-11-04T08:16:58.337728Z"
        },
        "id": "9M4dnl_nmIXO",
        "outputId": "4ca8a0b6-4e9f-47d0-e8f8-f0de1a366c98"
      },
      "outputs": [
        {
          "name": "stdout",
          "output_type": "stream",
          "text": [
            "28/28 [==============================] - 0s 12ms/step - loss: 0.6959 - accuracy: 0.7857\n"
          ]
        }
      ],
      "source": [
        "evaluation = model.evaluate(IE_Test_X,IE_Test_Y, return_dict=True)\n"
      ]
    },
    {
      "cell_type": "code",
      "execution_count": null,
      "metadata": {
        "execution": {
          "iopub.execute_input": "2022-11-04T08:16:58.722832Z",
          "iopub.status.busy": "2022-11-04T08:16:58.722270Z",
          "iopub.status.idle": "2022-11-04T08:16:59.431101Z",
          "shell.execute_reply": "2022-11-04T08:16:59.430312Z",
          "shell.execute_reply.started": "2022-11-04T08:16:58.722811Z"
        },
        "id": "xG33tiDImIXO",
        "outputId": "10e82ab0-d491-48c0-d0c3-e04f3f2a3dbb"
      },
      "outputs": [
        {
          "name": "stdout",
          "output_type": "stream",
          "text": [
            "28/28 [==============================] - 1s 11ms/step\n"
          ]
        },
        {
          "data": {
            "image/png": "[encoded data removed]",
            "text/plain": [
              "<Figure size 432x288 with 2 Axes>"
            ]
          },
          "metadata": {
            "needs_background": "light"
          },
          "output_type": "display_data"
        },
        {
          "name": "stdout",
          "output_type": "stream",
          "text": [
            "              precision    recall  f1-score   support\n",
            "\n",
            "           0       0.50      0.59      0.54       185\n",
            "           1       0.88      0.84      0.86       683\n",
            "\n",
            "    accuracy                           0.79       868\n",
            "   macro avg       0.69      0.71      0.70       868\n",
            "weighted avg       0.80      0.79      0.79       868\n",
            "\n",
            "0.7140675082109929\n"
          ]
        }
      ],
      "source": [
        "from sklearn.metrics import confusion_matrix\n",
        "from sklearn.metrics import classification_report\n",
        "from sklearn.metrics import balanced_accuracy_score\n",
        "\n",
        "#Predict\n",
        "IE_predictions = model.predict(IE_Test_X\n",
        ")\n",
        "IE_predictions=tf.math.round(IE_predictions, name=None)\n",
        "IE_confusion = confusion_matrix(IE_Test_Y, IE_predictions)\n",
        "IE_cm_display = metrics.ConfusionMatrixDisplay(confusion_matrix = IE_confusion, display_labels = ['Extrovert', 'Introvert'])\n",
        "IE_cm_display.plot()\n",
        "plt.show()\n",
        "print(classification_report(IE_Test_Y, IE_predictions))\n",
        "\n",
        "print(balanced_accuracy_score(IE_Test_Y, IE_predictions))"
      ]
    },
    {
      "cell_type": "markdown",
      "metadata": {
        "id": "x9axbA1qmIXP"
      },
      "source": [
        "## Building The Hybrid DL Model for N/S Dichotomy "
      ]
    },
    {
      "cell_type": "code",
      "execution_count": null,
      "metadata": {
        "execution": {
          "iopub.execute_input": "2022-11-04T08:16:59.432533Z",
          "iopub.status.busy": "2022-11-04T08:16:59.432275Z",
          "iopub.status.idle": "2022-11-04T08:21:02.298558Z",
          "shell.execute_reply": "2022-11-04T08:21:02.297926Z",
          "shell.execute_reply.started": "2022-11-04T08:16:59.432512Z"
        },
        "id": "69IbksHymIXP",
        "outputId": "e7c7145c-39b7-45e8-e6fb-a1dcb1e2d01e"
      },
      "outputs": [
        {
          "name": "stdout",
          "output_type": "stream",
          "text": [
            "Model: \"sequential_9\"\n",
            "_________________________________________________________________\n",
            " Layer (type)                Output Shape              Param #   \n",
            "=================================================================\n",
            " embedding_9 (Embedding)     (None, 1703, 128)         1280000   \n",
            "                                                                 \n",
            " dropout_9 (Dropout)         (None, 1703, 128)         0         \n",
            "                                                                 \n",
            " conv1d_9 (Conv1D)           (None, 1703, 32)          12320     \n",
            "                                                                 \n",
            " max_pooling1d_9 (MaxPooling  (None, 851, 32)          0         \n",
            " 1D)                                                             \n",
            "                                                                 \n",
            " lstm_9 (LSTM)               (None, 851, 140)          96880     \n",
            "                                                                 \n",
            " flatten_9 (Flatten)         (None, 119140)            0         \n",
            "                                                                 \n",
            " dense_9 (Dense)             (None, 1)                 119141    \n",
            "                                                                 \n",
            "=================================================================\n",
            "Total params: 1,508,341\n",
            "Trainable params: 1,508,341\n",
            "Non-trainable params: 0\n",
            "_________________________________________________________________\n",
            "None\n",
            "Epoch 1/30\n"
          ]
        },
        {
          "name": "stderr",
          "output_type": "stream",
          "text": [
            "/usr/local/lib/python3.9/dist-packages/keras/optimizers/optimizer_v2/adam.py:110: UserWarning: The `lr` argument is deprecated, use `learning_rate` instead.\n",
            "  super(Adam, self).__init__(name, **kwargs)\n"
          ]
        },
        {
          "name": "stdout",
          "output_type": "stream",
          "text": [
            "217/217 [==============================] - 9s 38ms/step - loss: 0.4055 - accuracy: 0.8599 - val_loss: 0.4972 - val_accuracy: 0.8535\n",
            "Epoch 2/30\n",
            "217/217 [==============================] - 8s 37ms/step - loss: 0.3967 - accuracy: 0.8633 - val_loss: 0.4970 - val_accuracy: 0.8535\n",
            "Epoch 3/30\n",
            "217/217 [==============================] - 8s 37ms/step - loss: 0.3842 - accuracy: 0.8633 - val_loss: 0.4587 - val_accuracy: 0.8570\n",
            "Epoch 4/30\n",
            "217/217 [==============================] - 8s 37ms/step - loss: 0.4951 - accuracy: 0.8566 - val_loss: 0.3692 - val_accuracy: 0.8535\n",
            "Epoch 5/30\n",
            "217/217 [==============================] - 8s 37ms/step - loss: 0.2699 - accuracy: 0.8889 - val_loss: 0.3095 - val_accuracy: 0.8870\n",
            "Epoch 6/30\n",
            "217/217 [==============================] - 8s 37ms/step - loss: 0.2169 - accuracy: 0.9169 - val_loss: 0.3128 - val_accuracy: 0.8881\n",
            "Epoch 7/30\n",
            "217/217 [==============================] - 8s 37ms/step - loss: 0.1883 - accuracy: 0.9269 - val_loss: 0.2881 - val_accuracy: 0.8962\n",
            "Epoch 8/30\n",
            "217/217 [==============================] - 8s 37ms/step - loss: 0.1614 - accuracy: 0.9402 - val_loss: 0.2820 - val_accuracy: 0.8927\n",
            "Epoch 9/30\n",
            "217/217 [==============================] - 8s 37ms/step - loss: 0.1626 - accuracy: 0.9408 - val_loss: 0.2806 - val_accuracy: 0.8950\n",
            "Epoch 10/30\n",
            "217/217 [==============================] - 8s 37ms/step - loss: 0.1342 - accuracy: 0.9499 - val_loss: 0.2782 - val_accuracy: 0.8893\n",
            "Epoch 11/30\n",
            "217/217 [==============================] - 8s 37ms/step - loss: 0.1302 - accuracy: 0.9506 - val_loss: 0.2802 - val_accuracy: 0.8893\n",
            "Epoch 12/30\n",
            "217/217 [==============================] - 8s 37ms/step - loss: 0.1182 - accuracy: 0.9561 - val_loss: 0.2858 - val_accuracy: 0.8858\n",
            "Epoch 13/30\n",
            "217/217 [==============================] - 8s 37ms/step - loss: 0.1041 - accuracy: 0.9594 - val_loss: 0.2835 - val_accuracy: 0.8824\n",
            "Epoch 14/30\n",
            "217/217 [==============================] - 8s 37ms/step - loss: 0.0949 - accuracy: 0.9671 - val_loss: 0.3770 - val_accuracy: 0.8824\n",
            "Epoch 15/30\n",
            "217/217 [==============================] - 8s 37ms/step - loss: 0.0941 - accuracy: 0.9647 - val_loss: 0.3139 - val_accuracy: 0.8824\n",
            "Epoch 16/30\n",
            "217/217 [==============================] - 8s 37ms/step - loss: 0.0779 - accuracy: 0.9716 - val_loss: 0.3728 - val_accuracy: 0.8824\n",
            "Epoch 17/30\n",
            "217/217 [==============================] - 8s 37ms/step - loss: 0.0781 - accuracy: 0.9697 - val_loss: 0.3930 - val_accuracy: 0.8766\n",
            "Epoch 18/30\n",
            "217/217 [==============================] - 8s 37ms/step - loss: 0.0731 - accuracy: 0.9741 - val_loss: 0.3363 - val_accuracy: 0.8847\n",
            "Epoch 19/30\n",
            "217/217 [==============================] - 8s 37ms/step - loss: 0.0563 - accuracy: 0.9817 - val_loss: 0.4538 - val_accuracy: 0.8870\n",
            "Epoch 20/30\n",
            "217/217 [==============================] - 8s 37ms/step - loss: 0.0610 - accuracy: 0.9780 - val_loss: 0.3970 - val_accuracy: 0.8777\n",
            "Epoch 21/30\n",
            "217/217 [==============================] - 8s 38ms/step - loss: 0.0605 - accuracy: 0.9790 - val_loss: 0.4566 - val_accuracy: 0.8800\n",
            "Epoch 22/30\n",
            "217/217 [==============================] - 8s 39ms/step - loss: 0.0518 - accuracy: 0.9808 - val_loss: 0.4961 - val_accuracy: 0.8812\n",
            "Epoch 23/30\n",
            "217/217 [==============================] - 8s 37ms/step - loss: 0.0438 - accuracy: 0.9831 - val_loss: 0.4160 - val_accuracy: 0.8789\n",
            "Epoch 24/30\n",
            "217/217 [==============================] - 8s 37ms/step - loss: 0.0429 - accuracy: 0.9859 - val_loss: 0.6483 - val_accuracy: 0.8800\n",
            "Epoch 25/30\n",
            "217/217 [==============================] - 8s 37ms/step - loss: 0.0391 - accuracy: 0.9860 - val_loss: 0.4585 - val_accuracy: 0.8766\n",
            "Epoch 26/30\n",
            "217/217 [==============================] - 8s 37ms/step - loss: 0.0423 - accuracy: 0.9847 - val_loss: 0.6345 - val_accuracy: 0.8777\n",
            "Epoch 27/30\n",
            "217/217 [==============================] - 8s 38ms/step - loss: 0.0337 - accuracy: 0.9889 - val_loss: 0.6350 - val_accuracy: 0.8754\n",
            "Epoch 28/30\n",
            "217/217 [==============================] - 8s 37ms/step - loss: 0.0338 - accuracy: 0.9866 - val_loss: 0.5384 - val_accuracy: 0.8743\n",
            "Epoch 29/30\n",
            "217/217 [==============================] - 8s 37ms/step - loss: 0.0318 - accuracy: 0.9880 - val_loss: 0.5018 - val_accuracy: 0.8743\n",
            "Epoch 30/30\n",
            "217/217 [==============================] - 8s 37ms/step - loss: 0.0337 - accuracy: 0.9888 - val_loss: 0.5941 - val_accuracy: 0.8766\n"
          ]
        }
      ],
      "source": [
        "from keras.models import Sequential\n",
        "from keras import layers\n",
        "from keras.optimizers import Adam\n",
        "\n",
        "model = Sequential ()\n",
        "model.add (layers.Embedding (10000, 128,input_length=1703))\n",
        "model.add (layers.Dropout (0.8))\n",
        "model.add (layers.Conv1D (32, 3, padding ='same' ,activation = \"relu\"))\n",
        "model.add (layers.MaxPooling1D (2))\n",
        "model.add (layers.LSTM (140, return_sequences = True))\n",
        "model.add (layers.Flatten ())\n",
        "model.add(layers.Dense (1, activation = \"sigmoid\"))\n",
        "model.compile(optimizer=Adam(lr=1e-4),\n",
        "              loss='binary_crossentropy',\n",
        "              metrics=['accuracy'])\n",
        "print (model. summary ())\n",
        "history = model.fit(NS_Train_X,NS_Train_Y, epochs=30,batch_size=32, validation_split=0.111)"
      ]
    },
    {
      "cell_type": "markdown",
      "metadata": {
        "id": "5u-DA80TmIXP"
      },
      "source": [
        "## Validation Curves for N/S Dichotomy "
      ]
    },
    {
      "cell_type": "code",
      "execution_count": null,
      "metadata": {
        "execution": {
          "iopub.execute_input": "2022-11-04T08:21:02.299569Z",
          "iopub.status.busy": "2022-11-04T08:21:02.299378Z",
          "iopub.status.idle": "2022-11-04T08:21:02.472870Z",
          "shell.execute_reply": "2022-11-04T08:21:02.472140Z",
          "shell.execute_reply.started": "2022-11-04T08:21:02.299550Z"
        },
        "id": "9o2N7ix_mIXQ",
        "outputId": "5fc46500-f023-4d98-b523-6d73668d3163"
      },
      "outputs": [
        {
          "data": {
            "image/png": "[encoded data removed]",
            "text/plain": [
              "<Figure size 432x288 with 1 Axes>"
            ]
          },
          "metadata": {
            "needs_background": "light"
          },
          "output_type": "display_data"
        },
        {
          "data": {
            "image/png": "[encoded data removed]",
            "text/plain": [
              "<Figure size 432x288 with 1 Axes>"
            ]
          },
          "metadata": {
            "needs_background": "light"
          },
          "output_type": "display_data"
        }
      ],
      "source": [
        "# summarize history for accuracy\n",
        "plt.plot(history.history['accuracy'])\n",
        "plt.plot(history.history['val_accuracy'])\n",
        "plt.title('Model Accuracy Score For N/S')\n",
        "plt.ylabel('Score')\n",
        "plt.xlabel('epoch')\n",
        "plt.legend(['train', 'Validation'], loc='upper left')\n",
        "plt.show()\n",
        "#summarize history for loss\n",
        "plt.plot(history.history['loss'])\n",
        "plt.plot(history.history['val_loss'])\n",
        "plt.title('Model Loss For N/S')\n",
        "plt.ylabel('loss')\n",
        "plt.xlabel('epoch')\n",
        "plt.legend(['train', 'Validation'], loc='upper left')\n",
        "plt.show()"
      ]
    },
    {
      "cell_type": "markdown",
      "metadata": {
        "id": "j12e7HIhmIXQ"
      },
      "source": [
        "## Evaluating N/S Model on Unseen Test Set "
      ]
    },
    {
      "cell_type": "code",
      "execution_count": null,
      "metadata": {
        "execution": {
          "iopub.execute_input": "2022-11-04T08:21:02.474378Z",
          "iopub.status.busy": "2022-11-04T08:21:02.473790Z",
          "iopub.status.idle": "2022-11-04T08:21:02.913679Z",
          "shell.execute_reply": "2022-11-04T08:21:02.913132Z",
          "shell.execute_reply.started": "2022-11-04T08:21:02.474357Z"
        },
        "id": "Wgn4nEN1mIXQ",
        "outputId": "e5794a8b-e026-46b7-df8b-c9529fc6a1ea"
      },
      "outputs": [
        {
          "name": "stdout",
          "output_type": "stream",
          "text": [
            "28/28 [==============================] - 0s 14ms/step - loss: 0.5503 - accuracy: 0.8813\n"
          ]
        }
      ],
      "source": [
        "evaluation = model.evaluate(NS_Test_X,NS_Test_Y, return_dict=True)\n"
      ]
    },
    {
      "cell_type": "code",
      "execution_count": null,
      "metadata": {
        "execution": {
          "iopub.execute_input": "2022-11-04T08:21:02.915292Z",
          "iopub.status.busy": "2022-11-04T08:21:02.914648Z",
          "iopub.status.idle": "2022-11-04T08:21:03.677977Z",
          "shell.execute_reply": "2022-11-04T08:21:03.677360Z",
          "shell.execute_reply.started": "2022-11-04T08:21:02.915270Z"
        },
        "id": "URwtgEl-mIXR",
        "outputId": "630f4e86-ae94-45d6-f7da-ec199653179f"
      },
      "outputs": [
        {
          "name": "stdout",
          "output_type": "stream",
          "text": [
            "28/28 [==============================] - 1s 13ms/step\n"
          ]
        },
        {
          "data": {
            "image/png": "[encoded data removed]",
            "text/plain": [
              "<Figure size 432x288 with 2 Axes>"
            ]
          },
          "metadata": {
            "needs_background": "light"
          },
          "output_type": "display_data"
        },
        {
          "name": "stdout",
          "output_type": "stream",
          "text": [
            "              precision    recall  f1-score   support\n",
            "\n",
            "           0       0.64      0.35      0.45       121\n",
            "           1       0.90      0.97      0.93       747\n",
            "\n",
            "    accuracy                           0.88       868\n",
            "   macro avg       0.77      0.66      0.69       868\n",
            "weighted avg       0.86      0.88      0.87       868\n",
            "\n",
            "0.657489461980152\n"
          ]
        }
      ],
      "source": [
        "from sklearn.metrics import confusion_matrix\n",
        "from sklearn.metrics import classification_report\n",
        "from sklearn.metrics import balanced_accuracy_score\n",
        "\n",
        "#Predict\n",
        "NS_predictions = model.predict(NS_Test_X\n",
        ")\n",
        "NS_predictions=tf.math.round(NS_predictions, name=None)\n",
        "NS_confusion = confusion_matrix(NS_Test_Y, NS_predictions)\n",
        "NS_cm_display = metrics.ConfusionMatrixDisplay(confusion_matrix = NS_confusion, display_labels = ['Sensing', 'Intuition'])\n",
        "NS_cm_display.plot()\n",
        "plt.show()\n",
        "print(classification_report(NS_Test_Y, NS_predictions))\n",
        "\n",
        "print(balanced_accuracy_score(NS_Test_Y, NS_predictions))"
      ]
    },
    {
      "cell_type": "markdown",
      "metadata": {
        "id": "bEGsLBM_mIXR"
      },
      "source": [
        "## Building The Hybrid DL Model for T/F Dichotomy "
      ]
    },
    {
      "cell_type": "code",
      "execution_count": null,
      "metadata": {
        "execution": {
          "iopub.execute_input": "2022-11-04T08:21:03.679020Z",
          "iopub.status.busy": "2022-11-04T08:21:03.678803Z",
          "iopub.status.idle": "2022-11-04T08:25:26.996805Z",
          "shell.execute_reply": "2022-11-04T08:25:26.996063Z",
          "shell.execute_reply.started": "2022-11-04T08:21:03.678999Z"
        },
        "id": "_2nQNMNMmIXR",
        "outputId": "b6134db8-5897-45af-b00f-acdb333ff7f1"
      },
      "outputs": [
        {
          "name": "stdout",
          "output_type": "stream",
          "text": [
            "Model: \"sequential_10\"\n",
            "_________________________________________________________________\n",
            " Layer (type)                Output Shape              Param #   \n",
            "=================================================================\n",
            " embedding_10 (Embedding)    (None, 1703, 128)         1280000   \n",
            "                                                                 \n",
            " dropout_10 (Dropout)        (None, 1703, 128)         0         \n",
            "                                                                 \n",
            " conv1d_10 (Conv1D)          (None, 1703, 32)          12320     \n",
            "                                                                 \n",
            " max_pooling1d_10 (MaxPoolin  (None, 851, 32)          0         \n",
            " g1D)                                                            \n",
            "                                                                 \n",
            " lstm_10 (LSTM)              (None, 851, 130)          84760     \n",
            "                                                                 \n",
            " flatten_10 (Flatten)        (None, 110630)            0         \n",
            "                                                                 \n",
            " dense_10 (Dense)            (None, 1)                 110631    \n",
            "                                                                 \n",
            "=================================================================\n",
            "Total params: 1,487,711\n",
            "Trainable params: 1,487,711\n",
            "Non-trainable params: 0\n",
            "_________________________________________________________________\n",
            "None\n",
            "Epoch 1/30\n"
          ]
        },
        {
          "name": "stderr",
          "output_type": "stream",
          "text": [
            "/usr/local/lib/python3.9/dist-packages/keras/optimizers/optimizer_v2/adam.py:110: UserWarning: The `lr` argument is deprecated, use `learning_rate` instead.\n",
            "  super(Adam, self).__init__(name, **kwargs)\n"
          ]
        },
        {
          "name": "stdout",
          "output_type": "stream",
          "text": [
            "217/217 [==============================] - 9s 37ms/step - loss: 0.6883 - accuracy: 0.5422 - val_loss: 0.6858 - val_accuracy: 0.5548\n",
            "Epoch 2/30\n",
            "217/217 [==============================] - 8s 36ms/step - loss: 0.6587 - accuracy: 0.5921 - val_loss: 0.5579 - val_accuracy: 0.7197\n",
            "Epoch 3/30\n",
            "217/217 [==============================] - 8s 36ms/step - loss: 0.4212 - accuracy: 0.8075 - val_loss: 0.4229 - val_accuracy: 0.8131\n",
            "Epoch 4/30\n",
            "217/217 [==============================] - 8s 36ms/step - loss: 0.3587 - accuracy: 0.8452 - val_loss: 0.3714 - val_accuracy: 0.8443\n",
            "Epoch 5/30\n",
            "217/217 [==============================] - 8s 36ms/step - loss: 0.3271 - accuracy: 0.8635 - val_loss: 0.3746 - val_accuracy: 0.8466\n",
            "Epoch 6/30\n",
            "217/217 [==============================] - 8s 36ms/step - loss: 0.3027 - accuracy: 0.8774 - val_loss: 0.3681 - val_accuracy: 0.8454\n",
            "Epoch 7/30\n",
            "217/217 [==============================] - 8s 36ms/step - loss: 0.2885 - accuracy: 0.8821 - val_loss: 0.3468 - val_accuracy: 0.8478\n",
            "Epoch 8/30\n",
            "217/217 [==============================] - 8s 36ms/step - loss: 0.2672 - accuracy: 0.8939 - val_loss: 0.3470 - val_accuracy: 0.8478\n",
            "Epoch 9/30\n",
            "217/217 [==============================] - 8s 36ms/step - loss: 0.2500 - accuracy: 0.8991 - val_loss: 0.3490 - val_accuracy: 0.8454\n",
            "Epoch 10/30\n",
            "217/217 [==============================] - 8s 36ms/step - loss: 0.2372 - accuracy: 0.9066 - val_loss: 0.3499 - val_accuracy: 0.8478\n",
            "Epoch 11/30\n",
            "217/217 [==============================] - 8s 37ms/step - loss: 0.2219 - accuracy: 0.9138 - val_loss: 0.3542 - val_accuracy: 0.8466\n",
            "Epoch 12/30\n",
            "217/217 [==============================] - 8s 36ms/step - loss: 0.2133 - accuracy: 0.9187 - val_loss: 0.3628 - val_accuracy: 0.8454\n",
            "Epoch 13/30\n",
            "217/217 [==============================] - 8s 36ms/step - loss: 0.1946 - accuracy: 0.9244 - val_loss: 0.3977 - val_accuracy: 0.8431\n",
            "Epoch 14/30\n",
            "217/217 [==============================] - 8s 36ms/step - loss: 0.1849 - accuracy: 0.9301 - val_loss: 0.3889 - val_accuracy: 0.8374\n",
            "Epoch 15/30\n",
            "217/217 [==============================] - 8s 37ms/step - loss: 0.1698 - accuracy: 0.9323 - val_loss: 0.3804 - val_accuracy: 0.8397\n",
            "Epoch 16/30\n",
            "217/217 [==============================] - 8s 36ms/step - loss: 0.1667 - accuracy: 0.9376 - val_loss: 0.3851 - val_accuracy: 0.8362\n",
            "Epoch 17/30\n",
            "217/217 [==============================] - 8s 37ms/step - loss: 0.1482 - accuracy: 0.9416 - val_loss: 0.4060 - val_accuracy: 0.8362\n",
            "Epoch 18/30\n",
            "217/217 [==============================] - 8s 36ms/step - loss: 0.1417 - accuracy: 0.9470 - val_loss: 0.4205 - val_accuracy: 0.8351\n",
            "Epoch 19/30\n",
            "217/217 [==============================] - 8s 37ms/step - loss: 0.1333 - accuracy: 0.9480 - val_loss: 0.3962 - val_accuracy: 0.8385\n",
            "Epoch 20/30\n",
            "217/217 [==============================] - 8s 36ms/step - loss: 0.1270 - accuracy: 0.9526 - val_loss: 0.4222 - val_accuracy: 0.8362\n",
            "Epoch 21/30\n",
            "217/217 [==============================] - 8s 36ms/step - loss: 0.1187 - accuracy: 0.9545 - val_loss: 0.4094 - val_accuracy: 0.8385\n",
            "Epoch 22/30\n",
            "217/217 [==============================] - 8s 37ms/step - loss: 0.1058 - accuracy: 0.9586 - val_loss: 0.4935 - val_accuracy: 0.8316\n",
            "Epoch 23/30\n",
            "217/217 [==============================] - 8s 37ms/step - loss: 0.1116 - accuracy: 0.9556 - val_loss: 0.4598 - val_accuracy: 0.8304\n",
            "Epoch 24/30\n",
            "217/217 [==============================] - 8s 36ms/step - loss: 0.1051 - accuracy: 0.9576 - val_loss: 0.5152 - val_accuracy: 0.8339\n",
            "Epoch 25/30\n",
            "217/217 [==============================] - 8s 38ms/step - loss: 0.0918 - accuracy: 0.9651 - val_loss: 0.4834 - val_accuracy: 0.8270\n",
            "Epoch 26/30\n",
            "217/217 [==============================] - 8s 36ms/step - loss: 0.0849 - accuracy: 0.9676 - val_loss: 0.5293 - val_accuracy: 0.8270\n",
            "Epoch 27/30\n",
            "217/217 [==============================] - 8s 37ms/step - loss: 0.0809 - accuracy: 0.9705 - val_loss: 0.5383 - val_accuracy: 0.8224\n",
            "Epoch 28/30\n",
            "217/217 [==============================] - 8s 36ms/step - loss: 0.0783 - accuracy: 0.9705 - val_loss: 0.6165 - val_accuracy: 0.8212\n",
            "Epoch 29/30\n",
            "217/217 [==============================] - 8s 36ms/step - loss: 0.0706 - accuracy: 0.9723 - val_loss: 0.5499 - val_accuracy: 0.8258\n",
            "Epoch 30/30\n",
            "217/217 [==============================] - 8s 37ms/step - loss: 0.0633 - accuracy: 0.9771 - val_loss: 0.5031 - val_accuracy: 0.8258\n"
          ]
        }
      ],
      "source": [
        "from keras.models import Sequential\n",
        "from keras import layers\n",
        "from keras.optimizers import Adam\n",
        "\n",
        "model = Sequential ()\n",
        "model.add (layers.Embedding (10000, 128,input_length=1703))\n",
        "model.add (layers.Dropout (0.8))\n",
        "model.add (layers.Conv1D (32, 3, padding ='same' ,activation = \"relu\"))\n",
        "model.add (layers.MaxPooling1D (2))\n",
        "model.add (layers.LSTM (130, return_sequences = True))\n",
        "model.add (layers.Flatten ())\n",
        "model.add(layers.Dense (1, activation = \"sigmoid\"))\n",
        "model.compile(optimizer=Adam(lr=1e-4),\n",
        "              loss='binary_crossentropy',\n",
        "              metrics=['accuracy'])\n",
        "print (model. summary ())\n",
        "history = model.fit(TF_Train_X,TF_Train_Y, epochs=30,batch_size=32, validation_split=0.111)"
      ]
    },
    {
      "cell_type": "markdown",
      "metadata": {
        "id": "Z9RZ83timIXS"
      },
      "source": [
        "## Validation Curves for T/F Dichotomy "
      ]
    },
    {
      "cell_type": "code",
      "execution_count": null,
      "metadata": {
        "execution": {
          "iopub.execute_input": "2022-11-04T08:25:26.998474Z",
          "iopub.status.busy": "2022-11-04T08:25:26.997861Z",
          "iopub.status.idle": "2022-11-04T08:25:27.161580Z",
          "shell.execute_reply": "2022-11-04T08:25:27.160883Z",
          "shell.execute_reply.started": "2022-11-04T08:25:26.998454Z"
        },
        "id": "YZTdVtRNmIXS",
        "outputId": "91142148-4108-43ac-f795-b90e800d70e3"
      },
      "outputs": [
        {
          "data": {
            "image/png": "[encoded data removed]",
            "text/plain": [
              "<Figure size 432x288 with 1 Axes>"
            ]
          },
          "metadata": {
            "needs_background": "light"
          },
          "output_type": "display_data"
        },
        {
          "data": {
            "image/png": "[encoded data removed]",
            "text/plain": [
              "<Figure size 432x288 with 1 Axes>"
            ]
          },
          "metadata": {
            "needs_background": "light"
          },
          "output_type": "display_data"
        }
      ],
      "source": [
        "# summarize history for accuracy\n",
        "plt.plot(history.history['accuracy'])\n",
        "plt.plot(history.history['val_accuracy'])\n",
        "plt.title('Model Accuracy Score For T/F')\n",
        "plt.ylabel('Score')\n",
        "plt.xlabel('epoch')\n",
        "plt.legend(['train', 'Validation'], loc='upper left')\n",
        "plt.show()\n",
        "#summarize history for loss\n",
        "plt.plot(history.history['loss'])\n",
        "plt.plot(history.history['val_loss'])\n",
        "plt.title('Model Loss For T/F')\n",
        "plt.ylabel('loss')\n",
        "plt.xlabel('epoch')\n",
        "plt.legend(['train', 'Validation'], loc='upper left')\n",
        "plt.show()"
      ]
    },
    {
      "cell_type": "markdown",
      "metadata": {
        "id": "ALAF1xcbmIXS"
      },
      "source": [
        "## Evaluating T/F Model on Unseen Test Set "
      ]
    },
    {
      "cell_type": "code",
      "execution_count": null,
      "metadata": {
        "execution": {
          "iopub.execute_input": "2022-11-04T08:25:27.162646Z",
          "iopub.status.busy": "2022-11-04T08:25:27.162440Z",
          "iopub.status.idle": "2022-11-04T08:25:27.580309Z",
          "shell.execute_reply": "2022-11-04T08:25:27.579586Z",
          "shell.execute_reply.started": "2022-11-04T08:25:27.162626Z"
        },
        "id": "k8fQbwEemIXS",
        "outputId": "8e1ea5d2-aaed-405b-b0ad-39ab9d5f477d"
      },
      "outputs": [
        {
          "name": "stdout",
          "output_type": "stream",
          "text": [
            "28/28 [==============================] - 0s 13ms/step - loss: 0.6352 - accuracy: 0.8076\n"
          ]
        }
      ],
      "source": [
        "evaluation = model.evaluate(TF_Test_X,TF_Test_Y, return_dict=True)\n"
      ]
    },
    {
      "cell_type": "code",
      "execution_count": null,
      "metadata": {
        "execution": {
          "iopub.execute_input": "2022-11-04T08:25:27.581536Z",
          "iopub.status.busy": "2022-11-04T08:25:27.581327Z",
          "iopub.status.idle": "2022-11-04T08:25:28.306020Z",
          "shell.execute_reply": "2022-11-04T08:25:28.305315Z",
          "shell.execute_reply.started": "2022-11-04T08:25:27.581517Z"
        },
        "id": "WboYl09UmIXT",
        "outputId": "2b2ee3fe-5184-4f55-84b4-e6e61484ca66"
      },
      "outputs": [
        {
          "name": "stdout",
          "output_type": "stream",
          "text": [
            "28/28 [==============================] - 1s 13ms/step\n"
          ]
        },
        {
          "data": {
            "image/png": "[encoded data removed]",
            "text/plain": [
              "<Figure size 432x288 with 2 Axes>"
            ]
          },
          "metadata": {
            "needs_background": "light"
          },
          "output_type": "display_data"
        },
        {
          "name": "stdout",
          "output_type": "stream",
          "text": [
            "              precision    recall  f1-score   support\n",
            "\n",
            "           0       0.83      0.81      0.82       465\n",
            "           1       0.79      0.81      0.80       403\n",
            "\n",
            "    accuracy                           0.81       868\n",
            "   macro avg       0.81      0.81      0.81       868\n",
            "weighted avg       0.81      0.81      0.81       868\n",
            "\n",
            "0.8075268817204301\n"
          ]
        }
      ],
      "source": [
        "from sklearn.metrics import confusion_matrix\n",
        "from sklearn.metrics import classification_report\n",
        "from sklearn.metrics import balanced_accuracy_score\n",
        "\n",
        "#Predict\n",
        "TF_predictions = model.predict(TF_Test_X\n",
        ")\n",
        "TF_predictions=tf.math.round(TF_predictions, name=None)\n",
        "TF_confusion = confusion_matrix(TF_Test_Y, TF_predictions)\n",
        "TF_cm_display = metrics.ConfusionMatrixDisplay(confusion_matrix = TF_confusion, display_labels = ['Feeling', 'Thinking'])\n",
        "TF_cm_display.plot()\n",
        "plt.show()\n",
        "print(classification_report(TF_Test_Y, TF_predictions))\n",
        "\n",
        "print(balanced_accuracy_score(TF_Test_Y, TF_predictions))"
      ]
    },
    {
      "cell_type": "markdown",
      "metadata": {
        "id": "Zafq68_5mIXT"
      },
      "source": [
        "## Building The Hybrid DL Model for J/P Dichotomy "
      ]
    },
    {
      "cell_type": "code",
      "execution_count": null,
      "metadata": {
        "execution": {
          "iopub.execute_input": "2022-11-04T08:25:28.307586Z",
          "iopub.status.busy": "2022-11-04T08:25:28.307040Z",
          "iopub.status.idle": "2022-11-04T08:29:25.853164Z",
          "shell.execute_reply": "2022-11-04T08:29:25.852453Z",
          "shell.execute_reply.started": "2022-11-04T08:25:28.307558Z"
        },
        "id": "GBiZItmamIXU",
        "outputId": "e9562b2a-00ab-42b7-c7e7-8805397a3bc8"
      },
      "outputs": [
        {
          "name": "stdout",
          "output_type": "stream",
          "text": [
            "Model: \"sequential_11\"\n",
            "_________________________________________________________________\n",
            " Layer (type)                Output Shape              Param #   \n",
            "=================================================================\n",
            " embedding_11 (Embedding)    (None, 1703, 128)         1280000   \n",
            "                                                                 \n",
            " dropout_11 (Dropout)        (None, 1703, 128)         0         \n",
            "                                                                 \n",
            " conv1d_11 (Conv1D)          (None, 1703, 32)          12320     \n",
            "                                                                 \n",
            " max_pooling1d_11 (MaxPoolin  (None, 851, 32)          0         \n",
            " g1D)                                                            \n",
            "                                                                 \n",
            " lstm_11 (LSTM)              (None, 851, 130)          84760     \n",
            "                                                                 \n",
            " flatten_11 (Flatten)        (None, 110630)            0         \n",
            "                                                                 \n",
            " dense_11 (Dense)            (None, 1)                 110631    \n",
            "                                                                 \n",
            "=================================================================\n",
            "Total params: 1,487,711\n",
            "Trainable params: 1,487,711\n",
            "Non-trainable params: 0\n",
            "_________________________________________________________________\n",
            "None\n",
            "Epoch 1/30\n"
          ]
        },
        {
          "name": "stderr",
          "output_type": "stream",
          "text": [
            "/usr/local/lib/python3.9/dist-packages/keras/optimizers/optimizer_v2/adam.py:110: UserWarning: The `lr` argument is deprecated, use `learning_rate` instead.\n",
            "  super(Adam, self).__init__(name, **kwargs)\n"
          ]
        },
        {
          "name": "stdout",
          "output_type": "stream",
          "text": [
            "217/217 [==============================] - 9s 37ms/step - loss: 0.6742 - accuracy: 0.6017 - val_loss: 0.6798 - val_accuracy: 0.6044\n",
            "Epoch 2/30\n",
            "217/217 [==============================] - 8s 35ms/step - loss: 0.6728 - accuracy: 0.6026 - val_loss: 0.6802 - val_accuracy: 0.6044\n",
            "Epoch 3/30\n",
            "217/217 [==============================] - 8s 38ms/step - loss: 0.6601 - accuracy: 0.6135 - val_loss: 0.6290 - val_accuracy: 0.6736\n",
            "Epoch 4/30\n",
            "217/217 [==============================] - 8s 37ms/step - loss: 0.5183 - accuracy: 0.7480 - val_loss: 0.6504 - val_accuracy: 0.5813\n",
            "Epoch 5/30\n",
            "217/217 [==============================] - 8s 36ms/step - loss: 0.4512 - accuracy: 0.7991 - val_loss: 0.6107 - val_accuracy: 0.6563\n",
            "Epoch 6/30\n",
            "217/217 [==============================] - 8s 38ms/step - loss: 0.4228 - accuracy: 0.8068 - val_loss: 0.6077 - val_accuracy: 0.6644\n",
            "Epoch 7/30\n",
            "217/217 [==============================] - 8s 36ms/step - loss: 0.3881 - accuracy: 0.8336 - val_loss: 0.6486 - val_accuracy: 0.6551\n",
            "Epoch 8/30\n",
            "217/217 [==============================] - 8s 36ms/step - loss: 0.3619 - accuracy: 0.8429 - val_loss: 0.5665 - val_accuracy: 0.7105\n",
            "Epoch 9/30\n",
            "217/217 [==============================] - 8s 36ms/step - loss: 0.3450 - accuracy: 0.8569 - val_loss: 0.6549 - val_accuracy: 0.6586\n",
            "Epoch 10/30\n",
            "217/217 [==============================] - 8s 37ms/step - loss: 0.3311 - accuracy: 0.8673 - val_loss: 0.6960 - val_accuracy: 0.6390\n",
            "Epoch 11/30\n",
            "217/217 [==============================] - 8s 36ms/step - loss: 0.3104 - accuracy: 0.8769 - val_loss: 0.7356 - val_accuracy: 0.6448\n",
            "Epoch 12/30\n",
            "217/217 [==============================] - 8s 36ms/step - loss: 0.2940 - accuracy: 0.8791 - val_loss: 0.7885 - val_accuracy: 0.6240\n",
            "Epoch 13/30\n",
            "217/217 [==============================] - 8s 36ms/step - loss: 0.2860 - accuracy: 0.8856 - val_loss: 0.7307 - val_accuracy: 0.6759\n",
            "Epoch 14/30\n",
            "217/217 [==============================] - 8s 36ms/step - loss: 0.2778 - accuracy: 0.8866 - val_loss: 0.8267 - val_accuracy: 0.6171\n",
            "Epoch 15/30\n",
            "217/217 [==============================] - 8s 36ms/step - loss: 0.2617 - accuracy: 0.8961 - val_loss: 0.6439 - val_accuracy: 0.6943\n",
            "Epoch 16/30\n",
            "217/217 [==============================] - 8s 36ms/step - loss: 0.2414 - accuracy: 0.9095 - val_loss: 0.6528 - val_accuracy: 0.6990\n",
            "Epoch 17/30\n",
            "217/217 [==============================] - 8s 36ms/step - loss: 0.2354 - accuracy: 0.9085 - val_loss: 0.6244 - val_accuracy: 0.7116\n",
            "Epoch 18/30\n",
            "217/217 [==============================] - 8s 36ms/step - loss: 0.2268 - accuracy: 0.9118 - val_loss: 0.6515 - val_accuracy: 0.7163\n",
            "Epoch 19/30\n",
            "217/217 [==============================] - 8s 36ms/step - loss: 0.2070 - accuracy: 0.9177 - val_loss: 0.6304 - val_accuracy: 0.7255\n",
            "Epoch 20/30\n",
            "217/217 [==============================] - 8s 36ms/step - loss: 0.1971 - accuracy: 0.9202 - val_loss: 0.7138 - val_accuracy: 0.7140\n",
            "Epoch 21/30\n",
            "217/217 [==============================] - 8s 36ms/step - loss: 0.1976 - accuracy: 0.9200 - val_loss: 0.7181 - val_accuracy: 0.6990\n",
            "Epoch 22/30\n",
            "217/217 [==============================] - 8s 37ms/step - loss: 0.1826 - accuracy: 0.9291 - val_loss: 0.6341 - val_accuracy: 0.7209\n",
            "Epoch 23/30\n",
            "217/217 [==============================] - 8s 37ms/step - loss: 0.1732 - accuracy: 0.9297 - val_loss: 0.7659 - val_accuracy: 0.6909\n",
            "Epoch 24/30\n",
            "217/217 [==============================] - 8s 36ms/step - loss: 0.1673 - accuracy: 0.9367 - val_loss: 0.6363 - val_accuracy: 0.7347\n",
            "Epoch 25/30\n",
            "217/217 [==============================] - 8s 36ms/step - loss: 0.1546 - accuracy: 0.9409 - val_loss: 0.7684 - val_accuracy: 0.7151\n",
            "Epoch 26/30\n",
            "217/217 [==============================] - 8s 36ms/step - loss: 0.1556 - accuracy: 0.9379 - val_loss: 0.6841 - val_accuracy: 0.7278\n",
            "Epoch 27/30\n",
            "217/217 [==============================] - 8s 36ms/step - loss: 0.1469 - accuracy: 0.9415 - val_loss: 0.7188 - val_accuracy: 0.7336\n",
            "Epoch 28/30\n",
            "217/217 [==============================] - 8s 36ms/step - loss: 0.1427 - accuracy: 0.9444 - val_loss: 0.7093 - val_accuracy: 0.6967\n",
            "Epoch 29/30\n",
            "217/217 [==============================] - 8s 36ms/step - loss: 0.1204 - accuracy: 0.9542 - val_loss: 0.9547 - val_accuracy: 0.7070\n",
            "Epoch 30/30\n",
            "217/217 [==============================] - 8s 36ms/step - loss: 0.1218 - accuracy: 0.9507 - val_loss: 0.7513 - val_accuracy: 0.7405\n"
          ]
        }
      ],
      "source": [
        "from keras.models import Sequential\n",
        "from keras import layers\n",
        "from keras.optimizers import Adam\n",
        "\n",
        "model = Sequential ()\n",
        "model.add (layers.Embedding (10000, 128,input_length=1703))\n",
        "model.add (layers.Dropout (0.8))\n",
        "model.add (layers.Conv1D (32, 3, padding ='same' ,activation = \"relu\"))\n",
        "model.add (layers.MaxPooling1D (2))\n",
        "model.add (layers.LSTM (130, return_sequences = True))\n",
        "model.add (layers.Flatten ())\n",
        "model.add(layers.Dense (1, activation = \"sigmoid\"))\n",
        "model.compile(optimizer=Adam(lr=1e-4),\n",
        "              loss='binary_crossentropy',\n",
        "              metrics=['accuracy'])\n",
        "print (model. summary ())\n",
        "history = model.fit(JP_Train_X,JP_Train_Y, epochs=30,batch_size=32, validation_split=0.111)"
      ]
    },
    {
      "cell_type": "markdown",
      "metadata": {
        "id": "sp4nqyEOmIXU"
      },
      "source": [
        "## Validation Curves for J/P Dichotomy "
      ]
    },
    {
      "cell_type": "code",
      "execution_count": null,
      "metadata": {
        "execution": {
          "iopub.execute_input": "2022-11-04T08:29:25.854706Z",
          "iopub.status.busy": "2022-11-04T08:29:25.854150Z",
          "iopub.status.idle": "2022-11-04T08:29:26.026269Z",
          "shell.execute_reply": "2022-11-04T08:29:26.025684Z",
          "shell.execute_reply.started": "2022-11-04T08:29:25.854686Z"
        },
        "id": "8emosWNKmIXV",
        "outputId": "67251942-6bcc-48a6-d766-8f344166e318"
      },
      "outputs": [
        {
          "data": {
            "image/png": "[encoded data removed]",
            "text/plain": [
              "<Figure size 432x288 with 1 Axes>"
            ]
          },
          "metadata": {
            "needs_background": "light"
          },
          "output_type": "display_data"
        },
        {
          "data": {
            "image/png": "[encoded data removed]",
            "text/plain": [
              "<Figure size 432x288 with 1 Axes>"
            ]
          },
          "metadata": {
            "needs_background": "light"
          },
          "output_type": "display_data"
        }
      ],
      "source": [
        "# summarize history for accuracy\n",
        "plt.plot(history.history['accuracy'])\n",
        "plt.plot(history.history['val_accuracy'])\n",
        "plt.title('Model Accuracy Score For J/P')\n",
        "plt.ylabel('Score')\n",
        "plt.xlabel('epoch')\n",
        "plt.legend(['train', 'Validation'], loc='upper left')\n",
        "plt.show()\n",
        "#summarize history for loss\n",
        "plt.plot(history.history['loss'])\n",
        "plt.plot(history.history['val_loss'])\n",
        "plt.title('Model Loss For J/P')\n",
        "plt.ylabel('loss')\n",
        "plt.xlabel('epoch')\n",
        "plt.legend(['train', 'Validation'], loc='upper left')\n",
        "plt.show()"
      ]
    },
    {
      "cell_type": "markdown",
      "metadata": {
        "id": "Q3YMblDLmIXV"
      },
      "source": [
        "## Evaluating J/P Model on Unseen Test Set "
      ]
    },
    {
      "cell_type": "code",
      "execution_count": null,
      "metadata": {
        "execution": {
          "iopub.execute_input": "2022-11-04T08:29:26.027600Z",
          "iopub.status.busy": "2022-11-04T08:29:26.027117Z",
          "iopub.status.idle": "2022-11-04T08:29:26.440911Z",
          "shell.execute_reply": "2022-11-04T08:29:26.440082Z",
          "shell.execute_reply.started": "2022-11-04T08:29:26.027581Z"
        },
        "id": "g-E-Go_emIXV",
        "outputId": "8e637b37-46e8-476f-dd2e-98c1c0bc1754"
      },
      "outputs": [
        {
          "name": "stdout",
          "output_type": "stream",
          "text": [
            "28/28 [==============================] - 0s 13ms/step - loss: 0.6278 - accuracy: 0.7707\n"
          ]
        }
      ],
      "source": [
        "evaluation = model.evaluate(JP_Test_X,JP_Test_Y, return_dict=True)\n"
      ]
    },
    {
      "cell_type": "code",
      "execution_count": null,
      "metadata": {
        "execution": {
          "iopub.execute_input": "2022-11-04T08:29:26.442672Z",
          "iopub.status.busy": "2022-11-04T08:29:26.442028Z",
          "iopub.status.idle": "2022-11-04T08:29:27.172606Z",
          "shell.execute_reply": "2022-11-04T08:29:27.172045Z",
          "shell.execute_reply.started": "2022-11-04T08:29:26.442646Z"
        },
        "id": "PhrptCEFmIXW",
        "outputId": "4fe883f8-d4e5-4238-8b58-16642b420180"
      },
      "outputs": [
        {
          "name": "stdout",
          "output_type": "stream",
          "text": [
            "28/28 [==============================] - 1s 12ms/step\n"
          ]
        },
        {
          "data": {
            "image/png": "[encoded data removed]",
            "text/plain": [
              "<Figure size 432x288 with 2 Axes>"
            ]
          },
          "metadata": {
            "needs_background": "light"
          },
          "output_type": "display_data"
        },
        {
          "name": "stdout",
          "output_type": "stream",
          "text": [
            "              precision    recall  f1-score   support\n",
            "\n",
            "           0       0.84      0.77      0.81       536\n",
            "           1       0.68      0.77      0.72       332\n",
            "\n",
            "    accuracy                           0.77       868\n",
            "   macro avg       0.76      0.77      0.76       868\n",
            "weighted avg       0.78      0.77      0.77       868\n",
            "\n",
            "0.7708033627045496\n"
          ]
        }
      ],
      "source": [
        "from sklearn.metrics import confusion_matrix\n",
        "from sklearn.metrics import classification_report\n",
        "from sklearn.metrics import balanced_accuracy_score\n",
        "\n",
        "#Predict\n",
        "JP_predictions = model.predict(JP_Test_X\n",
        ")\n",
        "JP_predictions=tf.math.round(JP_predictions, name=None)\n",
        "JP_confusion = confusion_matrix(JP_Test_Y, JP_predictions)\n",
        "JP_cm_display = metrics.ConfusionMatrixDisplay(confusion_matrix = JP_confusion, display_labels = ['Percieving', 'Judging'])\n",
        "JP_cm_display.plot()\n",
        "plt.show()\n",
        "print(classification_report(JP_Test_Y, JP_predictions))\n",
        "\n",
        "print(balanced_accuracy_score(JP_Test_Y, JP_predictions))"
      ]
    }
  ],
  "metadata": {
    "accelerator": "GPU",
    "colab": {
      "provenance": [],
      "include_colab_link": true
    },
    "kernelspec": {
      "display_name": "Python 3 (ipykernel)",
      "language": "python",
      "name": "python3"
    },
    "language_info": {
      "codemirror_mode": {
        "name": "ipython",
        "version": 3
      },
      "file_extension": ".py",
      "mimetype": "text/x-python",
      "name": "python",
      "nbconvert_exporter": "python",
      "pygments_lexer": "ipython3",
      "version": "3.9.13"
    }
  },
  "nbformat": 4,
  "nbformat_minor": 0
}