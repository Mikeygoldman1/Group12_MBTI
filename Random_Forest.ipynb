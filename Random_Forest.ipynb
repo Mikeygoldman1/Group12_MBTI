{
  "cells": [
    {
      "cell_type": "markdown",
      "metadata": {
        "id": "view-in-github",
        "colab_type": "text"
      },
      "source": [
        "<a href=\"https://colab.research.google.com/github/Mikeygoldman1/Group12_MBTI/blob/main/Random_Forest.ipynb\" target=\"_parent\"><img src=\"https://colab.research.google.com/assets/colab-badge.svg\" alt=\"Open In Colab\"/></a>"
      ]
    },
    {
      "cell_type": "markdown",
      "metadata": {
        "id": "8ecZ_rBKhai0"
      },
      "source": [
        "# Prediction of MBTI Personality Using Random Forest Classifier "
      ]
    },
    {
      "cell_type": "code",
      "execution_count": 1,
      "metadata": {
        "execution": {
          "iopub.execute_input": "2022-10-27T10:40:21.469857Z",
          "iopub.status.busy": "2022-10-27T10:40:21.469598Z",
          "iopub.status.idle": "2022-10-27T10:40:21.474037Z",
          "shell.execute_reply": "2022-10-27T10:40:21.473599Z",
          "shell.execute_reply.started": "2022-10-27T10:40:21.469839Z"
        },
        "id": "EmpPUCxu4u17"
      },
      "outputs": [],
      "source": [
        "import pandas as pd\n",
        "import numpy as np\n",
        "import re\n",
        "import os\n",
        "import string\n",
        "import nltk\n",
        "from random import sample\n",
        "from nltk.corpus import stopwords\n",
        "from nltk.tokenize import word_tokenize\n",
        "import seaborn as sns\n",
        "from sklearn import metrics\n",
        "from sklearn import linear_model\n",
        "from sklearn import preprocessing\n",
        "from sklearn import model_selection\n",
        "from sklearn import neighbors\n",
        "from sklearn import naive_bayes\n",
        "from sklearn import neural_network\n",
        "from sklearn.model_selection import ShuffleSplit\n",
        "import matplotlib.pyplot as plt\n",
        "import warnings\n",
        "from collections import Counter\n"
      ]
    },
    {
      "cell_type": "code",
      "execution_count": 2,
      "metadata": {
        "execution": {
          "iopub.execute_input": "2022-10-27T10:40:21.475317Z",
          "iopub.status.busy": "2022-10-27T10:40:21.475153Z",
          "iopub.status.idle": "2022-10-27T10:40:22.196877Z",
          "shell.execute_reply": "2022-10-27T10:40:22.196244Z",
          "shell.execute_reply.started": "2022-10-27T10:40:21.475302Z"
        },
        "id": "_HNMuxej52IO",
        "outputId": "a42e7fc6-3cb8-4ade-97e2-e139548e3f2e",
        "colab": {
          "base_uri": "https://localhost:8080/"
        }
      },
      "outputs": [
        {
          "output_type": "stream",
          "name": "stdout",
          "text": [
            "Mounted at /content/drive\n"
          ]
        }
      ],
      "source": [
        "from google.colab import drive\n",
        "drive.mount('/content/drive')"
      ]
    },
    {
      "cell_type": "code",
      "source": [
        "dataset = pd.read_csv(\"/content/drive/MyDrive/mbti_1.csv\")"
      ],
      "metadata": {
        "id": "Z1A0OFCXi1Rh"
      },
      "execution_count": 3,
      "outputs": []
    },
    {
      "cell_type": "markdown",
      "metadata": {
        "id": "5o1_Re4DQSrw"
      },
      "source": [
        "## Preprocessing "
      ]
    },
    {
      "cell_type": "code",
      "execution_count": null,
      "metadata": {
        "colab": {
          "base_uri": "https://localhost:8080/"
        },
        "execution": {
          "iopub.execute_input": "2022-10-27T10:40:22.325756Z",
          "iopub.status.busy": "2022-10-27T10:40:22.325584Z",
          "iopub.status.idle": "2022-10-27T10:40:24.480945Z",
          "shell.execute_reply": "2022-10-27T10:40:24.480329Z",
          "shell.execute_reply.started": "2022-10-27T10:40:22.325741Z"
        },
        "id": "FPCx3sugClUz",
        "outputId": "3d5ed1ae-d465-4388-adad-913550d7fa7a"
      },
      "outputs": [
        {
          "name": "stdout",
          "output_type": "stream",
          "text": [
            "Requirement already satisfied: contractions in /usr/local/lib/python3.9/dist-packages (0.1.72)\n",
            "Requirement already satisfied: textsearch>=0.0.21 in /usr/local/lib/python3.9/dist-packages (from contractions) (0.0.24)\n",
            "Requirement already satisfied: anyascii in /usr/local/lib/python3.9/dist-packages (from textsearch>=0.0.21->contractions) (0.3.1)\n",
            "Requirement already satisfied: pyahocorasick in /usr/local/lib/python3.9/dist-packages (from textsearch>=0.0.21->contractions) (1.4.4)\n",
            "\u001b[33mWARNING: Running pip as the 'root' user can result in broken permissions and conflicting behaviour with the system package manager. It is recommended to use a virtual environment instead: https://pip.pypa.io/warnings/venv\u001b[0m\u001b[33m\n",
            "\u001b[0m"
          ]
        },
        {
          "name": "stderr",
          "output_type": "stream",
          "text": [
            "[nltk_data] Downloading package punkt to /root/nltk_data...\n",
            "[nltk_data]   Package punkt is already up-to-date!\n",
            "[nltk_data] Downloading package stopwords to /root/nltk_data...\n",
            "[nltk_data]   Package stopwords is already up-to-date!\n",
            "[nltk_data] Downloading package wordnet to /root/nltk_data...\n",
            "[nltk_data]   Package wordnet is already up-to-date!\n",
            "[nltk_data] Downloading package omw-1.4 to /root/nltk_data...\n",
            "[nltk_data]   Package omw-1.4 is already up-to-date!\n"
          ]
        }
      ],
      "source": [
        "import re\n",
        "import nltk\n",
        "!pip install contractions\n",
        "import contractions\n",
        "from nltk.tokenize import word_tokenize\n",
        "nltk.download('punkt')\n",
        "from nltk.corpus import stopwords\n",
        "nltk.download('stopwords')\n",
        "from nltk.stem import WordNetLemmatizer\n",
        "nltk.download('wordnet')\n",
        "nltk.download('omw-1.4')\n",
        "def preprocess_1(text):\n",
        "    # Lowering letters\n",
        "    text = text.lower()\n",
        "\n",
        "    # Removing emails & twitter usernames\n",
        "    text = re.sub('\\S*@\\S*', '', text)\n",
        "\n",
        "    # Expand contractions   \n",
        "    text=contractions.fix(text)\n",
        "        \n",
        "    # Removing urls (S+ matches all non whitespace chars)\n",
        "    text = re.sub(r'http\\S*', '', text)\n",
        "        \n",
        "    # Removing numbers\n",
        "    text = re.sub('[^a-zA-Z]',' ',text)\n",
        "\n",
        "    # Remove MBTI type mentions from posts \n",
        "    # text = re.sub(r\"(intj)|(intp)|(infp)|(infj)|(istj)|(istp)|(isfp)|(isfj)|(entj)|(entp)|(enfp)|(enfj)|(estj)|(estp)|(esfp)|(esfj')\", ' ', text)\n",
        "\n",
        "    return text"
      ]
    },
    {
      "cell_type": "code",
      "execution_count": null,
      "metadata": {
        "execution": {
          "iopub.execute_input": "2022-10-27T10:40:24.482100Z",
          "iopub.status.busy": "2022-10-27T10:40:24.481897Z",
          "iopub.status.idle": "2022-10-27T10:40:24.486609Z",
          "shell.execute_reply": "2022-10-27T10:40:24.485921Z",
          "shell.execute_reply.started": "2022-10-27T10:40:24.482078Z"
        },
        "id": "ZJsNx99DCoJ_"
      },
      "outputs": [],
      "source": [
        "def preprocess_2(text):\n",
        "    # Removing all whitespaces in order to join with proper whitespace\n",
        "    word_tokens = word_tokenize(text)\n",
        "     \n",
        "\n",
        "    # Removing all stop words\n",
        "    english_stopwords = stopwords.words('english')  \n",
        "    word_tokens = [word for word in word_tokens if not word in english_stopwords] \n",
        "    \n",
        "    \n",
        "    # Lemmatize the text \n",
        "    lemmatizer = WordNetLemmatizer()\n",
        "    word_tokens = [lemmatizer.lemmatize(word) for word in word_tokens ]\n",
        "\n",
        "    return ' '.join(word_tokens)\n",
        "    "
      ]
    },
    {
      "cell_type": "code",
      "execution_count": null,
      "metadata": {
        "execution": {
          "iopub.execute_input": "2022-10-27T10:40:24.487335Z",
          "iopub.status.busy": "2022-10-27T10:40:24.487171Z",
          "iopub.status.idle": "2022-10-27T10:41:14.562503Z",
          "shell.execute_reply": "2022-10-27T10:41:14.561829Z",
          "shell.execute_reply.started": "2022-10-27T10:40:24.487319Z"
        },
        "id": "owDEcHHvCufa"
      },
      "outputs": [],
      "source": [
        "dataset['posts'] = dataset['posts'].apply(preprocess_1)\n",
        "dataset['posts'] = dataset['posts'].apply(preprocess_2)"
      ]
    },
    {
      "cell_type": "markdown",
      "metadata": {
        "id": "t9i1y5YiGic9"
      },
      "source": [
        "## Splitting Data into Train and Test sets for each Dichotomy "
      ]
    },
    {
      "cell_type": "code",
      "execution_count": null,
      "metadata": {
        "execution": {
          "iopub.execute_input": "2022-10-27T10:41:14.564886Z",
          "iopub.status.busy": "2022-10-27T10:41:14.564684Z",
          "iopub.status.idle": "2022-10-27T10:41:14.578048Z",
          "shell.execute_reply": "2022-10-27T10:41:14.577536Z",
          "shell.execute_reply.started": "2022-10-27T10:41:14.564871Z"
        },
        "id": "pdRC48Echai_"
      },
      "outputs": [],
      "source": [
        "from sklearn.model_selection import train_test_split\n",
        "Train_X,Test_X,Train_Y,Test_Y=model_selection.train_test_split(dataset['posts'],dataset['type'],random_state=42,test_size=0.1)\n"
      ]
    },
    {
      "cell_type": "code",
      "execution_count": null,
      "metadata": {
        "execution": {
          "iopub.execute_input": "2022-10-27T10:41:14.578998Z",
          "iopub.status.busy": "2022-10-27T10:41:14.578832Z",
          "iopub.status.idle": "2022-10-27T10:41:14.591434Z",
          "shell.execute_reply": "2022-10-27T10:41:14.590919Z",
          "shell.execute_reply.started": "2022-10-27T10:41:14.578983Z"
        },
        "id": "Z9BR0zGBhai_"
      },
      "outputs": [],
      "source": [
        "IE_Train_Y=Train_Y.apply(lambda x: 1 if x[0]=='I' else 0)\n",
        "NS_Train_Y=Train_Y.apply(lambda x: 1 if x[1]=='N' else 0)\n",
        "TF_Train_Y=Train_Y.apply(lambda x: 1 if x[2]=='T' else 0)\n",
        "JP_Train_Y=Train_Y.apply(lambda x: 1 if x[3]=='J' else 0)\n",
        "\n",
        "IE_Test_Y=Test_Y.apply(lambda x: 1 if x[0]=='I' else 0)\n",
        "NS_Test_Y=Test_Y.apply(lambda x: 1 if x[1]=='N' else 0)\n",
        "TF_Test_Y=Test_Y.apply(lambda x: 1 if x[2]=='T' else 0)\n",
        "JP_Test_Y=Test_Y.apply(lambda x: 1 if x[3]=='J' else 0)\n"
      ]
    },
    {
      "cell_type": "markdown",
      "metadata": {
        "id": "Bq9-5NZsb2tU"
      },
      "source": [
        "## Feature Extraction using TF-IDF"
      ]
    },
    {
      "cell_type": "code",
      "execution_count": null,
      "metadata": {
        "execution": {
          "iopub.execute_input": "2022-10-27T10:41:16.649837Z",
          "iopub.status.busy": "2022-10-27T10:41:16.649629Z",
          "iopub.status.idle": "2022-10-27T10:42:09.149572Z",
          "shell.execute_reply": "2022-10-27T10:42:09.148937Z",
          "shell.execute_reply.started": "2022-10-27T10:41:16.649819Z"
        },
        "id": "mDOuIIJKhajA"
      },
      "outputs": [],
      "source": [
        "from sklearn.feature_extraction.text import TfidfVectorizer\n",
        "vectorizer=TfidfVectorizer()\n",
        "Tfidf_vect = TfidfVectorizer(lowercase=False, tokenizer=word_tokenize,max_features=1500)\n",
        "\n",
        "#IE\n",
        "IE_Train_X_Tfidf=Tfidf_vect.fit_transform(Train_X)\n",
        "IE_Test_X_Tfidf=Tfidf_vect.transform(Test_X)\n",
        "#NS\n",
        "NS_Train_X_Tfidf=Tfidf_vect.fit_transform(Train_X)\n",
        "NS_Test_X_Tfidf=Tfidf_vect.transform(Test_X)\n",
        "#TF\n",
        "TF_Train_X_Tfidf=Tfidf_vect.fit_transform(Train_X)\n",
        "TF_Test_X_Tfidf=Tfidf_vect.transform(Test_X)\n",
        "# # #JP\n",
        "JP_Train_X_Tfidf=Tfidf_vect.fit_transform(Train_X)\n",
        "JP_Test_X_Tfidf=Tfidf_vect.transform(Test_X)"
      ]
    },
    {
      "cell_type": "markdown",
      "metadata": {
        "execution": {
          "iopub.execute_input": "2022-10-28T12:48:08.101087Z",
          "iopub.status.busy": "2022-10-28T12:48:08.100770Z",
          "iopub.status.idle": "2022-10-28T12:48:08.105990Z",
          "shell.execute_reply": "2022-10-28T12:48:08.105131Z",
          "shell.execute_reply.started": "2022-10-28T12:48:08.101029Z"
        },
        "id": "tvQwJouqhajB"
      },
      "source": [
        "## Sampling to deal with imbalanced data "
      ]
    },
    {
      "cell_type": "code",
      "execution_count": null,
      "metadata": {
        "id": "7_zzjYxchajB"
      },
      "outputs": [],
      "source": [
        "!pip install imblearn"
      ]
    },
    {
      "cell_type": "code",
      "execution_count": null,
      "metadata": {
        "execution": {
          "iopub.execute_input": "2022-10-27T10:42:09.151086Z",
          "iopub.status.busy": "2022-10-27T10:42:09.150613Z",
          "iopub.status.idle": "2022-10-27T10:42:09.154677Z",
          "shell.execute_reply": "2022-10-27T10:42:09.154172Z",
          "shell.execute_reply.started": "2022-10-27T10:42:09.151069Z"
        },
        "id": "GIj5irVrhajB"
      },
      "outputs": [],
      "source": [
        "\n",
        "# import imblearn\n",
        "# from imblearn.under_sampling import RandomUnderSampler\n",
        "\n",
        "# rus = RandomUnderSampler(random_state=42)\n",
        "\n",
        "# # On Train Dataset \n",
        "# IE_Train_X_Tfidf,IE_Train_Y = rus.fit_resample(IE_Train_X_Tfidf,IE_Train_Y)\n",
        "# NS_Train_X_Tfidf,NS_Train_Y = rus.fit_resample(NS_Train_X_Tfidf,NS_Train_Y)\n",
        "# TF_Train_X_Tfidf,TF_Train_Y = rus.fit_resample(TF_Train_X_Tfidf,TF_Train_Y)\n",
        "# JP_Train_X_Tfidf,JP_Train_Y = rus.fit_resample(JP_Train_X_Tfidf,JP_Train_Y)\n",
        "\n",
        "# print('Resample IE training dataset shape', Counter(IE_Train_Y ))\n",
        "# print('Resample NS training dataset shape', Counter(NS_Train_Y ))\n",
        "# print('Resample TF training dataset shape', Counter(TF_Train_Y ))\n",
        "# print('Resample JP training dataset shape', Counter(JP_Train_Y ))\n",
        "\n",
        "# # On Test Dataset\n",
        "# IE_Test_X_Tfidf,IE_Test_Y = rus.fit_resample(IE_Test_X_Tfidf,IE_Test_Y)\n",
        "# NS_Test_X_Tfidf,NS_Test_Y = rus.fit_resample(NS_Test_X_Tfidf,NS_Test_Y)\n",
        "# TF_Test_X_Tfidf,TF_Test_Y = rus.fit_resample(TF_Test_X_Tfidf,TF_Test_Y)\n",
        "# JP_Test_X_Tfidf,JP_Test_Y = rus.fit_resample(JP_Test_X_Tfidf,JP_Test_Y)\n",
        "\n",
        "\n",
        "# print('Resample IE test dataset shape', Counter(IE_Test_Y ))\n",
        "# print('Resample NS test dataset shape', Counter(NS_Test_Y ))\n",
        "# print('Resample TF test dataset shape', Counter(TF_Test_Y ))\n",
        "# print('Resample JP test dataset shape', Counter(JP_Test_Y ))\n",
        "\n",
        "\n",
        "# import imblearn\n",
        "# from imblearn.over_sampling import SMOTE \n",
        "\n",
        "# rus =  SMOTE(random_state=42)\n",
        "\n",
        "# # On Train Dataset \n",
        "# IE_Train_X_Tfidf,IE_Train_Y = rus.fit_resample(IE_Train_X_Tfidf,IE_Train_Y)\n",
        "# NS_Train_X_Tfidf,NS_Train_Y = rus.fit_resample(NS_Train_X_Tfidf,NS_Train_Y)\n",
        "# TF_Train_X_Tfidf,TF_Train_Y = rus.fit_resample(TF_Train_X_Tfidf,TF_Train_Y)\n",
        "# JP_Train_X_Tfidf,JP_Train_Y = rus.fit_resample(JP_Train_X_Tfidf,JP_Train_Y)\n",
        "\n",
        "# print('Resample IE training dataset shape', Counter(IE_Train_Y ))\n",
        "# print('Resample NS training dataset shape', Counter(NS_Train_Y ))\n",
        "# print('Resample TF training dataset shape', Counter(TF_Train_Y ))\n",
        "# print('Resample JP training dataset shape', Counter(JP_Train_Y ))\n",
        "\n",
        "# # On Test Dataset\n",
        "# IE_Test_X_Tfidf,IE_Test_Y = rus.fit_resample(IE_Test_X_Tfidf,IE_Test_Y)\n",
        "# NS_Test_X_Tfidf,NS_Test_Y = rus.fit_resample(NS_Test_X_Tfidf,NS_Test_Y)\n",
        "# TF_Test_X_Tfidf,TF_Test_Y = rus.fit_resample(TF_Test_X_Tfidf,TF_Test_Y)\n",
        "# JP_Test_X_Tfidf,JP_Test_Y = rus.fit_resample(JP_Test_X_Tfidf,JP_Test_Y)\n",
        "\n",
        "\n",
        "# print('Resample IE test dataset shape', Counter(IE_Test_Y ))\n",
        "# print('Resample NS test dataset shape', Counter(NS_Test_Y ))\n",
        "# print('Resample TF test dataset shape', Counter(TF_Test_Y ))\n",
        "# print('Resample JP test dataset shape', Counter(JP_Test_Y ))\n"
      ]
    },
    {
      "cell_type": "markdown",
      "metadata": {
        "id": "BXBikG0chajC"
      },
      "source": [
        "## Hyperparamter Tuning using Grid Search and Cross Validation"
      ]
    },
    {
      "cell_type": "code",
      "execution_count": null,
      "metadata": {
        "execution": {
          "iopub.execute_input": "2022-10-27T10:42:09.155615Z",
          "iopub.status.busy": "2022-10-27T10:42:09.155445Z",
          "iopub.status.idle": "2022-10-27T10:42:09.158660Z",
          "shell.execute_reply": "2022-10-27T10:42:09.158227Z",
          "shell.execute_reply.started": "2022-10-27T10:42:09.155599Z"
        },
        "id": "fGbzJtghb3Hf"
      },
      "outputs": [],
      "source": [
        "# import imblearn\n",
        "# from sklearn.ensemble import RandomForestClassifier\n",
        "# from sklearn.feature_extraction.text import TfidfVectorizer\n",
        "# from sklearn.model_selection import GridSearchCV\n",
        "# from imblearn.under_sampling import RandomUnderSampler\n",
        "# from imblearn.pipeline import Pipeline \n",
        "# import numpy as np\n",
        "\n",
        "\n",
        "# parameters = {\n",
        "#     \"max_depth\": np.arange(1, 70, 20),\n",
        "#     \"n_estimators\": np.arange(1,5000,300)\n",
        "# }\n",
        "\n",
        "# grid_search_IE = GridSearchCV(RandomForestClassifier(oob_score=True,n_jobs=-1,random_state=42), parameters, n_jobs=-1, verbose=1)\n",
        "# grid_search_NS = GridSearchCV(RandomForestClassifier(oob_score=True,n_jobs=-1,random_state=42), parameters, n_jobs=-1, verbose=1)\n",
        "# grid_search_TF = GridSearchCV(RandomForestClassifier(oob_score=True,n_jobs=-1,random_state=42), parameters, n_jobs=-1, verbose=1)\n",
        "# grid_search_JP = GridSearchCV(RandomForestClassifier(oob_score=True,n_jobs=-1,random_state=42), parameters, n_jobs=-1, verbose=1)\n"
      ]
    },
    {
      "cell_type": "markdown",
      "metadata": {
        "id": "9ERHZa1ehajD"
      },
      "source": [
        "### Results of the GridSearchCV for I/E dichotomy:\n",
        "- max_depth=21\n",
        "- n_estimators=3601\n",
        "- Best score=0.671"
      ]
    },
    {
      "cell_type": "code",
      "execution_count": null,
      "metadata": {
        "execution": {
          "iopub.execute_input": "2022-10-27T10:42:09.159483Z",
          "iopub.status.busy": "2022-10-27T10:42:09.159339Z",
          "iopub.status.idle": "2022-10-27T10:42:09.161756Z",
          "shell.execute_reply": "2022-10-27T10:42:09.161352Z",
          "shell.execute_reply.started": "2022-10-27T10:42:09.159470Z"
        },
        "id": "Y6X1WhN1FTIj"
      },
      "outputs": [],
      "source": [
        "# grid_search_IE.fit(IE_Train_X_Tfidf,IE_Train_Y)\n",
        "# print(\"Best score for I/E dichotomy: %0.3f\" % grid_search_IE.best_score_)\n",
        "# print( grid_search_IE.best_params_)\n"
      ]
    },
    {
      "cell_type": "markdown",
      "metadata": {
        "id": "Qv6lZ_RAhajE"
      },
      "source": [
        "### Results of the GridSearchCV for N/S dichotomy:\n",
        "- max_depth=21\n",
        "- n_estimators=2401\n",
        "- Best score=0.675"
      ]
    },
    {
      "cell_type": "code",
      "execution_count": null,
      "metadata": {
        "execution": {
          "iopub.execute_input": "2022-10-27T10:42:09.162463Z",
          "iopub.status.busy": "2022-10-27T10:42:09.162304Z",
          "iopub.status.idle": "2022-10-27T10:42:09.164841Z",
          "shell.execute_reply": "2022-10-27T10:42:09.164315Z",
          "shell.execute_reply.started": "2022-10-27T10:42:09.162449Z"
        },
        "id": "fHrfoUhYFTIk"
      },
      "outputs": [],
      "source": [
        "# grid_search_NS.fit(NS_Train_X_Tfidf,NS_Train_Y)\n",
        "# print(\"Best score for N/S dichotomy: %0.3f\" % grid_search_NS.best_score_)\n",
        "# print( grid_search_NS.best_params_)\n"
      ]
    },
    {
      "cell_type": "markdown",
      "metadata": {
        "id": "R-KlM0vPhajF"
      },
      "source": [
        "### Results of the GridSearchCV for T/F dichotomy:\n",
        "- max_depth=61\n",
        "- n_estimators=4201\n",
        "- Best score=0.762"
      ]
    },
    {
      "cell_type": "code",
      "execution_count": null,
      "metadata": {
        "execution": {
          "iopub.execute_input": "2022-10-27T10:42:09.165603Z",
          "iopub.status.busy": "2022-10-27T10:42:09.165444Z",
          "iopub.status.idle": "2022-10-27T10:42:09.168043Z",
          "shell.execute_reply": "2022-10-27T10:42:09.167614Z",
          "shell.execute_reply.started": "2022-10-27T10:42:09.165589Z"
        },
        "id": "05j5tvPyFTIk"
      },
      "outputs": [],
      "source": [
        "# grid_search_TF.fit(TF_Train_X_Tfidf,TF_Train_Y)\n",
        "# print(\"Best score for T/F dichotomy: %0.3f\" % grid_search_TF.best_score_)\n",
        "# print( grid_search_TF.best_params_)"
      ]
    },
    {
      "cell_type": "markdown",
      "metadata": {
        "id": "bW4-EWvshajG"
      },
      "source": [
        "### Results of the GridSearchCV for J/P dichotomy:\n",
        "- max_depth=61\n",
        "- n_estimators=4501\n",
        "- Best score= 0.638"
      ]
    },
    {
      "cell_type": "code",
      "execution_count": null,
      "metadata": {
        "execution": {
          "iopub.execute_input": "2022-10-27T10:42:09.168680Z",
          "iopub.status.busy": "2022-10-27T10:42:09.168531Z",
          "iopub.status.idle": "2022-10-27T10:42:09.171301Z",
          "shell.execute_reply": "2022-10-27T10:42:09.170855Z",
          "shell.execute_reply.started": "2022-10-27T10:42:09.168667Z"
        },
        "id": "jg-JcKwFFTIk"
      },
      "outputs": [],
      "source": [
        "# grid_search_JP.fit(JP_Train_X_Tfidf,JP_Train_Y)\n",
        "# print(\"Best score for J/P dichotomy: %0.3f\" % grid_search_JP.best_score_)\n",
        "# print( grid_search_JP.best_params_)\n"
      ]
    },
    {
      "cell_type": "markdown",
      "metadata": {
        "id": "TpTS9TtKhajH"
      },
      "source": [
        "### Validation Graphs for each Dichotomy"
      ]
    },
    {
      "cell_type": "code",
      "execution_count": null,
      "metadata": {
        "execution": {
          "iopub.execute_input": "2022-10-27T10:42:09.172177Z",
          "iopub.status.busy": "2022-10-27T10:42:09.172025Z",
          "iopub.status.idle": "2022-10-27T10:42:09.175286Z",
          "shell.execute_reply": "2022-10-27T10:42:09.174262Z",
          "shell.execute_reply.started": "2022-10-27T10:42:09.172164Z"
        },
        "id": "6YkvSbY2hajH"
      },
      "outputs": [],
      "source": [
        "# from sklearn.model_selection import GridSearchCV\n",
        "# from sklearn.model_selection import StratifiedKFold \n",
        "# from sklearn.ensemble import RandomForestClassifier\n",
        "# parameters = {\n",
        "#     \"n_estimators\":[3301],\n",
        "#     \"max_depth\": np.arange(1, 70, 20)\n",
        "\n",
        "# }\n",
        "# grid = GridSearchCV(RandomForestClassifier(oob_score=True,n_jobs=-1,random_state=42),parameters , cv=5, n_jobs=-1,return_train_score=True)\n",
        "# grid.fit(IE_Train_X_Tfidf,IE_Train_Y)\n",
        "# results_IE1 = pd.DataFrame(grid.cv_results_)"
      ]
    },
    {
      "cell_type": "code",
      "execution_count": null,
      "metadata": {
        "execution": {
          "iopub.execute_input": "2022-10-27T10:42:09.176272Z",
          "iopub.status.busy": "2022-10-27T10:42:09.175944Z",
          "iopub.status.idle": "2022-10-27T10:42:09.178577Z",
          "shell.execute_reply": "2022-10-27T10:42:09.178140Z",
          "shell.execute_reply.started": "2022-10-27T10:42:09.176258Z"
        },
        "id": "q4YQBVklhajH"
      },
      "outputs": [],
      "source": [
        "# parameters = {\n",
        "#     \"n_estimators\": np.arange(1,5000,300),\n",
        "#     \"max_depth\":[61]\n",
        "\n",
        "# }\n",
        "# grid = GridSearchCV(RandomForestClassifier(oob_score=True,n_jobs=-1,random_state=42),parameters , cv=5, n_jobs=-1,return_train_score=True)\n",
        "# grid.fit(IE_Train_X_Tfidf,IE_Train_Y)\n",
        "# results_IE2 = pd.DataFrame(grid.cv_results_)"
      ]
    },
    {
      "cell_type": "code",
      "execution_count": null,
      "metadata": {
        "execution": {
          "iopub.execute_input": "2022-10-27T10:42:09.179286Z",
          "iopub.status.busy": "2022-10-27T10:42:09.179142Z",
          "iopub.status.idle": "2022-10-27T10:42:09.182139Z",
          "shell.execute_reply": "2022-10-27T10:42:09.181747Z",
          "shell.execute_reply.started": "2022-10-27T10:42:09.179274Z"
        },
        "id": "at7qWBtIhajH"
      },
      "outputs": [],
      "source": [
        "# plt.figure(figsize=(10,6))\n",
        "# plt.plot(results_IE1['param_max_depth'],results_IE1['mean_test_score'],color='red',markerfacecolor='red', markersize=10,label='mean_validation_score')\n",
        "# plt.plot(results_IE1['param_max_depth'],results_IE1['mean_train_score'],color='blue',markerfacecolor='red', markersize=10,label='mean_train_score')\n",
        "# plt.title('Score vs Max Depth for I/E dichtomoty',size=15)\n",
        "# plt.xlabel('Max Depth',size=15)\n",
        "# plt.ylabel('Score',size=15)\n",
        "# plt.legend()\n",
        "# plt.show()\n",
        "# plt.figure(figsize=(10,6))\n",
        "# plt.plot(results_IE2['param_n_estimators'],results_IE2['mean_test_score'],color='red',markerfacecolor='red', markersize=10,label='mean_validation_score')\n",
        "# plt.plot(results_IE2['param_n_estimators'],results_IE2['mean_train_score'],color='blue',markerfacecolor='red', markersize=10,label='mean_train_score')\n",
        "# plt.title('Score vs Number of Trees for I/E dichtomoty',size=15)\n",
        "# plt.xlabel('Number of Trees',size=15)\n",
        "# plt.ylabel('Score',size=15)\n",
        "# plt.legend()\n",
        "# plt.show()"
      ]
    },
    {
      "cell_type": "code",
      "execution_count": null,
      "metadata": {
        "execution": {
          "iopub.execute_input": "2022-10-27T10:42:09.182831Z",
          "iopub.status.busy": "2022-10-27T10:42:09.182691Z",
          "iopub.status.idle": "2022-10-27T10:42:09.185371Z",
          "shell.execute_reply": "2022-10-27T10:42:09.184955Z",
          "shell.execute_reply.started": "2022-10-27T10:42:09.182819Z"
        },
        "id": "0vPaAbBzhajI"
      },
      "outputs": [],
      "source": [
        "# from sklearn.model_selection import GridSearchCV\n",
        "# from sklearn.model_selection import StratifiedKFold \n",
        "# from sklearn.ensemble import RandomForestClassifier\n",
        "# parameters = {\n",
        "#     \"max_depth\": np.arange(1, 70, 20),\n",
        "\n",
        "# }\n",
        "# grid = GridSearchCV(RandomForestClassifier(oob_score=True,n_jobs=-1,random_state=42),parameters , cv=5, n_jobs=-1,return_train_score=True)\n",
        "# grid.fit(NS_Train_X_Tfidf,NS_Train_Y)\n",
        "# results_NS1 = pd.DataFrame(grid.cv_results_)"
      ]
    },
    {
      "cell_type": "code",
      "execution_count": null,
      "metadata": {
        "execution": {
          "iopub.execute_input": "2022-10-27T10:42:09.188153Z",
          "iopub.status.busy": "2022-10-27T10:42:09.187991Z",
          "iopub.status.idle": "2022-10-27T10:42:09.190651Z",
          "shell.execute_reply": "2022-10-27T10:42:09.190195Z",
          "shell.execute_reply.started": "2022-10-27T10:42:09.188140Z"
        },
        "id": "_rI8KPfQhajI"
      },
      "outputs": [],
      "source": [
        "# parameters = {\n",
        "#     \"n_estimators\": np.arange(1,5000,300)\n",
        "\n",
        "# }\n",
        "# grid = GridSearchCV(RandomForestClassifier(oob_score=True,n_jobs=-1,random_state=42),parameters , cv=5, n_jobs=-1,return_train_score=True)\n",
        "# grid.fit(NS_Train_X_Tfidf,NS_Train_Y)\n",
        "# results_NS2 = pd.DataFrame(grid.cv_results_)"
      ]
    },
    {
      "cell_type": "code",
      "execution_count": null,
      "metadata": {
        "execution": {
          "iopub.execute_input": "2022-10-27T10:42:09.191655Z",
          "iopub.status.busy": "2022-10-27T10:42:09.191476Z",
          "iopub.status.idle": "2022-10-27T10:42:09.194363Z",
          "shell.execute_reply": "2022-10-27T10:42:09.193922Z",
          "shell.execute_reply.started": "2022-10-27T10:42:09.191641Z"
        },
        "id": "C20HsDvrhajJ"
      },
      "outputs": [],
      "source": [
        "# plt.figure(figsize=(10,6))\n",
        "# plt.plot(results_NS1['param_max_depth'],results_NS1['mean_test_score'],color='red',markerfacecolor='red', markersize=10,label='mean_validation_score')\n",
        "# plt.plot(results_NS1['param_max_depth'],results_NS1['mean_train_score'],color='blue',markerfacecolor='red', markersize=10,label='mean_train_score')\n",
        "# plt.title('Score vs Max Depth for N/S dichtomoty',size=15)\n",
        "# plt.xlabel('Max Depth',size=15)\n",
        "# plt.ylabel('Score',size=15)\n",
        "# plt.legend()\n",
        "# plt.show()\n",
        "# plt.figure(figsize=(10,6))\n",
        "# plt.plot(results_NS2['param_n_estimators'],results_NS2['mean_test_score'],color='red',markerfacecolor='red', markersize=10,label='mean_validation_score')\n",
        "# plt.plot(results_NS2['param_n_estimators'],results_NS2['mean_train_score'],color='blue',markerfacecolor='red', markersize=10,label='mean_train_score')\n",
        "# plt.title('Score vs Number of Trees for N/S dichtomoty',size=15)\n",
        "# plt.xlabel('Number of Trees',size=15)\n",
        "# plt.ylabel('Score',size=15)\n",
        "# plt.legend()\n",
        "# plt.show()"
      ]
    },
    {
      "cell_type": "code",
      "execution_count": null,
      "metadata": {
        "execution": {
          "iopub.execute_input": "2022-10-27T10:42:09.195025Z",
          "iopub.status.busy": "2022-10-27T10:42:09.194876Z",
          "iopub.status.idle": "2022-10-27T10:42:09.197606Z",
          "shell.execute_reply": "2022-10-27T10:42:09.197123Z",
          "shell.execute_reply.started": "2022-10-27T10:42:09.195015Z"
        },
        "id": "sU5g1z3jhajK"
      },
      "outputs": [],
      "source": [
        "# from sklearn.model_selection import GridSearchCV\n",
        "# from sklearn.model_selection import StratifiedKFold \n",
        "# from sklearn.ensemble import RandomForestClassifier\n",
        "# parameters = {\n",
        "#     \"max_depth\": np.arange(1, 70, 20),\n",
        "\n",
        "# }\n",
        "# grid = GridSearchCV(RandomForestClassifier(oob_score=True,n_jobs=-1,random_state=42),parameters , cv=5, n_jobs=-1,return_train_score=True)\n",
        "# grid.fit(TF_Train_X_Tfidf,TF_Train_Y)\n",
        "# results_TF1 = pd.DataFrame(grid.cv_results_)"
      ]
    },
    {
      "cell_type": "code",
      "execution_count": null,
      "metadata": {
        "execution": {
          "iopub.execute_input": "2022-10-27T10:42:09.198300Z",
          "iopub.status.busy": "2022-10-27T10:42:09.198150Z",
          "iopub.status.idle": "2022-10-27T10:42:09.200609Z",
          "shell.execute_reply": "2022-10-27T10:42:09.200204Z",
          "shell.execute_reply.started": "2022-10-27T10:42:09.198287Z"
        },
        "id": "WpR3YGy7hajM"
      },
      "outputs": [],
      "source": [
        "# parameters = {\n",
        "#     \"n_estimators\": np.arange(1,5000,300)\n",
        "\n",
        "# }\n",
        "# grid = GridSearchCV(RandomForestClassifier(oob_score=True,n_jobs=-1,random_state=42),parameters , cv=5, n_jobs=-1,return_train_score=True)\n",
        "# grid.fit(TF_Train_X_Tfidf,TF_Train_Y)\n",
        "# results_TF2 = pd.DataFrame(grid.cv_results_)"
      ]
    },
    {
      "cell_type": "code",
      "execution_count": null,
      "metadata": {
        "execution": {
          "iopub.execute_input": "2022-10-27T10:42:09.201417Z",
          "iopub.status.busy": "2022-10-27T10:42:09.201266Z",
          "iopub.status.idle": "2022-10-27T10:42:09.204019Z",
          "shell.execute_reply": "2022-10-27T10:42:09.203653Z",
          "shell.execute_reply.started": "2022-10-27T10:42:09.201397Z"
        },
        "id": "CfFY9JYOhajO"
      },
      "outputs": [],
      "source": [
        "# plt.figure(figsize=(10,6))\n",
        "# plt.plot(results_TF1['param_max_depth'],results_TF1['mean_test_score'],color='red',markerfacecolor='red', markersize=10,label='mean_validation_score')\n",
        "# plt.plot(results_TF1['param_max_depth'],results_TF1['mean_train_score'],color='blue',markerfacecolor='red', markersize=10,label='mean_train_score')\n",
        "# plt.title('Score vs Max Depth for T/F dichtomoty',size=15)\n",
        "# plt.xlabel('Max Depth',size=15)\n",
        "# plt.ylabel('Score',size=15)\n",
        "# plt.legend()\n",
        "# plt.show()\n",
        "# plt.figure(figsize=(10,6))\n",
        "# plt.plot(results_TF2['param_n_estimators'],results_TF2['mean_test_score'],color='red',markerfacecolor='red', markersize=10,label='mean_validation_score')\n",
        "# plt.plot(results_TF2['param_n_estimators'],results_TF2['mean_train_score'],color='blue',markerfacecolor='red', markersize=10,label='mean_train_score')\n",
        "# plt.title('Score vs Number of Trees for T/F dichtomoty',size=15)\n",
        "# plt.xlabel('Number of Trees',size=15)\n",
        "# plt.ylabel('Score',size=15)\n",
        "# plt.legend()\n",
        "# plt.show()"
      ]
    },
    {
      "cell_type": "code",
      "execution_count": null,
      "metadata": {
        "execution": {
          "iopub.execute_input": "2022-10-27T10:42:09.204990Z",
          "iopub.status.busy": "2022-10-27T10:42:09.204756Z",
          "iopub.status.idle": "2022-10-27T10:42:09.207260Z",
          "shell.execute_reply": "2022-10-27T10:42:09.206816Z",
          "shell.execute_reply.started": "2022-10-27T10:42:09.204975Z"
        },
        "id": "RosNLoE9hajQ"
      },
      "outputs": [],
      "source": [
        "# from sklearn.model_selection import GridSearchCV\n",
        "# from sklearn.model_selection import StratifiedKFold \n",
        "# from sklearn.ensemble import RandomForestClassifier\n",
        "# parameters = {\n",
        "#     \"max_depth\": np.arange(1, 70, 20),\n",
        "\n",
        "# }\n",
        "# grid = GridSearchCV(RandomForestClassifier(oob_score=True,n_jobs=-1,random_state=42),parameters , cv=5, n_jobs=-1,return_train_score=True)\n",
        "# grid.fit(JP_Train_X_Tfidf,JP_Train_Y)\n",
        "# results_JP1 = pd.DataFrame(grid.cv_results_)"
      ]
    },
    {
      "cell_type": "code",
      "execution_count": null,
      "metadata": {
        "execution": {
          "iopub.execute_input": "2022-10-27T10:42:09.207907Z",
          "iopub.status.busy": "2022-10-27T10:42:09.207765Z",
          "iopub.status.idle": "2022-10-27T10:42:09.210475Z",
          "shell.execute_reply": "2022-10-27T10:42:09.210049Z",
          "shell.execute_reply.started": "2022-10-27T10:42:09.207902Z"
        },
        "id": "DSpfyGzUhajR"
      },
      "outputs": [],
      "source": [
        "# parameters = {\n",
        "#     \"n_estimators\": np.arange(1,5000,300)\n",
        "\n",
        "# }\n",
        "# grid = GridSearchCV(RandomForestClassifier(oob_score=True,n_jobs=-1,random_state=42),parameters , cv=5, n_jobs=-1,return_train_score=True)\n",
        "# grid.fit(JP_Train_X_Tfidf,JP_Train_Y)\n",
        "# results_JP2 = pd.DataFrame(grid.cv_results_)"
      ]
    },
    {
      "cell_type": "code",
      "execution_count": null,
      "metadata": {
        "execution": {
          "iopub.execute_input": "2022-10-27T10:42:09.211160Z",
          "iopub.status.busy": "2022-10-27T10:42:09.211018Z",
          "iopub.status.idle": "2022-10-27T10:42:09.213750Z",
          "shell.execute_reply": "2022-10-27T10:42:09.213360Z",
          "shell.execute_reply.started": "2022-10-27T10:42:09.211147Z"
        },
        "id": "Fw2ihdNAhajR"
      },
      "outputs": [],
      "source": [
        "# plt.figure(figsize=(10,6))\n",
        "# plt.plot(results_JP1['param_max_depth'],results_JP1['mean_test_score'],color='red',markerfacecolor='red', markersize=10,label='mean_validation_score')\n",
        "# plt.plot(results_JP1['param_max_depth'],results_JP1['mean_train_score'],color='blue',markerfacecolor='red', markersize=10,label='mean_train_score')\n",
        "# plt.title('Score vs Max Depth for J/P dichtomoty',size=15)\n",
        "# plt.xlabel('Max Depth',size=15)\n",
        "# plt.ylabel('Score',size=15)\n",
        "# plt.legend()\n",
        "# plt.show()\n",
        "# plt.figure(figsize=(10,6))\n",
        "# plt.plot(results_JP2['param_n_estimators'],results_JP2['mean_test_score'],color='red',markerfacecolor='red', markersize=10,label='mean_validation_score')\n",
        "# plt.plot(results_JP2['param_n_estimators'],results_JP2['mean_train_score'],color='blue',markerfacecolor='red', markersize=10,label='mean_train_score')\n",
        "# plt.title('Score vs Number of Trees for J/P dichtomoty',size=15)\n",
        "# plt.xlabel('Number of Trees',size=15)\n",
        "# plt.ylabel('Score',size=15)\n",
        "# plt.legend()\n",
        "# plt.show()"
      ]
    },
    {
      "cell_type": "markdown",
      "metadata": {
        "id": "g3KNEozAhajS"
      },
      "source": [
        "## Results of Tuned Models on the Unseen Test Set "
      ]
    },
    {
      "cell_type": "code",
      "execution_count": null,
      "metadata": {
        "id": "DcRNRhv5hajS"
      },
      "outputs": [],
      "source": [
        "from sklearn.ensemble import RandomForestClassifier\n",
        "from sklearn.metrics import classification_report\n",
        "from sklearn.metrics import balanced_accuracy_score\n",
        "tuned_IE=RandomForestClassifier(max_depth=21, n_estimators=3601,oob_score=True,n_jobs=-1,random_state=42)\n",
        "tuned_IE.fit(IE_Train_X_Tfidf, IE_Train_Y) \n",
        "IE_predictions=tuned_IE.predict(IE_Test_X_Tfidf)\n",
        "print(classification_report(IE_Test_Y, IE_predictions))\n",
        "print(balanced_accuracy_score(IE_Test_Y, IE_predictions))"
      ]
    },
    {
      "cell_type": "code",
      "execution_count": null,
      "metadata": {
        "execution": {
          "iopub.execute_input": "2022-10-27T10:43:31.144060Z",
          "iopub.status.busy": "2022-10-27T10:43:31.143657Z",
          "iopub.status.idle": "2022-10-27T10:44:17.982132Z",
          "shell.execute_reply": "2022-10-27T10:44:17.981317Z",
          "shell.execute_reply.started": "2022-10-27T10:43:31.144042Z"
        },
        "id": "HagNBPH5hajS",
        "outputId": "93549269-e2fd-40dd-d3da-7e853a85c4a1"
      },
      "outputs": [
        {
          "name": "stdout",
          "output_type": "stream",
          "text": [
            "              precision    recall  f1-score   support\n",
            "\n",
            "           0       0.00      0.00      0.00       121\n",
            "           1       0.86      1.00      0.93       747\n",
            "\n",
            "    accuracy                           0.86       868\n",
            "   macro avg       0.43      0.50      0.46       868\n",
            "weighted avg       0.74      0.86      0.80       868\n",
            "\n",
            "0.5\n"
          ]
        },
        {
          "name": "stderr",
          "output_type": "stream",
          "text": [
            "/usr/local/lib/python3.9/dist-packages/sklearn/metrics/_classification.py:1327: UndefinedMetricWarning: Precision and F-score are ill-defined and being set to 0.0 in labels with no predicted samples. Use `zero_division` parameter to control this behavior.\n",
            "  _warn_prf(average, modifier, msg_start, len(result))\n",
            "/usr/local/lib/python3.9/dist-packages/sklearn/metrics/_classification.py:1327: UndefinedMetricWarning: Precision and F-score are ill-defined and being set to 0.0 in labels with no predicted samples. Use `zero_division` parameter to control this behavior.\n",
            "  _warn_prf(average, modifier, msg_start, len(result))\n",
            "/usr/local/lib/python3.9/dist-packages/sklearn/metrics/_classification.py:1327: UndefinedMetricWarning: Precision and F-score are ill-defined and being set to 0.0 in labels with no predicted samples. Use `zero_division` parameter to control this behavior.\n",
            "  _warn_prf(average, modifier, msg_start, len(result))\n"
          ]
        }
      ],
      "source": [
        "from sklearn.ensemble import RandomForestClassifier\n",
        "from sklearn.metrics import classification_report\n",
        "from sklearn.metrics import balanced_accuracy_score\n",
        "tuned_NS=RandomForestClassifier(max_depth=21, n_estimators=2401,oob_score=True,n_jobs=-1,random_state=42)\n",
        "tuned_NS.fit(NS_Train_X_Tfidf, NS_Train_Y) \n",
        "NS_predictions=tuned_NS.predict(NS_Test_X_Tfidf)\n",
        "print(classification_report(NS_Test_Y, NS_predictions))\n",
        "print(balanced_accuracy_score(NS_Test_Y, NS_predictions))"
      ]
    },
    {
      "cell_type": "code",
      "execution_count": null,
      "metadata": {
        "execution": {
          "iopub.execute_input": "2022-10-27T10:44:17.983998Z",
          "iopub.status.busy": "2022-10-27T10:44:17.983415Z",
          "iopub.status.idle": "2022-10-27T10:46:38.149825Z",
          "shell.execute_reply": "2022-10-27T10:46:38.149181Z",
          "shell.execute_reply.started": "2022-10-27T10:44:17.983968Z"
        },
        "id": "kpt1AOwQhajT",
        "outputId": "edd9e8f0-8fb4-467a-9a8d-754672216d76"
      },
      "outputs": [
        {
          "name": "stdout",
          "output_type": "stream",
          "text": [
            "              precision    recall  f1-score   support\n",
            "\n",
            "           0       0.83      0.87      0.85       465\n",
            "           1       0.84      0.79      0.81       403\n",
            "\n",
            "    accuracy                           0.83       868\n",
            "   macro avg       0.83      0.83      0.83       868\n",
            "weighted avg       0.83      0.83      0.83       868\n",
            "\n",
            "0.8300248138957816\n"
          ]
        }
      ],
      "source": [
        "from sklearn.ensemble import RandomForestClassifier\n",
        "from sklearn.metrics import classification_report\n",
        "from sklearn.metrics import balanced_accuracy_score\n",
        "tuned_TF=RandomForestClassifier(max_depth=61, n_estimators=4201,oob_score=True,n_jobs=-1,random_state=42)\n",
        "tuned_TF.fit(TF_Train_X_Tfidf, TF_Train_Y) \n",
        "TF_predictions=tuned_TF.predict(TF_Test_X_Tfidf)\n",
        "print(classification_report(TF_Test_Y, TF_predictions))\n",
        "print(balanced_accuracy_score(TF_Test_Y, TF_predictions))"
      ]
    },
    {
      "cell_type": "code",
      "execution_count": null,
      "metadata": {
        "execution": {
          "iopub.execute_input": "2022-10-27T10:46:38.151000Z",
          "iopub.status.busy": "2022-10-27T10:46:38.150608Z",
          "iopub.status.idle": "2022-10-27T10:49:15.093224Z",
          "shell.execute_reply": "2022-10-27T10:49:15.092719Z",
          "shell.execute_reply.started": "2022-10-27T10:46:38.150984Z"
        },
        "id": "_4R9LSCehajT",
        "outputId": "6be4fcaa-fbe1-4cba-fd91-1f06d5c807d4"
      },
      "outputs": [
        {
          "name": "stdout",
          "output_type": "stream",
          "text": [
            "              precision    recall  f1-score   support\n",
            "\n",
            "           0       0.73      0.98      0.84       536\n",
            "           1       0.92      0.42      0.58       332\n",
            "\n",
            "    accuracy                           0.76       868\n",
            "   macro avg       0.82      0.70      0.71       868\n",
            "weighted avg       0.80      0.76      0.74       868\n",
            "\n",
            "0.7002225319187196\n"
          ]
        }
      ],
      "source": [
        "from sklearn.ensemble import RandomForestClassifier\n",
        "from sklearn.metrics import classification_report\n",
        "from sklearn.metrics import balanced_accuracy_score\n",
        "tuned_JP=RandomForestClassifier(max_depth=61, n_estimators=4501,oob_score=True,n_jobs=-1,random_state=42)\n",
        "tuned_JP.fit(JP_Train_X_Tfidf, JP_Train_Y) \n",
        "JP_predictions=tuned_JP.predict(JP_Test_X_Tfidf)\n",
        "print(classification_report(JP_Test_Y, JP_predictions))\n",
        "print(balanced_accuracy_score(JP_Test_Y, JP_predictions))"
      ]
    },
    {
      "cell_type": "code",
      "execution_count": null,
      "metadata": {
        "execution": {
          "iopub.execute_input": "2022-10-27T10:49:15.094365Z",
          "iopub.status.busy": "2022-10-27T10:49:15.094208Z",
          "iopub.status.idle": "2022-10-27T10:49:15.182098Z",
          "shell.execute_reply": "2022-10-27T10:49:15.181603Z",
          "shell.execute_reply.started": "2022-10-27T10:49:15.094349Z"
        },
        "id": "0j0f4uFJFTIm",
        "outputId": "6f5c0db4-0811-4d30-f3fe-4813277a9bf2"
      },
      "outputs": [
        {
          "data": {
            "image/png": "[encoded data removed]",
            "text/plain": [
              "<Figure size 432x288 with 2 Axes>"
            ]
          },
          "metadata": {
            "needs_background": "light"
          },
          "output_type": "display_data"
        }
      ],
      "source": [
        "from sklearn.metrics import confusion_matrix \n",
        "IE_confusion = confusion_matrix(IE_Test_Y, IE_predictions)\n",
        "IE_cm_display = metrics.ConfusionMatrixDisplay(confusion_matrix = IE_confusion, display_labels = ['Extroversion', 'Introversion'])\n",
        "IE_cm_display.plot()\n",
        "plt.show()\n"
      ]
    },
    {
      "cell_type": "code",
      "execution_count": null,
      "metadata": {
        "execution": {
          "iopub.execute_input": "2022-10-27T10:49:15.183174Z",
          "iopub.status.busy": "2022-10-27T10:49:15.183003Z",
          "iopub.status.idle": "2022-10-27T10:49:15.282862Z",
          "shell.execute_reply": "2022-10-27T10:49:15.282359Z",
          "shell.execute_reply.started": "2022-10-27T10:49:15.183159Z"
        },
        "id": "DPqa7aDZGTjl",
        "outputId": "5e5fa7c7-7ffa-4c13-a173-05f12a1bda47"
      },
      "outputs": [
        {
          "data": {
            "image/png": "[encoded data removed]",
            "text/plain": [
              "<Figure size 432x288 with 2 Axes>"
            ]
          },
          "metadata": {
            "needs_background": "light"
          },
          "output_type": "display_data"
        }
      ],
      "source": [
        "from sklearn.metrics import confusion_matrix \n",
        "NS_confusion = confusion_matrix(NS_Test_Y, NS_predictions)\n",
        "NS_cm_display = metrics.ConfusionMatrixDisplay(confusion_matrix = NS_confusion, display_labels = ['Sensing', 'Intuition'])\n",
        "NS_cm_display.plot()\n",
        "plt.show()"
      ]
    },
    {
      "cell_type": "code",
      "execution_count": null,
      "metadata": {
        "execution": {
          "iopub.execute_input": "2022-10-27T10:49:15.283683Z",
          "iopub.status.busy": "2022-10-27T10:49:15.283518Z",
          "iopub.status.idle": "2022-10-27T10:49:15.365163Z",
          "shell.execute_reply": "2022-10-27T10:49:15.364692Z",
          "shell.execute_reply.started": "2022-10-27T10:49:15.283668Z"
        },
        "id": "MQVdPifoGbVM",
        "outputId": "990dbea7-a730-47c5-f7c5-3e5da8d84d99"
      },
      "outputs": [
        {
          "data": {
            "image/png": "[encoded data removed]",
            "text/plain": [
              "<Figure size 432x288 with 2 Axes>"
            ]
          },
          "metadata": {
            "needs_background": "light"
          },
          "output_type": "display_data"
        }
      ],
      "source": [
        "from sklearn.metrics import confusion_matrix \n",
        "TF_confusion = confusion_matrix(TF_Test_Y, TF_predictions)\n",
        "TF_cm_display = metrics.ConfusionMatrixDisplay(confusion_matrix = TF_confusion, display_labels = ['Feeling', 'Thinking'])\n",
        "TF_cm_display.plot()\n",
        "plt.show()\n"
      ]
    },
    {
      "cell_type": "code",
      "execution_count": null,
      "metadata": {
        "execution": {
          "iopub.execute_input": "2022-10-27T10:49:15.365998Z",
          "iopub.status.busy": "2022-10-27T10:49:15.365827Z",
          "iopub.status.idle": "2022-10-27T10:49:15.457466Z",
          "shell.execute_reply": "2022-10-27T10:49:15.456905Z",
          "shell.execute_reply.started": "2022-10-27T10:49:15.365982Z"
        },
        "id": "G3qZo7kLGjU4",
        "outputId": "908b5cd6-65dd-4f0b-fef4-47603f7d71a7"
      },
      "outputs": [
        {
          "data": {
            "image/png": "[encoded data removed]",
            "text/plain": [
              "<Figure size 432x288 with 2 Axes>"
            ]
          },
          "metadata": {
            "needs_background": "light"
          },
          "output_type": "display_data"
        }
      ],
      "source": [
        "from sklearn.metrics import confusion_matrix \n",
        "JP_confusion = confusion_matrix(JP_Test_Y, JP_predictions)\n",
        "JP_cm_display = metrics.ConfusionMatrixDisplay(confusion_matrix = JP_confusion, display_labels = ['Perceiving', 'Judging'])\n",
        "JP_cm_display.plot()\n",
        "plt.show()"
      ]
    }
  ],
  "metadata": {
    "accelerator": "GPU",
    "colab": {
      "provenance": [],
      "include_colab_link": true
    },
    "kernelspec": {
      "display_name": "Python 3.9.7 64-bit",
      "language": "python",
      "name": "python3"
    },
    "language_info": {
      "codemirror_mode": {
        "name": "ipython",
        "version": 3
      },
      "file_extension": ".py",
      "mimetype": "text/x-python",
      "name": "python",
      "nbconvert_exporter": "python",
      "pygments_lexer": "ipython3",
      "version": "3.9.7"
    },
    "vscode": {
      "interpreter": {
        "hash": "aee8b7b246df8f9039afb4144a1f6fd8d2ca17a180786b69acc140d282b71a49"
      }
    }
  },
  "nbformat": 4,
  "nbformat_minor": 0
}