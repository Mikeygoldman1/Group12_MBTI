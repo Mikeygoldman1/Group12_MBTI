{
  "cells": [
    {
      "cell_type": "markdown",
      "metadata": {
        "id": "view-in-github",
        "colab_type": "text"
      },
      "source": [
        "<a href=\"https://colab.research.google.com/github/Mikeygoldman1/Group12_MBTI/blob/main/SVM_FINAL.ipynb\" target=\"_parent\"><img src=\"https://colab.research.google.com/assets/colab-badge.svg\" alt=\"Open In Colab\"/></a>"
      ]
    },
    {
      "cell_type": "markdown",
      "metadata": {
        "id": "5WchvD72l2Az"
      },
      "source": [
        "# Prediction of MBTI personality using Support Vector Machine (SVM)"
      ]
    },
    {
      "cell_type": "code",
      "execution_count": null,
      "metadata": {
        "execution": {
          "iopub.execute_input": "2022-10-28T12:12:39.180033Z",
          "iopub.status.busy": "2022-10-28T12:12:39.179605Z",
          "iopub.status.idle": "2022-10-28T12:12:50.517091Z",
          "shell.execute_reply": "2022-10-28T12:12:50.516325Z",
          "shell.execute_reply.started": "2022-10-28T12:12:39.179944Z"
        },
        "id": "EmpPUCxu4u17",
        "outputId": "74c9e2ae-c687-4579-896d-ca7caab3e143"
      },
      "outputs": [
        {
          "name": "stdout",
          "output_type": "stream",
          "text": [
            "\u001b[33mWARNING: Running pip as the 'root' user can result in broken permissions and conflicting behaviour with the system package manager. It is recommended to use a virtual environment instead: https://pip.pypa.io/warnings/venv\u001b[0m\u001b[33m\n",
            "\u001b[0m"
          ]
        }
      ],
      "source": [
        "import pandas as pd\n",
        "import numpy as np\n",
        "import re\n",
        "import os\n",
        "import string\n",
        "import nltk\n",
        "from random import sample\n",
        "from nltk.corpus import stopwords\n",
        "from nltk.tokenize import word_tokenize\n",
        "import seaborn as sns\n",
        "from sklearn import metrics\n",
        "from sklearn import linear_model\n",
        "from sklearn import preprocessing\n",
        "from sklearn import model_selection\n",
        "from sklearn import neighbors\n",
        "from sklearn import naive_bayes\n",
        "from sklearn import neural_network\n",
        "from sklearn.model_selection import ShuffleSplit\n",
        "import matplotlib.pyplot as plt\n",
        "import warnings\n",
        "from collections import Counter\n",
        "\n",
        "!pip install plotly>=4.0.0 --quiet\n",
        "import plotly.express as graph\n",
        "\n",
        "import warnings\n",
        "warnings.filterwarnings('ignore')\n"
      ]
    },
    {
      "cell_type": "code",
      "execution_count": null,
      "metadata": {
        "execution": {
          "iopub.execute_input": "2022-10-28T12:12:50.519239Z",
          "iopub.status.busy": "2022-10-28T12:12:50.518512Z",
          "iopub.status.idle": "2022-10-28T12:12:51.352912Z",
          "shell.execute_reply": "2022-10-28T12:12:51.352344Z",
          "shell.execute_reply.started": "2022-10-28T12:12:50.519212Z"
        },
        "id": "gCOlDiyxl2A3"
      },
      "outputs": [],
      "source": [
        "from google.colab import drive\n",
        "drive.mount('/content/drive')"
      ]
    },
    {
      "cell_type": "code",
      "source": [
        "dataset = pd.read_csv(\"/content/drive/MyDrive/mbti_1.csv\")"
      ],
      "metadata": {
        "id": "Tiht6wKYl84G"
      },
      "execution_count": null,
      "outputs": []
    },
    {
      "cell_type": "markdown",
      "metadata": {
        "id": "5o1_Re4DQSrw"
      },
      "source": [
        "## Preprocessing "
      ]
    },
    {
      "cell_type": "code",
      "execution_count": null,
      "metadata": {
        "colab": {
          "base_uri": "https://localhost:8080/"
        },
        "execution": {
          "iopub.execute_input": "2022-10-26T10:40:49.009112Z",
          "iopub.status.busy": "2022-10-26T10:40:49.008944Z",
          "iopub.status.idle": "2022-10-26T10:40:51.517042Z",
          "shell.execute_reply": "2022-10-26T10:40:51.516245Z",
          "shell.execute_reply.started": "2022-10-26T10:40:49.009095Z"
        },
        "id": "FPCx3sugClUz",
        "outputId": "5cd38ce5-2416-4694-96b9-b250bb91249d"
      },
      "outputs": [
        {
          "name": "stdout",
          "output_type": "stream",
          "text": [
            "\u001b[33mWARNING: Running pip as the 'root' user can result in broken permissions and conflicting behaviour with the system package manager. It is recommended to use a virtual environment instead: https://pip.pypa.io/warnings/venv\u001b[0m\u001b[33m\n",
            "\u001b[0m"
          ]
        },
        {
          "name": "stderr",
          "output_type": "stream",
          "text": [
            "[nltk_data] Downloading package punkt to /root/nltk_data...\n",
            "[nltk_data]   Package punkt is already up-to-date!\n",
            "[nltk_data] Downloading package stopwords to /root/nltk_data...\n",
            "[nltk_data]   Package stopwords is already up-to-date!\n",
            "[nltk_data] Downloading package wordnet to /root/nltk_data...\n",
            "[nltk_data]   Package wordnet is already up-to-date!\n",
            "[nltk_data] Downloading package omw-1.4 to /root/nltk_data...\n",
            "[nltk_data]   Package omw-1.4 is already up-to-date!\n"
          ]
        }
      ],
      "source": [
        "import re\n",
        "import nltk\n",
        "!pip install contractions --quiet\n",
        "import contractions\n",
        "from nltk.tokenize import word_tokenize\n",
        "nltk.download('punkt')\n",
        "from nltk.corpus import stopwords\n",
        "nltk.download('stopwords')\n",
        "from nltk.stem import WordNetLemmatizer\n",
        "nltk.download('wordnet')\n",
        "nltk.download('omw-1.4')\n",
        "def preprocess_1(text):\n",
        "    \n",
        "    # Lowering letters\n",
        "    text = text.lower()\n",
        "    \n",
        "    # Removing urls (S+ matches all non whitespace chars)\n",
        "    text = re.sub(r'http\\S*', '', text)\n",
        "\n",
        "    # Removing emails & twitter usernames\n",
        "    text = re.sub('\\S*@\\S*', '', text)\n",
        "\n",
        "    # Expand contractions   \n",
        "    text=contractions.fix(text)\n",
        "        \n",
        "        \n",
        "    # Removing numbers\n",
        "    text = re.sub('[^a-zA-Z]',' ',text)\n",
        "\n",
        "    # Remove MBTI type mentions from posts \n",
        "    text = re.sub(r\"(intj)|(intp)|(infp)|(infj)|(istj)|(istp)|(isfp)|(isfj)|(entj)|(entp)|(enfp)|(enfj)|(estj)|(estp)|(esfp)|(esfj')\", ' ', text)\n",
        "\n",
        "    return text"
      ]
    },
    {
      "cell_type": "code",
      "execution_count": null,
      "metadata": {
        "execution": {
          "iopub.execute_input": "2022-10-26T10:40:51.520756Z",
          "iopub.status.busy": "2022-10-26T10:40:51.520245Z",
          "iopub.status.idle": "2022-10-26T10:40:51.526245Z",
          "shell.execute_reply": "2022-10-26T10:40:51.525572Z",
          "shell.execute_reply.started": "2022-10-26T10:40:51.520722Z"
        },
        "id": "ZJsNx99DCoJ_"
      },
      "outputs": [],
      "source": [
        "def preprocess_2(text):\n",
        "    # Removing all whitespaces in order to join with proper whitespace\n",
        "    word_tokens = word_tokenize(text)\n",
        "     \n",
        "\n",
        "    # Removing all stop words\n",
        "    english_stopwords = stopwords.words('english')  \n",
        "    word_tokens = [word for word in word_tokens if not word in english_stopwords] \n",
        "    \n",
        "    \n",
        "    # Lemmatize the text \n",
        "    lemmatizer = WordNetLemmatizer()\n",
        "    word_tokens = [lemmatizer.lemmatize(word) for word in word_tokens ]\n",
        "\n",
        "    return ' '.join(word_tokens)\n",
        "    "
      ]
    },
    {
      "cell_type": "code",
      "execution_count": null,
      "metadata": {
        "execution": {
          "iopub.execute_input": "2022-10-26T10:40:51.527726Z",
          "iopub.status.busy": "2022-10-26T10:40:51.527228Z",
          "iopub.status.idle": "2022-10-26T10:41:55.402488Z",
          "shell.execute_reply": "2022-10-26T10:41:55.401774Z",
          "shell.execute_reply.started": "2022-10-26T10:40:51.527697Z"
        },
        "id": "owDEcHHvCufa"
      },
      "outputs": [],
      "source": [
        "dataset['posts'] = dataset['posts'].apply(preprocess_1)\n",
        "dataset['posts'] = dataset['posts'].apply(preprocess_2)"
      ]
    },
    {
      "cell_type": "markdown",
      "metadata": {
        "id": "t9i1y5YiGic9"
      },
      "source": [
        "## Splitting dataset into train and test sets for each dichotomy"
      ]
    },
    {
      "cell_type": "markdown",
      "metadata": {
        "id": "yf0siOS2l2A8"
      },
      "source": [
        "Split up the personality types\n",
        "\n",
        "*   IE: I=1, E=0\n",
        "*   NS: N=1, S=0\n",
        "*   TF: T=1, F=0\n",
        "*   JP: J=1, P=0"
      ]
    },
    {
      "cell_type": "code",
      "execution_count": null,
      "metadata": {
        "execution": {
          "iopub.execute_input": "2022-10-26T10:41:55.420857Z",
          "iopub.status.busy": "2022-10-26T10:41:55.420674Z",
          "iopub.status.idle": "2022-10-26T10:41:55.426593Z",
          "shell.execute_reply": "2022-10-26T10:41:55.425912Z",
          "shell.execute_reply.started": "2022-10-26T10:41:55.420839Z"
        },
        "id": "7Ieii7pBl2A8"
      },
      "outputs": [],
      "source": [
        "from sklearn.model_selection import train_test_split\n",
        "#IE dichotomy\n",
        "Train_X,Test_X,Train_Y,Test_Y=model_selection.train_test_split(dataset['posts'],dataset['type'],test_size=0.1)"
      ]
    },
    {
      "cell_type": "code",
      "execution_count": null,
      "metadata": {
        "execution": {
          "iopub.execute_input": "2022-10-26T10:41:55.427597Z",
          "iopub.status.busy": "2022-10-26T10:41:55.427396Z",
          "iopub.status.idle": "2022-10-26T10:41:55.443368Z",
          "shell.execute_reply": "2022-10-26T10:41:55.442572Z",
          "shell.execute_reply.started": "2022-10-26T10:41:55.427572Z"
        },
        "id": "UHDDLBR1l2A9"
      },
      "outputs": [],
      "source": [
        "IE_Train_Y=Train_Y.apply(lambda x: 1 if x[0]=='I' else 0)\n",
        "NS_Train_Y=Train_Y.apply(lambda x: 1 if x[1]=='N' else 0)\n",
        "TF_Train_Y=Train_Y.apply(lambda x: 1 if x[2]=='T' else 0)\n",
        "JP_Train_Y=Train_Y.apply(lambda x: 1 if x[3]=='J' else 0)\n",
        "\n",
        "\n",
        "IE_Test_Y=Test_Y.apply(lambda x: 1 if x[0]=='I' else 0)\n",
        "NS_Test_Y=Test_Y.apply(lambda x: 1 if x[1]=='N' else 0)\n",
        "TF_Test_Y=Test_Y.apply(lambda x: 1 if x[2]=='T' else 0)\n",
        "JP_Test_Y=Test_Y.apply(lambda x: 1 if x[3]=='J' else 0)"
      ]
    },
    {
      "cell_type": "code",
      "execution_count": null,
      "metadata": {
        "execution": {
          "iopub.execute_input": "2022-10-26T10:41:55.444666Z",
          "iopub.status.busy": "2022-10-26T10:41:55.444397Z",
          "iopub.status.idle": "2022-10-26T10:41:55.449561Z",
          "shell.execute_reply": "2022-10-26T10:41:55.448742Z",
          "shell.execute_reply.started": "2022-10-26T10:41:55.444640Z"
        },
        "id": "2p5S-lr9l2A9"
      },
      "outputs": [],
      "source": [
        "IE_Train_X=Train_X\n",
        "NS_Train_X=Train_X\n",
        "TF_Train_X=Train_X\n",
        "JP_Train_X=Train_X\n",
        "\n",
        "IE_Test_X=Test_X\n",
        "NS_Test_X=Test_X\n",
        "TF_Test_X=Test_X\n",
        "JP_Test_X=Test_X"
      ]
    },
    {
      "cell_type": "markdown",
      "metadata": {
        "id": "I9FGzcUhl2A9"
      },
      "source": [
        "## Feature extraction using TF-idf"
      ]
    },
    {
      "cell_type": "code",
      "execution_count": null,
      "metadata": {
        "execution": {
          "iopub.execute_input": "2022-10-26T10:41:55.450845Z",
          "iopub.status.busy": "2022-10-26T10:41:55.450604Z",
          "iopub.status.idle": "2022-10-26T10:43:34.052021Z",
          "shell.execute_reply": "2022-10-26T10:43:34.051229Z",
          "shell.execute_reply.started": "2022-10-26T10:41:55.450824Z"
        },
        "id": "P0UT9ITPl2A-"
      },
      "outputs": [],
      "source": [
        "from sklearn.feature_extraction.text import TfidfVectorizer\n",
        "vectorizer=TfidfVectorizer()\n",
        "Tfidf_vect = TfidfVectorizer(lowercase=False, tokenizer=word_tokenize,max_features=1500)\n",
        "\n",
        "#IE\n",
        "Tfidf_vect.fit(IE_Train_X)\n",
        "IE_Train_X_Tfidf=Tfidf_vect.transform(IE_Train_X)\n",
        "IE_Test_X_Tfidf=Tfidf_vect.transform(IE_Test_X)\n",
        "\n",
        "#NS\n",
        "Tfidf_vect.fit(NS_Train_X)\n",
        "NS_Train_X_Tfidf=Tfidf_vect.transform(NS_Train_X)\n",
        "NS_Test_X_Tfidf=Tfidf_vect.transform(NS_Test_X)\n",
        "\n",
        "#TF\n",
        "Tfidf_vect.fit(TF_Train_X)\n",
        "TF_Train_X_Tfidf=Tfidf_vect.transform(TF_Train_X)\n",
        "TF_Test_X_Tfidf=Tfidf_vect.transform(TF_Test_X)\n",
        "\n",
        "#JP\n",
        "Tfidf_vect.fit(JP_Train_X)\n",
        "JP_Train_X_Tfidf=Tfidf_vect.transform(JP_Train_X)\n",
        "JP_Test_X_Tfidf=Tfidf_vect.transform(JP_Test_X)"
      ]
    },
    {
      "cell_type": "markdown",
      "metadata": {
        "id": "dRYPja4kl2A_"
      },
      "source": [
        "## Sampling for imbalanced data"
      ]
    },
    {
      "cell_type": "markdown",
      "metadata": {
        "id": "WLNKQVEjl2A_"
      },
      "source": [
        "### Random Undersampling"
      ]
    },
    {
      "cell_type": "code",
      "execution_count": null,
      "metadata": {
        "execution": {
          "iopub.execute_input": "2022-10-26T10:43:34.053525Z",
          "iopub.status.busy": "2022-10-26T10:43:34.052999Z",
          "iopub.status.idle": "2022-10-26T10:43:36.415043Z",
          "shell.execute_reply": "2022-10-26T10:43:36.414266Z",
          "shell.execute_reply.started": "2022-10-26T10:43:34.053502Z"
        },
        "id": "RYVqjq5Tl2A_",
        "outputId": "69884ec8-8ac0-4c10-81fa-0346e6f9056f"
      },
      "outputs": [
        {
          "name": "stdout",
          "output_type": "stream",
          "text": [
            "\u001b[33mWARNING: Running pip as the 'root' user can result in broken permissions and conflicting behaviour with the system package manager. It is recommended to use a virtual environment instead: https://pip.pypa.io/warnings/venv\u001b[0m\u001b[33m\n",
            "\u001b[0m"
          ]
        }
      ],
      "source": [
        "!pip install imblearn --quiet\n",
        "from imblearn.under_sampling import RandomUnderSampler\n",
        "rus=RandomUnderSampler(random_state=42)\n",
        "def ros(x_train,y_train):\n",
        "  X, y = rus.fit_resample(x_train, y_train)\n",
        "  return X,y\n",
        "\n",
        "# On Train set\n",
        "IE_Train_X_Tfidf,IE_Train_Y=ros(IE_Train_X_Tfidf,IE_Train_Y)\n",
        "NS_Train_X_Tfidf,NS_Train_Y=ros(NS_Train_X_Tfidf,NS_Train_Y)\n",
        "TF_Train_X_Tfidf,TF_Train_Y=ros(TF_Train_X_Tfidf,TF_Train_Y)\n",
        "JP_Train_X_Tfidf,JP_Train_Y=ros(JP_Train_X_Tfidf,JP_Train_Y)\n",
        "\n",
        "# On whole dataset\n",
        "IE_Test_X_Tfidf,IE_Test_Y=ros(IE_Test_X_Tfidf,IE_Test_Y)\n",
        "NS_Test_X_Tfidf,NS_Test_Y=ros(NS_Test_X_Tfidf,NS_Test_Y)\n",
        "TF_Test_X_Tfidf,TF_Test_Y=ros(TF_Test_X_Tfidf,TF_Test_Y)\n",
        "JP_Test_X_Tfidf,JP_Test_Y=ros(JP_Test_X_Tfidf,JP_Test_Y)"
      ]
    },
    {
      "cell_type": "markdown",
      "metadata": {
        "id": "lOdnxj1al2BA"
      },
      "source": [
        "### SMOTE"
      ]
    },
    {
      "cell_type": "code",
      "execution_count": null,
      "metadata": {
        "id": "vNIZkYRBl2BA"
      },
      "outputs": [],
      "source": [
        "!pip install imblearn --quiet\n",
        "import imblearn\n",
        "from imblearn.over_sampling import SMOTE \n",
        "\n",
        "ros =  SMOTE(random_state=42)\n",
        "\n",
        "# On Train set\n",
        "IE_Train_X_Tfidf,IE_Train_Y=ros.fit_resample(IE_Train_X_Tfidf,IE_Train_Y)\n",
        "NS_Train_X_Tfidf,NS_Train_Y=ros.fit_resample(NS_Train_X_Tfidf,NS_Train_Y)\n",
        "TF_Train_X_Tfidf,TF_Train_Y=ros.fit_resample(TF_Train_X_Tfidf,TF_Train_Y)\n",
        "JP_Train_X_Tfidf,JP_Train_Y=ros.fit_resample(JP_Train_X_Tfidf,JP_Train_Y)\n",
        "\n",
        "# On whole dataset\n",
        "IE_Test_X_Tfidf,IE_Test_Y=ros.fit_resample(IE_Test_X_Tfidf,IE_Test_Y)\n",
        "NS_Test_X_Tfidf,NS_Test_Y=ros.fit_resample(NS_Test_X_Tfidf,NS_Test_Y)\n",
        "TF_Test_X_Tfidf,TF_Test_Y=ros.fit_resample(TF_Test_X_Tfidf,TF_Test_Y)\n",
        "JP_Test_X_Tfidf,JP_Test_Y=ros.fit_resample(JP_Test_X_Tfidf,JP_Test_Y)"
      ]
    },
    {
      "cell_type": "markdown",
      "metadata": {
        "id": "3ZoQidhkow6L"
      },
      "source": [
        "## Support-Vector Machine"
      ]
    },
    {
      "cell_type": "markdown",
      "metadata": {
        "id": "xmi-FZkHl2BB"
      },
      "source": [
        "### Hyperparameter tuning using grid-search and cross-validation"
      ]
    },
    {
      "cell_type": "markdown",
      "metadata": {
        "id": "ICteGMWql2BB"
      },
      "source": [
        "### Hyperparameter tuning results:\n",
        "### IE:\n",
        "- C:1\n",
        "- gamma:scale\n",
        "- kernel: rbf\n",
        "\n",
        "### NS:\n",
        "- C:1\n",
        "- gamma:scale\n",
        "- kernel: rbf\n",
        "\n",
        "### TF:\n",
        "- C:1\n",
        "- gamma:scale\n",
        "- kernel: rbf\n",
        "\n",
        "### JP:\n",
        "- C:1\n",
        "- gamma:scale\n",
        "- kernel: rbf"
      ]
    },
    {
      "cell_type": "code",
      "execution_count": null,
      "metadata": {
        "execution": {
          "iopub.execute_input": "2022-10-26T10:43:36.416396Z",
          "iopub.status.busy": "2022-10-26T10:43:36.416159Z",
          "iopub.status.idle": "2022-10-26T10:43:36.419772Z",
          "shell.execute_reply": "2022-10-26T10:43:36.419268Z",
          "shell.execute_reply.started": "2022-10-26T10:43:36.416370Z"
        },
        "id": "bIsSCyU4cdKB"
      },
      "outputs": [],
      "source": [
        "from sklearn.model_selection import GridSearchCV\n",
        "from sklearn.feature_extraction.text import TfidfVectorizer"
      ]
    },
    {
      "cell_type": "code",
      "execution_count": null,
      "metadata": {
        "execution": {
          "iopub.execute_input": "2022-10-26T10:43:36.420655Z",
          "iopub.status.busy": "2022-10-26T10:43:36.420483Z",
          "iopub.status.idle": "2022-10-26T10:43:38.999881Z",
          "shell.execute_reply": "2022-10-26T10:43:38.998995Z",
          "shell.execute_reply.started": "2022-10-26T10:43:36.420637Z"
        },
        "id": "Dey8ia6fg8FD",
        "outputId": "251ef998-b884-4912-b900-067f1f56c67f"
      },
      "outputs": [
        {
          "name": "stdout",
          "output_type": "stream",
          "text": [
            "\u001b[33mWARNING: Running pip as the 'root' user can result in broken permissions and conflicting behaviour with the system package manager. It is recommended to use a virtual environment instead: https://pip.pypa.io/warnings/venv\u001b[0m\u001b[33m\n",
            "\u001b[0m"
          ]
        }
      ],
      "source": [
        "from sklearn.svm import SVC\n",
        "from sklearn.metrics import classification_report\n",
        "from sklearn.metrics import accuracy_score\n",
        "from sklearn.metrics import roc_auc_score\n",
        "from sklearn.metrics import roc_curve\n",
        "from sklearn.metrics import balanced_accuracy_score\n",
        "\n",
        "!pip install imblearn --quiet\n",
        "from imblearn.under_sampling import RandomUnderSampler\n",
        "from imblearn.pipeline import Pipeline\n",
        "from sklearn.metrics import f1_score, make_scorer"
      ]
    },
    {
      "cell_type": "code",
      "execution_count": null,
      "metadata": {
        "execution": {
          "iopub.execute_input": "2022-10-26T10:43:39.001273Z",
          "iopub.status.busy": "2022-10-26T10:43:39.001034Z",
          "iopub.status.idle": "2022-10-26T10:43:39.005343Z",
          "shell.execute_reply": "2022-10-26T10:43:39.004675Z",
          "shell.execute_reply.started": "2022-10-26T10:43:39.001246Z"
        },
        "id": "PuQaDGOrciE9"
      },
      "outputs": [],
      "source": [
        "# parameters = {\n",
        "#     'C': [0.001, 0.01, 0.1, 1, 10, 100,1000,10000],\n",
        "#     'gamma': ['scale', 'auto'],\n",
        "#     'kernel': ['rbf']\n",
        "# }"
      ]
    },
    {
      "cell_type": "code",
      "execution_count": null,
      "metadata": {
        "execution": {
          "iopub.execute_input": "2022-10-26T10:43:39.006308Z",
          "iopub.status.busy": "2022-10-26T10:43:39.006131Z",
          "iopub.status.idle": "2022-10-26T10:43:39.010263Z",
          "shell.execute_reply": "2022-10-26T10:43:39.009626Z",
          "shell.execute_reply.started": "2022-10-26T10:43:39.006290Z"
        },
        "id": "Ll8WoDg7xgy8"
      },
      "outputs": [],
      "source": [
        "## IE\n",
        "# grid_searchIE = GridSearchCV(SVC(probability=True), parameters, n_jobs=-1, verbose=1, return_train_score=True)\n",
        "# grid_searchIE.fit(IE_Train_X_Tfidf,IE_Train_Y)   \n",
        "# print(\"Best score for IE: %0.3f\" % grid_searchIE.best_score_)\n",
        "# print(\"Best parameters set for IE:\")\n",
        "# best_parametersIE = grid_searchIE.best_params_\n",
        "# print(best_parametersIE)\n",
        "\n",
        "# #NS\n",
        "# grid_searchNS = GridSearchCV(SVC(probability=True), parameters, n_jobs=-1, verbose=1, return_train_score=True)\n",
        "# grid_searchNS.fit(NS_Train_X_Tfidf,NS_Train_Y)   \n",
        "# print(\"Best score for NS: %0.3f\" % grid_searchNS.best_score_)\n",
        "# print(\"Best parameters set for NS:\")\n",
        "# best_parametersNS = grid_searchNS.best_params_\n",
        "# print(best_parametersNS)\n",
        "\n",
        "# #TF\n",
        "# grid_searchTF = GridSearchCV(SVC(probability=True), parameters, n_jobs=-1, verbose=1, return_train_score=True)\n",
        "# grid_searchTF.fit(TF_Train_X_Tfidf,TF_Train_Y)   \n",
        "# print(\"Best score for TF: %0.3f\" % grid_searchTF.best_score_)\n",
        "# print(\"Best parameters set for TF:\")\n",
        "# best_parametersTF = grid_searchTF.best_params_\n",
        "# print(best_parametersTF)\n",
        "\n",
        "# #JP\n",
        "# grid_searchJP = GridSearchCV(SVC(probability=True), parameters, n_jobs=-1, verbose=1, return_train_score=True)\n",
        "# grid_searchJP.fit(JP_Train_X_Tfidf,JP_Train_Y)   \n",
        "# print(\"Best score for JP: %0.3f\" % grid_searchJP.best_score_)\n",
        "# print(\"Best parameters set for JP:\")\n",
        "# best_parametersJP = grid_searchJP.best_params_\n",
        "# print(best_parametersJP)\n"
      ]
    },
    {
      "cell_type": "markdown",
      "metadata": {
        "id": "5ZyTjBwZl2BD"
      },
      "source": [
        "### Validation graphs for each dichotomy"
      ]
    },
    {
      "cell_type": "code",
      "execution_count": null,
      "metadata": {
        "execution": {
          "iopub.execute_input": "2022-10-26T10:43:39.011301Z",
          "iopub.status.busy": "2022-10-26T10:43:39.011128Z",
          "iopub.status.idle": "2022-10-26T10:43:39.014964Z",
          "shell.execute_reply": "2022-10-26T10:43:39.014423Z",
          "shell.execute_reply.started": "2022-10-26T10:43:39.011284Z"
        },
        "id": "vyDkKAZul2BD"
      },
      "outputs": [],
      "source": [
        "# from sklearn.model_selection import GridSearchCV\n",
        "\n",
        "# #IE\n",
        "# parameters = {\n",
        "#     'C': [0.001, 0.01, 0.1, 1, 10, 100,1000,10000],\n",
        "#     'gamma': ['scale'],\n",
        "#     'kernel': ['rbf']\n",
        "# }\n",
        "\n",
        "# grid = GridSearchCV(SVC(probability=True), parameters , cv=5, n_jobs=-1,return_train_score=True)\n",
        "# grid.fit(IE_Train_X_Tfidf,IE_Train_Y)\n",
        "# results_IE1 = pd.DataFrame(grid.cv_results_)\n",
        "\n",
        "# #NS\n",
        "# parameters = {\n",
        "#     'C': [0.001, 0.01, 0.1, 1, 10, 100,1000,10000],\n",
        "#     'gamma': ['scale'],\n",
        "#     'kernel': ['rbf']\n",
        "# }\n",
        "\n",
        "# grid = GridSearchCV(SVC(probability=True), parameters , cv=5, n_jobs=-1,return_train_score=True)\n",
        "# grid.fit(NS_Train_X_Tfidf,NS_Train_Y)\n",
        "# results_NS1 = pd.DataFrame(grid.cv_results_)\n",
        "\n",
        "# #TF\n",
        "# parameters = {\n",
        "#     'C': [0.001, 0.01, 0.1, 1, 10, 100,1000,10000],\n",
        "#     'gamma': ['scale'],\n",
        "#     'kernel': ['rbf']\n",
        "# }\n",
        "\n",
        "# grid = GridSearchCV(SVC(probability=True), parameters , cv=5, n_jobs=-1,return_train_score=True)\n",
        "# grid.fit(TF_Train_X_Tfidf,TF_Train_Y)\n",
        "# results_TF1 = pd.DataFrame(grid.cv_results_)\n",
        "\n",
        "# #JP\n",
        "# parameters = {\n",
        "#     'C': [0.001, 0.01, 0.1, 1, 10, 100,1000,10000],\n",
        "#     'gamma': ['scale'],\n",
        "#     'kernel': ['rbf']\n",
        "# }\n",
        "\n",
        "# grid = GridSearchCV(SVC(probability=True), parameters , cv=5, n_jobs=-1,return_train_score=True)\n",
        "# grid.fit(JP_Train_X_Tfidf,JP_Train_Y)\n",
        "# results_JP1 = pd.DataFrame(grid.cv_results_)"
      ]
    },
    {
      "cell_type": "code",
      "execution_count": null,
      "metadata": {
        "execution": {
          "iopub.execute_input": "2022-10-26T10:43:39.015856Z",
          "iopub.status.busy": "2022-10-26T10:43:39.015666Z",
          "iopub.status.idle": "2022-10-26T10:43:39.019100Z",
          "shell.execute_reply": "2022-10-26T10:43:39.018607Z",
          "shell.execute_reply.started": "2022-10-26T10:43:39.015821Z"
        },
        "id": "FeZflUnbl2BE"
      },
      "outputs": [],
      "source": [
        "# #IE\n",
        "# parameters = {\n",
        "#     'C': [1],\n",
        "#     'gamma': ['scale', 'auto'],\n",
        "#     'kernel': ['rbf']\n",
        "# }\n",
        "\n",
        "# grid = GridSearchCV(SVC(probability=True), parameters , cv=5, n_jobs=-1, return_train_score=True)\n",
        "# grid.fit(IE_Train_X_Tfidf,IE_Train_Y)\n",
        "# results_IE2 = pd.DataFrame(grid.cv_results_)\n",
        "\n",
        "# #NS\n",
        "# parameters = {\n",
        "#     'C': [1],\n",
        "#     'gamma': ['scale', 'auto'],\n",
        "#     'kernel': ['rbf']\n",
        "# }\n",
        "\n",
        "# grid = GridSearchCV(SVC(probability=True), parameters , cv=5, n_jobs=-1,return_train_score=True)\n",
        "# grid.fit(NS_Train_X_Tfidf,NS_Train_Y)\n",
        "# results_NS2 = pd.DataFrame(grid.cv_results_)\n",
        "\n",
        "# #TF\n",
        "# parameters = {\n",
        "#     'C': [1],\n",
        "#     'gamma': ['scale', 'auto'],\n",
        "#     'kernel': ['rbf']\n",
        "# }\n",
        "\n",
        "# grid = GridSearchCV(SVC(probability=True), parameters , cv=5, n_jobs=-1,return_train_score=True)\n",
        "# grid.fit(TF_Train_X_Tfidf,TF_Train_Y)\n",
        "# results_TF2 = pd.DataFrame(grid.cv_results_)\n",
        "\n",
        "# #JP\n",
        "# parameters = {\n",
        "#     'C': [1],\n",
        "#     'gamma': ['scale', 'auto'],\n",
        "#     'kernel': ['rbf']\n",
        "# }\n",
        "\n",
        "# grid = GridSearchCV(SVC(probability=True), parameters , cv=5, n_jobs=-1,return_train_score=True)\n",
        "# grid.fit(JP_Train_X_Tfidf,JP_Train_Y)\n",
        "# results_JP2 = pd.DataFrame(grid.cv_results_)"
      ]
    },
    {
      "cell_type": "code",
      "execution_count": null,
      "metadata": {
        "execution": {
          "iopub.execute_input": "2022-10-26T10:43:39.020071Z",
          "iopub.status.busy": "2022-10-26T10:43:39.019903Z",
          "iopub.status.idle": "2022-10-26T10:43:39.024157Z",
          "shell.execute_reply": "2022-10-26T10:43:39.023647Z",
          "shell.execute_reply.started": "2022-10-26T10:43:39.020055Z"
        },
        "id": "hImj5yANl2BE"
      },
      "outputs": [],
      "source": [
        "# #IE\n",
        "# plt.figure(figsize=(10,6))\n",
        "# plt.plot(results_IE1['param_C'], results_IE1['mean_test_score'],color='red',markerfacecolor='red', markersize=10,label='mean_validation_score')\n",
        "# plt.plot(results_IE1['param_C'],results_IE1['mean_train_score'],color='blue',markerfacecolor='red', markersize=10,label='mean_train_score')\n",
        "# plt.title('Score vs C for I/E dichtomoty',size=15)\n",
        "# plt.xlabel('C',size=15)\n",
        "# plt.ylabel('Score',size=15)\n",
        "# plt.legend()\n",
        "# plt.show()\n",
        "\n",
        "# plt.figure(figsize=(10,6))\n",
        "# plt.plot(results_IE2['param_gamma'],results_IE2['mean_test_score'],color='red',markerfacecolor='red', markersize=10,label='mean_validation_score')\n",
        "# plt.plot(results_IE2['param_gamma'],results_IE2['mean_train_score'],color='blue',markerfacecolor='red', markersize=10,label='mean_train_score')\n",
        "# plt.title('Score vs gamma for I/E dichtomoty',size=15)\n",
        "# plt.xlabel('Gamma',size=15)\n",
        "# plt.ylabel('Score',size=15)\n",
        "# plt.legend()\n",
        "# plt.show()\n",
        "\n",
        "# #NS\n",
        "# plt.figure(figsize=(10,6))\n",
        "# plt.plot(results_NS1['param_C'],results_NS1['mean_test_score'],color='red',markerfacecolor='red', markersize=10,label='mean_validation_score')\n",
        "# plt.plot(results_NS1['param_C'],results_NS1['mean_train_score'],color='blue',markerfacecolor='red', markersize=10,label='mean_train_score')\n",
        "# plt.title('Score vs C for N/S dichtomoty',size=15)\n",
        "# plt.xlabel('C',size=15)\n",
        "# plt.ylabel('Score',size=15)\n",
        "# plt.legend()\n",
        "# plt.show()\n",
        "\n",
        "# plt.figure(figsize=(10,6))\n",
        "# plt.plot(results_NS2['param_gamma'],results_NS2['mean_test_score'],color='red',markerfacecolor='red', markersize=10,label='mean_validation_score')\n",
        "# plt.plot(results_NS2['param_gamma'],results_NS2['mean_train_score'],color='blue',markerfacecolor='red', markersize=10,label='mean_train_score')\n",
        "# plt.title('Score vs gamma for N/S dichtomoty',size=15)\n",
        "# plt.xlabel('Gamma',size=15)\n",
        "# plt.ylabel('Score',size=15)\n",
        "# plt.legend()\n",
        "# plt.show()\n",
        "\n",
        "#TF\n",
        "# plt.figure(figsize=(10,6))\n",
        "# plt.plot(results_TF1['param_C'],results_TF1['mean_test_score'],color='red',markerfacecolor='red', markersize=10,label='mean_validation_score')\n",
        "# plt.plot(results_TF1['param_C'],results_TF1['mean_train_score'],color='blue',markerfacecolor='red', markersize=10,label='mean_train_score')\n",
        "# plt.title('Score vs C for T/F dichtomoty',size=15)\n",
        "# plt.xlabel('C',size=15)\n",
        "# plt.ylabel('Score',size=15)\n",
        "# plt.legend()\n",
        "# plt.show()\n",
        "\n",
        "# plt.figure(figsize=(10,6))\n",
        "# plt.plot(results_TF2['param_gamma'],results_TF2['mean_test_score'],color='red',markerfacecolor='red', markersize=10,label='mean_validation_score')\n",
        "# plt.plot(results_TF2['param_gamma'],results_TF2['mean_train_score'],color='blue',markerfacecolor='red', markersize=10,label='mean_train_score')\n",
        "# plt.title('Score vs Gamma for T/F dichtomoty',size=15)\n",
        "# plt.xlabel('Gamma',size=15)\n",
        "# plt.ylabel('Score',size=15)\n",
        "# plt.legend()\n",
        "# plt.show()\n",
        "\n",
        "# #JP\n",
        "# # plt.figure(figsize=(10,6))\n",
        "# # plt.plot(results_JP1['param_C'],results_JP1['mean_test_score'],color='red',markerfacecolor='red', markersize=10,label='mean_validation_score')\n",
        "# # plt.plot(results_JP1['param_C'],results_JP1['mean_train_score'],color='blue',markerfacecolor='red', markersize=10,label='mean_train_score')\n",
        "# # plt.title('Score vs C for J/P dichtomoty',size=15)\n",
        "# # plt.xlabel('C',size=15)\n",
        "# # plt.ylabel('Score',size=15)\n",
        "# # plt.legend()\n",
        "# # plt.show()\n",
        "\n",
        "# plt.figure(figsize=(10,6))\n",
        "# plt.plot(results_JP2['param_gamma'],results_JP2['mean_test_score'],color='red',markerfacecolor='red', markersize=10,label='mean_validation_score')\n",
        "# plt.plot(results_JP2['param_gamma'],results_JP2['mean_train_score'],color='blue',markerfacecolor='red', markersize=10,label='mean_train_score')\n",
        "# plt.title('Score vs Gamma for J/P dichtomoty',size=15)\n",
        "# plt.xlabel('Gamma',size=15)\n",
        "# plt.ylabel('Score',size=15)\n",
        "# plt.legend()\n",
        "# plt.show()"
      ]
    },
    {
      "cell_type": "markdown",
      "metadata": {
        "id": "JW6Y-kx3r3Z4"
      },
      "source": [
        "### Train best model on full train set"
      ]
    },
    {
      "cell_type": "markdown",
      "metadata": {
        "id": "PBpUQdZ6l2BF"
      },
      "source": [
        "### Define and fit the best model"
      ]
    },
    {
      "cell_type": "code",
      "execution_count": null,
      "metadata": {
        "execution": {
          "iopub.execute_input": "2022-10-26T10:43:39.028401Z",
          "iopub.status.busy": "2022-10-26T10:43:39.027813Z",
          "iopub.status.idle": "2022-10-26T10:43:39.032080Z",
          "shell.execute_reply": "2022-10-26T10:43:39.031580Z",
          "shell.execute_reply.started": "2022-10-26T10:43:39.028380Z"
        },
        "id": "WIFF9Zsnr7hW"
      },
      "outputs": [],
      "source": [
        "# IE\n",
        "tunedIE = SVC(probability=True, C=1, gamma='scale')\n",
        "\n",
        "\n",
        "#NS\n",
        "tunedNS = SVC(probability=True, C=1 , gamma='scale' )\n",
        "\n",
        "#TF\n",
        "tunedTF = SVC(probability=True, C=1 , gamma='scale' )\n",
        "\n",
        "#JP\n",
        "tunedJP = SVC(probability=True, C=1 , gamma='scale' )"
      ]
    },
    {
      "cell_type": "code",
      "execution_count": null,
      "metadata": {
        "execution": {
          "iopub.execute_input": "2022-10-26T10:43:39.032881Z",
          "iopub.status.busy": "2022-10-26T10:43:39.032711Z",
          "iopub.status.idle": "2022-10-26T10:46:06.342760Z",
          "shell.execute_reply": "2022-10-26T10:46:06.342227Z",
          "shell.execute_reply.started": "2022-10-26T10:43:39.032864Z"
        },
        "id": "aiqi-gzfl2BF",
        "outputId": "badb3ebd-240b-49fa-853d-3ee7fdbe51c4"
      },
      "outputs": [
        {
          "data": {
            "text/html": [
              "<style>#sk-container-id-2 {color: black;background-color: white;}#sk-container-id-2 pre{padding: 0;}#sk-container-id-2 div.sk-toggleable {background-color: white;}#sk-container-id-2 label.sk-toggleable__label {cursor: pointer;display: block;width: 100%;margin-bottom: 0;padding: 0.3em;box-sizing: border-box;text-align: center;}#sk-container-id-2 label.sk-toggleable__label-arrow:before {content: \"▸\";float: left;margin-right: 0.25em;color: #696969;}#sk-container-id-2 label.sk-toggleable__label-arrow:hover:before {color: black;}#sk-container-id-2 div.sk-estimator:hover label.sk-toggleable__label-arrow:before {color: black;}#sk-container-id-2 div.sk-toggleable__content {max-height: 0;max-width: 0;overflow: hidden;text-align: left;background-color: #f0f8ff;}#sk-container-id-2 div.sk-toggleable__content pre {margin: 0.2em;color: black;border-radius: 0.25em;background-color: #f0f8ff;}#sk-container-id-2 input.sk-toggleable__control:checked~div.sk-toggleable__content {max-height: 200px;max-width: 100%;overflow: auto;}#sk-container-id-2 input.sk-toggleable__control:checked~label.sk-toggleable__label-arrow:before {content: \"▾\";}#sk-container-id-2 div.sk-estimator input.sk-toggleable__control:checked~label.sk-toggleable__label {background-color: #d4ebff;}#sk-container-id-2 div.sk-label input.sk-toggleable__control:checked~label.sk-toggleable__label {background-color: #d4ebff;}#sk-container-id-2 input.sk-hidden--visually {border: 0;clip: rect(1px 1px 1px 1px);clip: rect(1px, 1px, 1px, 1px);height: 1px;margin: -1px;overflow: hidden;padding: 0;position: absolute;width: 1px;}#sk-container-id-2 div.sk-estimator {font-family: monospace;background-color: #f0f8ff;border: 1px dotted black;border-radius: 0.25em;box-sizing: border-box;margin-bottom: 0.5em;}#sk-container-id-2 div.sk-estimator:hover {background-color: #d4ebff;}#sk-container-id-2 div.sk-parallel-item::after {content: \"\";width: 100%;border-bottom: 1px solid gray;flex-grow: 1;}#sk-container-id-2 div.sk-label:hover label.sk-toggleable__label {background-color: #d4ebff;}#sk-container-id-2 div.sk-serial::before {content: \"\";position: absolute;border-left: 1px solid gray;box-sizing: border-box;top: 0;bottom: 0;left: 50%;z-index: 0;}#sk-container-id-2 div.sk-serial {display: flex;flex-direction: column;align-items: center;background-color: white;padding-right: 0.2em;padding-left: 0.2em;position: relative;}#sk-container-id-2 div.sk-item {position: relative;z-index: 1;}#sk-container-id-2 div.sk-parallel {display: flex;align-items: stretch;justify-content: center;background-color: white;position: relative;}#sk-container-id-2 div.sk-item::before, #sk-container-id-2 div.sk-parallel-item::before {content: \"\";position: absolute;border-left: 1px solid gray;box-sizing: border-box;top: 0;bottom: 0;left: 50%;z-index: -1;}#sk-container-id-2 div.sk-parallel-item {display: flex;flex-direction: column;z-index: 1;position: relative;background-color: white;}#sk-container-id-2 div.sk-parallel-item:first-child::after {align-self: flex-end;width: 50%;}#sk-container-id-2 div.sk-parallel-item:last-child::after {align-self: flex-start;width: 50%;}#sk-container-id-2 div.sk-parallel-item:only-child::after {width: 0;}#sk-container-id-2 div.sk-dashed-wrapped {border: 1px dashed gray;margin: 0 0.4em 0.5em 0.4em;box-sizing: border-box;padding-bottom: 0.4em;background-color: white;}#sk-container-id-2 div.sk-label label {font-family: monospace;font-weight: bold;display: inline-block;line-height: 1.2em;}#sk-container-id-2 div.sk-label-container {text-align: center;}#sk-container-id-2 div.sk-container {/* jupyter's `normalize.less` sets `[hidden] { display: none; }` but bootstrap.min.css set `[hidden] { display: none !important; }` so we also need the `!important` here to be able to override the default hidden behavior on the sphinx rendered scikit-learn.org. See: https://github.com/scikit-learn/scikit-learn/issues/21755 */display: inline-block !important;position: relative;}#sk-container-id-2 div.sk-text-repr-fallback {display: none;}</style><div id=\"sk-container-id-2\" class=\"sk-top-container\"><div class=\"sk-text-repr-fallback\"><pre>SVC(C=1, probability=True)</pre><b>In a Jupyter environment, please rerun this cell to show the HTML representation or trust the notebook. <br />On GitHub, the HTML representation is unable to render, please try loading this page with nbviewer.org.</b></div><div class=\"sk-container\" hidden><div class=\"sk-item\"><div class=\"sk-estimator sk-toggleable\"><input class=\"sk-toggleable__control sk-hidden--visually\" id=\"sk-estimator-id-2\" type=\"checkbox\" checked><label for=\"sk-estimator-id-2\" class=\"sk-toggleable__label sk-toggleable__label-arrow\">SVC</label><div class=\"sk-toggleable__content\"><pre>SVC(C=1, probability=True)</pre></div></div></div></div></div>"
            ],
            "text/plain": [
              "SVC(C=1, probability=True)"
            ]
          },
          "execution_count": 98,
          "metadata": {},
          "output_type": "execute_result"
        }
      ],
      "source": [
        "tunedIE.fit(IE_Train_X_Tfidf,IE_Train_Y)"
      ]
    },
    {
      "cell_type": "code",
      "execution_count": null,
      "metadata": {
        "execution": {
          "iopub.execute_input": "2022-10-26T10:46:06.344625Z",
          "iopub.status.busy": "2022-10-26T10:46:06.343712Z",
          "iopub.status.idle": "2022-10-26T10:48:33.006095Z",
          "shell.execute_reply": "2022-10-26T10:48:33.005457Z",
          "shell.execute_reply.started": "2022-10-26T10:46:06.344601Z"
        },
        "id": "soLHcjC0l2BG",
        "outputId": "37312f52-e77c-4e21-fab4-a2e1400ad427"
      },
      "outputs": [
        {
          "data": {
            "text/html": [
              "<style>#sk-container-id-3 {color: black;background-color: white;}#sk-container-id-3 pre{padding: 0;}#sk-container-id-3 div.sk-toggleable {background-color: white;}#sk-container-id-3 label.sk-toggleable__label {cursor: pointer;display: block;width: 100%;margin-bottom: 0;padding: 0.3em;box-sizing: border-box;text-align: center;}#sk-container-id-3 label.sk-toggleable__label-arrow:before {content: \"▸\";float: left;margin-right: 0.25em;color: #696969;}#sk-container-id-3 label.sk-toggleable__label-arrow:hover:before {color: black;}#sk-container-id-3 div.sk-estimator:hover label.sk-toggleable__label-arrow:before {color: black;}#sk-container-id-3 div.sk-toggleable__content {max-height: 0;max-width: 0;overflow: hidden;text-align: left;background-color: #f0f8ff;}#sk-container-id-3 div.sk-toggleable__content pre {margin: 0.2em;color: black;border-radius: 0.25em;background-color: #f0f8ff;}#sk-container-id-3 input.sk-toggleable__control:checked~div.sk-toggleable__content {max-height: 200px;max-width: 100%;overflow: auto;}#sk-container-id-3 input.sk-toggleable__control:checked~label.sk-toggleable__label-arrow:before {content: \"▾\";}#sk-container-id-3 div.sk-estimator input.sk-toggleable__control:checked~label.sk-toggleable__label {background-color: #d4ebff;}#sk-container-id-3 div.sk-label input.sk-toggleable__control:checked~label.sk-toggleable__label {background-color: #d4ebff;}#sk-container-id-3 input.sk-hidden--visually {border: 0;clip: rect(1px 1px 1px 1px);clip: rect(1px, 1px, 1px, 1px);height: 1px;margin: -1px;overflow: hidden;padding: 0;position: absolute;width: 1px;}#sk-container-id-3 div.sk-estimator {font-family: monospace;background-color: #f0f8ff;border: 1px dotted black;border-radius: 0.25em;box-sizing: border-box;margin-bottom: 0.5em;}#sk-container-id-3 div.sk-estimator:hover {background-color: #d4ebff;}#sk-container-id-3 div.sk-parallel-item::after {content: \"\";width: 100%;border-bottom: 1px solid gray;flex-grow: 1;}#sk-container-id-3 div.sk-label:hover label.sk-toggleable__label {background-color: #d4ebff;}#sk-container-id-3 div.sk-serial::before {content: \"\";position: absolute;border-left: 1px solid gray;box-sizing: border-box;top: 0;bottom: 0;left: 50%;z-index: 0;}#sk-container-id-3 div.sk-serial {display: flex;flex-direction: column;align-items: center;background-color: white;padding-right: 0.2em;padding-left: 0.2em;position: relative;}#sk-container-id-3 div.sk-item {position: relative;z-index: 1;}#sk-container-id-3 div.sk-parallel {display: flex;align-items: stretch;justify-content: center;background-color: white;position: relative;}#sk-container-id-3 div.sk-item::before, #sk-container-id-3 div.sk-parallel-item::before {content: \"\";position: absolute;border-left: 1px solid gray;box-sizing: border-box;top: 0;bottom: 0;left: 50%;z-index: -1;}#sk-container-id-3 div.sk-parallel-item {display: flex;flex-direction: column;z-index: 1;position: relative;background-color: white;}#sk-container-id-3 div.sk-parallel-item:first-child::after {align-self: flex-end;width: 50%;}#sk-container-id-3 div.sk-parallel-item:last-child::after {align-self: flex-start;width: 50%;}#sk-container-id-3 div.sk-parallel-item:only-child::after {width: 0;}#sk-container-id-3 div.sk-dashed-wrapped {border: 1px dashed gray;margin: 0 0.4em 0.5em 0.4em;box-sizing: border-box;padding-bottom: 0.4em;background-color: white;}#sk-container-id-3 div.sk-label label {font-family: monospace;font-weight: bold;display: inline-block;line-height: 1.2em;}#sk-container-id-3 div.sk-label-container {text-align: center;}#sk-container-id-3 div.sk-container {/* jupyter's `normalize.less` sets `[hidden] { display: none; }` but bootstrap.min.css set `[hidden] { display: none !important; }` so we also need the `!important` here to be able to override the default hidden behavior on the sphinx rendered scikit-learn.org. See: https://github.com/scikit-learn/scikit-learn/issues/21755 */display: inline-block !important;position: relative;}#sk-container-id-3 div.sk-text-repr-fallback {display: none;}</style><div id=\"sk-container-id-3\" class=\"sk-top-container\"><div class=\"sk-text-repr-fallback\"><pre>SVC(C=1, probability=True)</pre><b>In a Jupyter environment, please rerun this cell to show the HTML representation or trust the notebook. <br />On GitHub, the HTML representation is unable to render, please try loading this page with nbviewer.org.</b></div><div class=\"sk-container\" hidden><div class=\"sk-item\"><div class=\"sk-estimator sk-toggleable\"><input class=\"sk-toggleable__control sk-hidden--visually\" id=\"sk-estimator-id-3\" type=\"checkbox\" checked><label for=\"sk-estimator-id-3\" class=\"sk-toggleable__label sk-toggleable__label-arrow\">SVC</label><div class=\"sk-toggleable__content\"><pre>SVC(C=1, probability=True)</pre></div></div></div></div></div>"
            ],
            "text/plain": [
              "SVC(C=1, probability=True)"
            ]
          },
          "execution_count": 99,
          "metadata": {},
          "output_type": "execute_result"
        }
      ],
      "source": [
        "tunedNS.fit(NS_Train_X_Tfidf,NS_Train_Y)"
      ]
    },
    {
      "cell_type": "code",
      "execution_count": null,
      "metadata": {
        "execution": {
          "iopub.execute_input": "2022-10-26T10:52:57.840746Z",
          "iopub.status.busy": "2022-10-26T10:52:57.840082Z",
          "iopub.status.idle": "2022-10-26T10:55:25.121865Z",
          "shell.execute_reply": "2022-10-26T10:55:25.121327Z",
          "shell.execute_reply.started": "2022-10-26T10:52:57.840719Z"
        },
        "id": "-p-n8MsGl2BG",
        "outputId": "4d1abedd-842f-42f0-bc56-205f4ba731f2"
      },
      "outputs": [
        {
          "data": {
            "text/html": [
              "<style>#sk-container-id-4 {color: black;background-color: white;}#sk-container-id-4 pre{padding: 0;}#sk-container-id-4 div.sk-toggleable {background-color: white;}#sk-container-id-4 label.sk-toggleable__label {cursor: pointer;display: block;width: 100%;margin-bottom: 0;padding: 0.3em;box-sizing: border-box;text-align: center;}#sk-container-id-4 label.sk-toggleable__label-arrow:before {content: \"▸\";float: left;margin-right: 0.25em;color: #696969;}#sk-container-id-4 label.sk-toggleable__label-arrow:hover:before {color: black;}#sk-container-id-4 div.sk-estimator:hover label.sk-toggleable__label-arrow:before {color: black;}#sk-container-id-4 div.sk-toggleable__content {max-height: 0;max-width: 0;overflow: hidden;text-align: left;background-color: #f0f8ff;}#sk-container-id-4 div.sk-toggleable__content pre {margin: 0.2em;color: black;border-radius: 0.25em;background-color: #f0f8ff;}#sk-container-id-4 input.sk-toggleable__control:checked~div.sk-toggleable__content {max-height: 200px;max-width: 100%;overflow: auto;}#sk-container-id-4 input.sk-toggleable__control:checked~label.sk-toggleable__label-arrow:before {content: \"▾\";}#sk-container-id-4 div.sk-estimator input.sk-toggleable__control:checked~label.sk-toggleable__label {background-color: #d4ebff;}#sk-container-id-4 div.sk-label input.sk-toggleable__control:checked~label.sk-toggleable__label {background-color: #d4ebff;}#sk-container-id-4 input.sk-hidden--visually {border: 0;clip: rect(1px 1px 1px 1px);clip: rect(1px, 1px, 1px, 1px);height: 1px;margin: -1px;overflow: hidden;padding: 0;position: absolute;width: 1px;}#sk-container-id-4 div.sk-estimator {font-family: monospace;background-color: #f0f8ff;border: 1px dotted black;border-radius: 0.25em;box-sizing: border-box;margin-bottom: 0.5em;}#sk-container-id-4 div.sk-estimator:hover {background-color: #d4ebff;}#sk-container-id-4 div.sk-parallel-item::after {content: \"\";width: 100%;border-bottom: 1px solid gray;flex-grow: 1;}#sk-container-id-4 div.sk-label:hover label.sk-toggleable__label {background-color: #d4ebff;}#sk-container-id-4 div.sk-serial::before {content: \"\";position: absolute;border-left: 1px solid gray;box-sizing: border-box;top: 0;bottom: 0;left: 50%;z-index: 0;}#sk-container-id-4 div.sk-serial {display: flex;flex-direction: column;align-items: center;background-color: white;padding-right: 0.2em;padding-left: 0.2em;position: relative;}#sk-container-id-4 div.sk-item {position: relative;z-index: 1;}#sk-container-id-4 div.sk-parallel {display: flex;align-items: stretch;justify-content: center;background-color: white;position: relative;}#sk-container-id-4 div.sk-item::before, #sk-container-id-4 div.sk-parallel-item::before {content: \"\";position: absolute;border-left: 1px solid gray;box-sizing: border-box;top: 0;bottom: 0;left: 50%;z-index: -1;}#sk-container-id-4 div.sk-parallel-item {display: flex;flex-direction: column;z-index: 1;position: relative;background-color: white;}#sk-container-id-4 div.sk-parallel-item:first-child::after {align-self: flex-end;width: 50%;}#sk-container-id-4 div.sk-parallel-item:last-child::after {align-self: flex-start;width: 50%;}#sk-container-id-4 div.sk-parallel-item:only-child::after {width: 0;}#sk-container-id-4 div.sk-dashed-wrapped {border: 1px dashed gray;margin: 0 0.4em 0.5em 0.4em;box-sizing: border-box;padding-bottom: 0.4em;background-color: white;}#sk-container-id-4 div.sk-label label {font-family: monospace;font-weight: bold;display: inline-block;line-height: 1.2em;}#sk-container-id-4 div.sk-label-container {text-align: center;}#sk-container-id-4 div.sk-container {/* jupyter's `normalize.less` sets `[hidden] { display: none; }` but bootstrap.min.css set `[hidden] { display: none !important; }` so we also need the `!important` here to be able to override the default hidden behavior on the sphinx rendered scikit-learn.org. See: https://github.com/scikit-learn/scikit-learn/issues/21755 */display: inline-block !important;position: relative;}#sk-container-id-4 div.sk-text-repr-fallback {display: none;}</style><div id=\"sk-container-id-4\" class=\"sk-top-container\"><div class=\"sk-text-repr-fallback\"><pre>SVC(C=1, probability=True)</pre><b>In a Jupyter environment, please rerun this cell to show the HTML representation or trust the notebook. <br />On GitHub, the HTML representation is unable to render, please try loading this page with nbviewer.org.</b></div><div class=\"sk-container\" hidden><div class=\"sk-item\"><div class=\"sk-estimator sk-toggleable\"><input class=\"sk-toggleable__control sk-hidden--visually\" id=\"sk-estimator-id-4\" type=\"checkbox\" checked><label for=\"sk-estimator-id-4\" class=\"sk-toggleable__label sk-toggleable__label-arrow\">SVC</label><div class=\"sk-toggleable__content\"><pre>SVC(C=1, probability=True)</pre></div></div></div></div></div>"
            ],
            "text/plain": [
              "SVC(C=1, probability=True)"
            ]
          },
          "execution_count": 103,
          "metadata": {},
          "output_type": "execute_result"
        }
      ],
      "source": [
        "tunedTF.fit(TF_Train_X_Tfidf,TF_Train_Y)"
      ]
    },
    {
      "cell_type": "code",
      "execution_count": null,
      "metadata": {
        "execution": {
          "iopub.execute_input": "2022-10-26T10:55:25.123334Z",
          "iopub.status.busy": "2022-10-26T10:55:25.123129Z",
          "iopub.status.idle": "2022-10-26T10:57:53.725599Z",
          "shell.execute_reply": "2022-10-26T10:57:53.724878Z",
          "shell.execute_reply.started": "2022-10-26T10:55:25.123316Z"
        },
        "id": "cTwO9OEgl2BH",
        "outputId": "05c54fbe-a37f-4f50-b68e-71b0a58e8e2a"
      },
      "outputs": [
        {
          "data": {
            "text/html": [
              "<style>#sk-container-id-5 {color: black;background-color: white;}#sk-container-id-5 pre{padding: 0;}#sk-container-id-5 div.sk-toggleable {background-color: white;}#sk-container-id-5 label.sk-toggleable__label {cursor: pointer;display: block;width: 100%;margin-bottom: 0;padding: 0.3em;box-sizing: border-box;text-align: center;}#sk-container-id-5 label.sk-toggleable__label-arrow:before {content: \"▸\";float: left;margin-right: 0.25em;color: #696969;}#sk-container-id-5 label.sk-toggleable__label-arrow:hover:before {color: black;}#sk-container-id-5 div.sk-estimator:hover label.sk-toggleable__label-arrow:before {color: black;}#sk-container-id-5 div.sk-toggleable__content {max-height: 0;max-width: 0;overflow: hidden;text-align: left;background-color: #f0f8ff;}#sk-container-id-5 div.sk-toggleable__content pre {margin: 0.2em;color: black;border-radius: 0.25em;background-color: #f0f8ff;}#sk-container-id-5 input.sk-toggleable__control:checked~div.sk-toggleable__content {max-height: 200px;max-width: 100%;overflow: auto;}#sk-container-id-5 input.sk-toggleable__control:checked~label.sk-toggleable__label-arrow:before {content: \"▾\";}#sk-container-id-5 div.sk-estimator input.sk-toggleable__control:checked~label.sk-toggleable__label {background-color: #d4ebff;}#sk-container-id-5 div.sk-label input.sk-toggleable__control:checked~label.sk-toggleable__label {background-color: #d4ebff;}#sk-container-id-5 input.sk-hidden--visually {border: 0;clip: rect(1px 1px 1px 1px);clip: rect(1px, 1px, 1px, 1px);height: 1px;margin: -1px;overflow: hidden;padding: 0;position: absolute;width: 1px;}#sk-container-id-5 div.sk-estimator {font-family: monospace;background-color: #f0f8ff;border: 1px dotted black;border-radius: 0.25em;box-sizing: border-box;margin-bottom: 0.5em;}#sk-container-id-5 div.sk-estimator:hover {background-color: #d4ebff;}#sk-container-id-5 div.sk-parallel-item::after {content: \"\";width: 100%;border-bottom: 1px solid gray;flex-grow: 1;}#sk-container-id-5 div.sk-label:hover label.sk-toggleable__label {background-color: #d4ebff;}#sk-container-id-5 div.sk-serial::before {content: \"\";position: absolute;border-left: 1px solid gray;box-sizing: border-box;top: 0;bottom: 0;left: 50%;z-index: 0;}#sk-container-id-5 div.sk-serial {display: flex;flex-direction: column;align-items: center;background-color: white;padding-right: 0.2em;padding-left: 0.2em;position: relative;}#sk-container-id-5 div.sk-item {position: relative;z-index: 1;}#sk-container-id-5 div.sk-parallel {display: flex;align-items: stretch;justify-content: center;background-color: white;position: relative;}#sk-container-id-5 div.sk-item::before, #sk-container-id-5 div.sk-parallel-item::before {content: \"\";position: absolute;border-left: 1px solid gray;box-sizing: border-box;top: 0;bottom: 0;left: 50%;z-index: -1;}#sk-container-id-5 div.sk-parallel-item {display: flex;flex-direction: column;z-index: 1;position: relative;background-color: white;}#sk-container-id-5 div.sk-parallel-item:first-child::after {align-self: flex-end;width: 50%;}#sk-container-id-5 div.sk-parallel-item:last-child::after {align-self: flex-start;width: 50%;}#sk-container-id-5 div.sk-parallel-item:only-child::after {width: 0;}#sk-container-id-5 div.sk-dashed-wrapped {border: 1px dashed gray;margin: 0 0.4em 0.5em 0.4em;box-sizing: border-box;padding-bottom: 0.4em;background-color: white;}#sk-container-id-5 div.sk-label label {font-family: monospace;font-weight: bold;display: inline-block;line-height: 1.2em;}#sk-container-id-5 div.sk-label-container {text-align: center;}#sk-container-id-5 div.sk-container {/* jupyter's `normalize.less` sets `[hidden] { display: none; }` but bootstrap.min.css set `[hidden] { display: none !important; }` so we also need the `!important` here to be able to override the default hidden behavior on the sphinx rendered scikit-learn.org. See: https://github.com/scikit-learn/scikit-learn/issues/21755 */display: inline-block !important;position: relative;}#sk-container-id-5 div.sk-text-repr-fallback {display: none;}</style><div id=\"sk-container-id-5\" class=\"sk-top-container\"><div class=\"sk-text-repr-fallback\"><pre>SVC(C=1, probability=True)</pre><b>In a Jupyter environment, please rerun this cell to show the HTML representation or trust the notebook. <br />On GitHub, the HTML representation is unable to render, please try loading this page with nbviewer.org.</b></div><div class=\"sk-container\" hidden><div class=\"sk-item\"><div class=\"sk-estimator sk-toggleable\"><input class=\"sk-toggleable__control sk-hidden--visually\" id=\"sk-estimator-id-5\" type=\"checkbox\" checked><label for=\"sk-estimator-id-5\" class=\"sk-toggleable__label sk-toggleable__label-arrow\">SVC</label><div class=\"sk-toggleable__content\"><pre>SVC(C=1, probability=True)</pre></div></div></div></div></div>"
            ],
            "text/plain": [
              "SVC(C=1, probability=True)"
            ]
          },
          "execution_count": 104,
          "metadata": {},
          "output_type": "execute_result"
        }
      ],
      "source": [
        "tunedJP.fit(JP_Train_X_Tfidf,JP_Train_Y)"
      ]
    },
    {
      "cell_type": "markdown",
      "metadata": {
        "id": "4xZ5Fb1_l2BH"
      },
      "source": [
        "### Results of tunes models on unseen test sets"
      ]
    },
    {
      "cell_type": "code",
      "execution_count": null,
      "metadata": {
        "execution": {
          "iopub.execute_input": "2022-10-26T10:57:53.726679Z",
          "iopub.status.busy": "2022-10-26T10:57:53.726454Z",
          "iopub.status.idle": "2022-10-26T10:58:20.952243Z",
          "shell.execute_reply": "2022-10-26T10:58:20.951477Z",
          "shell.execute_reply.started": "2022-10-26T10:57:53.726659Z"
        },
        "id": "4wlPvga0sLLI"
      },
      "outputs": [],
      "source": [
        "#IE\n",
        "IE_predictions=tunedIE.predict(IE_Test_X_Tfidf)\n",
        "\n",
        "#NS\n",
        "NS_predictions=tunedNS.predict(NS_Test_X_Tfidf)\n",
        "\n",
        "#TF\n",
        "TF_predictions=tunedTF.predict(TF_Test_X_Tfidf)\n",
        "\n",
        "# #JP\n",
        "JP_predictions=tunedJP.predict(JP_Test_X_Tfidf)"
      ]
    },
    {
      "cell_type": "markdown",
      "metadata": {
        "id": "cDJ482-F1J6-"
      },
      "source": [
        "IE"
      ]
    },
    {
      "cell_type": "code",
      "execution_count": null,
      "metadata": {
        "execution": {
          "iopub.execute_input": "2022-10-26T10:58:20.954445Z",
          "iopub.status.busy": "2022-10-26T10:58:20.953840Z",
          "iopub.status.idle": "2022-10-26T10:58:21.058881Z",
          "shell.execute_reply": "2022-10-26T10:58:21.058125Z",
          "shell.execute_reply.started": "2022-10-26T10:58:20.954421Z"
        },
        "id": "HfIO2kvHsci0",
        "outputId": "9aaf9e24-1448-4285-ab2c-0e54df86c10a"
      },
      "outputs": [
        {
          "data": {
            "image/png": "[encoded data removed]",
            "text/plain": [
              "<Figure size 432x288 with 2 Axes>"
            ]
          },
          "metadata": {
            "needs_background": "light"
          },
          "output_type": "display_data"
        },
        {
          "name": "stdout",
          "output_type": "stream",
          "text": [
            "              precision    recall  f1-score   support\n",
            "\n",
            "           0       0.38      0.70      0.49       183\n",
            "           1       0.90      0.69      0.78       685\n",
            "\n",
            "    accuracy                           0.70       868\n",
            "   macro avg       0.64      0.70      0.64       868\n",
            "weighted avg       0.79      0.70      0.72       868\n",
            "\n",
            "0.6971720314307367\n"
          ]
        }
      ],
      "source": [
        "from sklearn.metrics import confusion_matrix\n",
        "from sklearn.metrics import classification_report\n",
        "from sklearn.metrics import balanced_accuracy_score\n",
        "\n",
        "\n",
        "IE_confusion = confusion_matrix(IE_Test_Y, IE_predictions)\n",
        "IE_cm_display = metrics.ConfusionMatrixDisplay(confusion_matrix = IE_confusion, display_labels = ['Extroversion', 'Introversion'])\n",
        "IE_cm_display.plot()\n",
        "plt.show()\n",
        "print(classification_report(IE_Test_Y, IE_predictions))\n",
        "accuracyIE= balanced_accuracy_score(IE_Test_Y, IE_predictions)\n",
        "print(\"Balanced Accuracy for Introversion (I) / Extroversion (E): \",accuracyIE, \"\\n\")\n",
        "print(\"\\n\")"
      ]
    },
    {
      "cell_type": "markdown",
      "metadata": {
        "id": "_S8bYRU11K5o"
      },
      "source": [
        "NS"
      ]
    },
    {
      "cell_type": "code",
      "execution_count": null,
      "metadata": {
        "execution": {
          "iopub.execute_input": "2022-10-26T10:58:21.060033Z",
          "iopub.status.busy": "2022-10-26T10:58:21.059787Z",
          "iopub.status.idle": "2022-10-26T10:58:21.166492Z",
          "shell.execute_reply": "2022-10-26T10:58:21.165850Z",
          "shell.execute_reply.started": "2022-10-26T10:58:21.060012Z"
        },
        "id": "zkH_R5NV1GzM",
        "outputId": "f2d8323a-0a04-4840-8333-686daaeb49a5"
      },
      "outputs": [
        {
          "name": "stdout",
          "output_type": "stream",
          "text": [
            "Classification Report for Intuition (N)/ Sensing (S): \n",
            " \n",
            "              precision    recall  f1-score   support\n",
            "\n",
            "           0       0.16      0.43      0.24       128\n",
            "           1       0.86      0.62      0.72       740\n",
            "\n",
            "    accuracy                           0.59       868\n",
            "   macro avg       0.51      0.52      0.48       868\n",
            "weighted avg       0.76      0.59      0.65       868\n",
            "\n",
            "Accuracy for Intuition (N)/ Sensing (S):  0.5243032094594595 \n",
            "\n",
            "\n",
            "\n"
          ]
        },
        {
          "data": {
            "image/png": "[encoded data removed]",
            "text/plain": [
              "<Figure size 432x288 with 2 Axes>"
            ]
          },
          "metadata": {
            "needs_background": "light"
          },
          "output_type": "display_data"
        }
      ],
      "source": [
        "#Classification Report for Intuition (N)/ Sensing (S)\n",
        "print(\"Classification Report for Intuition (N)/ Sensing (S): \\n \")\n",
        "print(classification_report(NS_Test_Y, NS_predictions))\n",
        "accuracyNS=balanced_accuracy_score(NS_Test_Y,NS_predictions)\n",
        "print(\"Balanced Accuracy for Intuition (N)/ Sensing (S): \",accuracyNS, \"\\n\")\n",
        "print(\"\\n\")\n",
        "\n",
        "#CAonfusion matrix\n",
        "NS_confusion = confusion_matrix(NS_Test_Y, NS_predictions)\n",
        "NS_cm_display = metrics.ConfusionMatrixDisplay(confusion_matrix = NS_confusion, display_labels = ['Sensing', 'Intuition'])\n",
        "NS_cm_display.plot()\n",
        "plt.show()"
      ]
    },
    {
      "cell_type": "markdown",
      "metadata": {
        "id": "SZSbhAfL1jwm"
      },
      "source": [
        "TF"
      ]
    },
    {
      "cell_type": "code",
      "execution_count": null,
      "metadata": {
        "execution": {
          "iopub.execute_input": "2022-10-26T10:58:21.167924Z",
          "iopub.status.busy": "2022-10-26T10:58:21.167682Z",
          "iopub.status.idle": "2022-10-26T10:58:28.065682Z",
          "shell.execute_reply": "2022-10-26T10:58:28.065032Z",
          "shell.execute_reply.started": "2022-10-26T10:58:21.167900Z"
        },
        "id": "QRw13IxJ1lOt",
        "outputId": "484dfa4c-b7e7-4d0c-f373-fc1f476bcd9c"
      },
      "outputs": [
        {
          "name": "stdout",
          "output_type": "stream",
          "text": [
            "Classification Report for Thinking (T)/ Feeling(F): \n",
            " \n",
            "              precision    recall  f1-score   support\n",
            "\n",
            "           0       0.57      0.40      0.47       478\n",
            "           1       0.46      0.63      0.53       390\n",
            "\n",
            "    accuracy                           0.50       868\n",
            "   macro avg       0.52      0.51      0.50       868\n",
            "weighted avg       0.52      0.50      0.50       868\n",
            "\n",
            "Accuracy for Thinking (T)/ Feeling(F):  0.5149393841862461 \n",
            "\n",
            "\n",
            "\n"
          ]
        },
        {
          "data": {
            "image/png": "[encoded data removed]",
            "text/plain": [
              "<Figure size 432x288 with 2 Axes>"
            ]
          },
          "metadata": {
            "needs_background": "light"
          },
          "output_type": "display_data"
        },
        {
          "data": {
            "text/plain": [
              "<matplotlib.legend.Legend at 0x7ff7b3695700>"
            ]
          },
          "execution_count": 108,
          "metadata": {},
          "output_type": "execute_result"
        },
        {
          "data": {
            "image/png": "[encoded data removed]",
            "text/plain": [
              "<Figure size 432x288 with 1 Axes>"
            ]
          },
          "metadata": {
            "needs_background": "light"
          },
          "output_type": "display_data"
        }
      ],
      "source": [
        "#Classification Report for Thinking (T)/ Feeling(F)\n",
        "print(\"Classification Report for Thinking (T)/ Feeling(F): \\n \")\n",
        "print(classification_report(TF_Test_Y, TF_predictions))\n",
        "accuracyTF=balanced_accuracy_score(TF_Test_Y,TF_predictions)\n",
        "print(\"Balanced Accuracy for Thinking (T)/ Feeling(F): \",accuracyTF, \"\\n\")\n",
        "print(\"\\n\")\n",
        "\n",
        "#CAonfusion matrix\n",
        "TF_confusion = confusion_matrix(TF_Test_Y, TF_predictions)\n",
        "TF_cm_display = metrics.ConfusionMatrixDisplay(confusion_matrix = TF_confusion, display_labels = ['Feeling', 'Thinking'])\n",
        "TF_cm_display.plot()\n",
        "plt.show()\n"
      ]
    },
    {
      "cell_type": "markdown",
      "metadata": {
        "id": "5V96mj7s2uwO"
      },
      "source": [
        "JP"
      ]
    },
    {
      "cell_type": "code",
      "execution_count": null,
      "metadata": {
        "execution": {
          "iopub.execute_input": "2022-10-26T10:58:28.067139Z",
          "iopub.status.busy": "2022-10-26T10:58:28.066904Z",
          "iopub.status.idle": "2022-10-26T10:58:35.081843Z",
          "shell.execute_reply": "2022-10-26T10:58:35.081156Z",
          "shell.execute_reply.started": "2022-10-26T10:58:28.067118Z"
        },
        "id": "tpgvzXjG2viR",
        "outputId": "d64d79d3-bb2a-4d0d-9794-90fa5f4b2f1f"
      },
      "outputs": [
        {
          "name": "stdout",
          "output_type": "stream",
          "text": [
            "Classification Report for Judging (J)/ Perceiving (P): \n",
            " \n",
            "              precision    recall  f1-score   support\n",
            "\n",
            "           0       0.60      0.40      0.48       502\n",
            "           1       0.44      0.63      0.52       366\n",
            "\n",
            "    accuracy                           0.50       868\n",
            "   macro avg       0.52      0.52      0.50       868\n",
            "weighted avg       0.53      0.50      0.50       868\n",
            "\n",
            "Accuracy for Judging (J)/ Perceiving (P):  0.5191311257701434 \n",
            "\n",
            "\n",
            "\n"
          ]
        },
        {
          "data": {
            "image/png": "[encoded data removed]",
            "text/plain": [
              "<Figure size 432x288 with 2 Axes>"
            ]
          },
          "metadata": {
            "needs_background": "light"
          },
          "output_type": "display_data"
        },
        {
          "data": {
            "text/plain": [
              "<matplotlib.legend.Legend at 0x7ff7b3695cd0>"
            ]
          },
          "execution_count": 109,
          "metadata": {},
          "output_type": "execute_result"
        },
        {
          "data": {
            "image/png": "[encoded data removed]",
            "text/plain": [
              "<Figure size 432x288 with 1 Axes>"
            ]
          },
          "metadata": {
            "needs_background": "light"
          },
          "output_type": "display_data"
        }
      ],
      "source": [
        "#Classification Report for Judging (J)/ Perceiving (P)\n",
        "print(\"Classification Report for Judging (J)/ Perceiving (P): \\n \")\n",
        "print(classification_report(JP_Test_Y, JP_predictions))\n",
        "accuracyJP=balanced_accuracy_score(JP_Test_Y,JP_predictions)\n",
        "print(\"Balanced Accuracy for Judging (J)/ Perceiving (P): \",accuracyJP, \"\\n\")\n",
        "print(\"\\n\")\n",
        "\n",
        "#CAonfusion matrix\n",
        "JP_confusion = confusion_matrix(JP_Test_Y, JP_predictions)\n",
        "JP_cm_display = metrics.ConfusionMatrixDisplay(confusion_matrix = JP_confusion, display_labels = ['Perceiving', 'Judging'])\n",
        "JP_cm_display.plot()\n",
        "plt.show()"
      ]
    }
  ],
  "metadata": {
    "accelerator": "GPU",
    "colab": {
      "provenance": [],
      "include_colab_link": true
    },
    "kernelspec": {
      "display_name": "Python 3 (ipykernel)",
      "language": "python",
      "name": "python3"
    },
    "language_info": {
      "codemirror_mode": {
        "name": "ipython",
        "version": 3
      },
      "file_extension": ".py",
      "mimetype": "text/x-python",
      "name": "python",
      "nbconvert_exporter": "python",
      "pygments_lexer": "ipython3",
      "version": "3.9.13"
    }
  },
  "nbformat": 4,
  "nbformat_minor": 0
}